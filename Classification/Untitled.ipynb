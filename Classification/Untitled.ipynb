{
 "cells": [
  {
   "cell_type": "code",
   "execution_count": 61,
   "metadata": {},
   "outputs": [],
   "source": [
    "#importing required libraries\n",
    "\n",
    "import numpy as np\n",
    "import pandas as pd\n",
    "import matplotlib.pyplot as plt\n",
    "%matplotlib inline\n",
    "import seaborn as sns\n",
    "import warnings \n",
    "warnings.filterwarnings(\"ignore\")\n",
    "from sklearn import metrics \n",
    "from sklearn.decomposition import PCA\n",
    "from keras.models import Sequential"
   ]
  },
  {
   "cell_type": "code",
   "execution_count": 62,
   "metadata": {},
   "outputs": [],
   "source": [
    "#Loading traning data into dataframe\n",
    "\n",
    "train_dataframe = pd.read_csv(\"input/sign_mnist_train.csv\")\n",
    "\n",
    "#Loading testing data into dataframe\n",
    "\n",
    "test_dataframe = pd.read_csv(\"input/sign_mnist_test.csv\")"
   ]
  },
  {
   "cell_type": "code",
   "execution_count": 106,
   "metadata": {},
   "outputs": [],
   "source": [
    "# Converting the pandas Dataframe into Numpy Arrays\n",
    "\n",
    "inputs_array_train = train_dataframe.iloc[:, 1:].to_numpy()\n",
    "targets_array_train = train_dataframe['label'].to_numpy()\n",
    "inputs_array_test = test_dataframe.iloc[:, 1:].to_numpy()\n",
    "targets_array_test = test_dataframe['label'].to_numpy()\n",
    "X=inputs_array_train\n",
    "y=targets_array_train"
   ]
  },
  {
   "cell_type": "code",
   "execution_count": 75,
   "metadata": {},
   "outputs": [],
   "source": [
    "img =np.reshape(inputs_array_test[3534], (28, 28))"
   ]
  },
  {
   "cell_type": "code",
   "execution_count": 76,
   "metadata": {},
   "outputs": [
    {
     "data": {
      "text/plain": [
       "<matplotlib.image.AxesImage at 0x2f6f1160>"
      ]
     },
     "execution_count": 76,
     "metadata": {},
     "output_type": "execute_result"
    },
    {
     "data": {
      "image/png": "[encoded data removed]",
      "text/plain": [
       "<Figure size 288x288 with 1 Axes>"
      ]
     },
     "metadata": {
      "needs_background": "light"
     },
     "output_type": "display_data"
    }
   ],
   "source": [
    "plt.matshow(img)"
   ]
  },
  {
   "cell_type": "code",
   "execution_count": 77,
   "metadata": {},
   "outputs": [],
   "source": [
    "def Show_Train_Image(row):\n",
    "    fig, (ax1, ax2) = plt.subplots(1,2,figsize=(10,10))\n",
    "    fig.figsize=(1,1)\n",
    "    img =np.reshape(inputs_array_train[row], (28, 28))\n",
    "    print(\"Actual Label : \",chr(ord('A')+targets_array_train[row]))\n",
    "    ax1.set_title(\"Original Image\")\n",
    "    ax1.axis(\"off\")\n",
    "    ax1.imshow(img);\n",
    "    ax2.axis(\"off\")\n",
    "    ax2.set_title(\"Gray Image\")\n",
    "    ax2.imshow(img,cmap='gray');"
   ]
  },
  {
   "cell_type": "code",
   "execution_count": 81,
   "metadata": {},
   "outputs": [
    {
     "name": "stdout",
     "output_type": "stream",
     "text": [
      "Actual Label :  A\n"
     ]
    },
    {
     "data": {
      "image/png": "[encoded data removed]",
      "text/plain": [
       "<Figure size 720x720 with 2 Axes>"
      ]
     },
     "metadata": {
      "needs_background": "light"
     },
     "output_type": "display_data"
    }
   ],
   "source": [
    "Show_Train_Image(467)"
   ]
  },
  {
   "cell_type": "code",
   "execution_count": 79,
   "metadata": {},
   "outputs": [
    {
     "data": {
      "text/plain": [
       "24"
      ]
     },
     "execution_count": 79,
     "metadata": {},
     "output_type": "execute_result"
    }
   ],
   "source": [
    "import tensorflow as tf\n",
    "from tensorflow import keras\n",
    "train_dataframe.label.nunique()"
   ]
  },
  {
   "cell_type": "code",
   "execution_count": 82,
   "metadata": {},
   "outputs": [
    {
     "data": {
      "text/plain": [
       "array([0.00164552, 0.00181469, 0.00195309, 0.00206075, 0.00213764,\n",
       "       0.00219915, 0.00224529, 0.00230681, 0.00235294, 0.00239908,\n",
       "       0.00242983, 0.00246059, 0.00250673, 0.00253749, 0.00244521,\n",
       "       0.00255286, 0.00258362, 0.00261438, 0.00261438, 0.00262976,\n",
       "       0.00262976, 0.00262976, 0.00264514, 0.00262976, 0.00262976,\n",
       "       0.00261438, 0.00261438, 0.002599  , 0.00170704, 0.00186082,\n",
       "       0.00198385, 0.00207612, 0.0021684 , 0.00221453, 0.00227605,\n",
       "       0.00232218, 0.00236832, 0.00241446, 0.00246059, 0.00250673,\n",
       "       0.00252211, 0.00261438, 0.00183007, 0.00233756, 0.00262976,\n",
       "       0.00262976, 0.00261438, 0.00262976, 0.00264514, 0.00264514,\n",
       "       0.00264514, 0.00264514, 0.00264514, 0.00262976, 0.00262976,\n",
       "       0.00261438, 0.00173779, 0.00189158, 0.00201461, 0.00210688,\n",
       "       0.00218378, 0.00222991, 0.00230681, 0.00233756, 0.0023837 ,\n",
       "       0.00242983, 0.00247597, 0.00250673, 0.00252211, 0.00264514,\n",
       "       0.00161476, 0.00218378, 0.00261438, 0.00262976, 0.00262976,\n",
       "       0.00262976, 0.00264514, 0.00264514, 0.00266052, 0.00266052,\n",
       "       0.00264514, 0.00262976, 0.00262976, 0.00262976, 0.00178393,\n",
       "       0.00192234, 0.00204537, 0.00213764, 0.00219915, 0.00224529,\n",
       "       0.00232218, 0.00235294, 0.00239908, 0.00244521, 0.00249135,\n",
       "       0.00250673, 0.00256824, 0.00256824, 0.00146098, 0.00221453,\n",
       "       0.00262976, 0.00264514, 0.00264514, 0.00264514, 0.00264514,\n",
       "       0.00264514, 0.00266052, 0.00266052, 0.00266052, 0.00264514,\n",
       "       0.00264514, 0.00262976, 0.00179931, 0.00193772, 0.00206075,\n",
       "       0.00215302, 0.00222991, 0.00229143, 0.00235294, 0.00239908,\n",
       "       0.00242983, 0.00247597, 0.00250673, 0.00252211, 0.00269127,\n",
       "       0.00239908, 0.00133795, 0.00236832, 0.00264514, 0.00266052,\n",
       "       0.00266052, 0.00266052, 0.00266052, 0.00266052, 0.00267589,\n",
       "       0.00267589, 0.00267589, 0.00266052, 0.00264514, 0.00264514,\n",
       "       0.00183007, 0.00196847, 0.0020915 , 0.00218378, 0.00224529,\n",
       "       0.00230681, 0.00235294, 0.00239908, 0.00244521, 0.00250673,\n",
       "       0.00253749, 0.00252211, 0.00282968, 0.00227605, 0.0013687 ,\n",
       "       0.00252211, 0.00264514, 0.00267589, 0.00267589, 0.00267589,\n",
       "       0.00267589, 0.00269127, 0.00269127, 0.00267589, 0.00269127,\n",
       "       0.00267589, 0.00266052, 0.00266052, 0.0018762 , 0.00199923,\n",
       "       0.00212226, 0.00219915, 0.00226067, 0.00230681, 0.00236832,\n",
       "       0.00242983, 0.00249135, 0.00253749, 0.00255286, 0.00264514,\n",
       "       0.00278354, 0.00196847, 0.0014456 , 0.00261438, 0.00266052,\n",
       "       0.00269127, 0.00267589, 0.00269127, 0.00270665, 0.00272203,\n",
       "       0.00272203, 0.00272203, 0.00272203, 0.00269127, 0.00269127,\n",
       "       0.00267589, 0.0018762 , 0.00202999, 0.00213764, 0.00222991,\n",
       "       0.00229143, 0.00233756, 0.00239908, 0.00246059, 0.00250673,\n",
       "       0.00253749, 0.00255286, 0.00278354, 0.00264514, 0.00158401,\n",
       "       0.00173779, 0.00269127, 0.00270665, 0.00273741, 0.00273741,\n",
       "       0.00275279, 0.00275279, 0.00275279, 0.00275279, 0.00273741,\n",
       "       0.00275279, 0.00272203, 0.00269127, 0.00267589, 0.00192234,\n",
       "       0.00206075, 0.0021684 , 0.00226067, 0.00230681, 0.00235294,\n",
       "       0.00241446, 0.00247597, 0.00252211, 0.00256824, 0.00258362,\n",
       "       0.00282968, 0.00275279, 0.00178393, 0.00193772, 0.00253749,\n",
       "       0.00270665, 0.00275279, 0.00276817, 0.00276817, 0.00278354,\n",
       "       0.00276817, 0.00276817, 0.00276817, 0.00275279, 0.00273741,\n",
       "       0.00272203, 0.00270665, 0.00196847, 0.00207612, 0.00218378,\n",
       "       0.00227605, 0.00233756, 0.00236832, 0.00242983, 0.00249135,\n",
       "       0.00253749, 0.00258362, 0.00261438, 0.00287582, 0.00276817,\n",
       "       0.00239908, 0.00247597, 0.00190696, 0.00219915, 0.00275279,\n",
       "       0.00273741, 0.00273741, 0.00278354, 0.00279892, 0.00278354,\n",
       "       0.00276817, 0.00278354, 0.00276817, 0.00275279, 0.00275279,\n",
       "       0.00198385, 0.0020915 , 0.00221453, 0.00230681, 0.00235294,\n",
       "       0.0023837 , 0.00244521, 0.00250673, 0.00255286, 0.002599  ,\n",
       "       0.00264514, 0.00287582, 0.00282968, 0.00235294, 0.00156863,\n",
       "       0.00179931, 0.00169166, 0.00269127, 0.002599  , 0.00236832,\n",
       "       0.00279892, 0.0028143 , 0.0028143 , 0.00279892, 0.00279892,\n",
       "       0.00278354, 0.00278354, 0.00275279, 0.00201461, 0.00212226,\n",
       "       0.00222991, 0.00230681, 0.0023837 , 0.00241446, 0.00247597,\n",
       "       0.00253749, 0.00258362, 0.00267589, 0.00292195, 0.00290657,\n",
       "       0.00269127, 0.00224529, 0.0014456 , 0.00149173, 0.00173779,\n",
       "       0.00232218, 0.00242983, 0.00198385, 0.00282968, 0.00282968,\n",
       "       0.00282968, 0.00282968, 0.0028143 , 0.0028143 , 0.00279892,\n",
       "       0.00276817, 0.00201461, 0.00213764, 0.00224529, 0.00232218,\n",
       "       0.0023837 , 0.00244521, 0.00250673, 0.00256824, 0.00269127,\n",
       "       0.00279892, 0.00275279, 0.00262976, 0.00244521, 0.00175317,\n",
       "       0.00156863, 0.0013687 , 0.00186082, 0.0020915 , 0.0020915 ,\n",
       "       0.00147636, 0.00264514, 0.00286044, 0.00286044, 0.00284506,\n",
       "       0.00284506, 0.00282968, 0.00279892, 0.00278354, 0.00201461,\n",
       "       0.00215302, 0.00226067, 0.00236832, 0.00241446, 0.00246059,\n",
       "       0.00252211, 0.00275279, 0.00286044, 0.00293733, 0.00287582,\n",
       "       0.00276817, 0.00241446, 0.00153787, 0.00135333, 0.00129181,\n",
       "       0.0016609 , 0.00170704, 0.00193772, 0.00138408, 0.00184544,\n",
       "       0.00286044, 0.00287582, 0.00287582, 0.00286044, 0.00284506,\n",
       "       0.00282968, 0.00279892, 0.00204537, 0.0021684 , 0.00229143,\n",
       "       0.0023837 , 0.00242983, 0.00246059, 0.00267589, 0.00309112,\n",
       "       0.00290657, 0.00253749, 0.00232218, 0.00219915, 0.00224529,\n",
       "       0.00184544, 0.00133795, 0.00119954, 0.00133795, 0.00116878,\n",
       "       0.0016609 , 0.00150711, 0.00147636, 0.00278354, 0.0028912 ,\n",
       "       0.00287582, 0.00286044, 0.00286044, 0.00284506, 0.0028143 ,\n",
       "       0.00204537, 0.0021684 , 0.00230681, 0.00239908, 0.00246059,\n",
       "       0.00247597, 0.00275279, 0.0030296 , 0.00267589, 0.00207612,\n",
       "       0.00152249, 0.00110727, 0.00146098, 0.00206075, 0.00149173,\n",
       "       0.00110727, 0.00113802, 0.00104575, 0.00178393, 0.00161476,\n",
       "       0.0016609 , 0.00287582, 0.00290657, 0.00287582, 0.00287582,\n",
       "       0.00286044, 0.00286044, 0.00284506, 0.00206075, 0.00219915,\n",
       "       0.00232218, 0.00239908, 0.00247597, 0.00250673, 0.00275279,\n",
       "       0.00298347, 0.00239908, 0.00169166, 0.00113802, 0.00064591,\n",
       "       0.00079969, 0.00213764, 0.0014456 , 0.00103037, 0.0011534 ,\n",
       "       0.0011534 , 0.00181469, 0.00163014, 0.00198385, 0.00290657,\n",
       "       0.00293733, 0.00292195, 0.0028912 , 0.0028912 , 0.00287582,\n",
       "       0.00286044, 0.00207612, 0.00221453, 0.00233756, 0.00242983,\n",
       "       0.00250673, 0.00250673, 0.00272203, 0.00296809, 0.00247597,\n",
       "       0.0018762 , 0.00129181, 0.00066128, 0.00109189, 0.00206075,\n",
       "       0.00124567, 0.00087659, 0.00109189, 0.00135333, 0.00172241,\n",
       "       0.00150711, 0.00241446, 0.00296809, 0.00296809, 0.00295271,\n",
       "       0.00292195, 0.00292195, 0.00290657, 0.0028912 , 0.0020915 ,\n",
       "       0.00221453, 0.00233756, 0.00242983, 0.00249135, 0.00250673,\n",
       "       0.00270665, 0.00295271, 0.00252211, 0.00196847, 0.00150711,\n",
       "       0.00095348, 0.00092272, 0.00153787, 0.00109189, 0.00116878,\n",
       "       0.00147636, 0.00155325, 0.00161476, 0.00146098, 0.00267589,\n",
       "       0.00299885, 0.00298347, 0.00298347, 0.00298347, 0.00296809,\n",
       "       0.00293733, 0.00292195, 0.00210688, 0.00222991, 0.00233756,\n",
       "       0.00244521, 0.00252211, 0.00253749, 0.00273741, 0.00293733,\n",
       "       0.00252211, 0.00207612, 0.00173779, 0.00126105, 0.00090734,\n",
       "       0.00133795, 0.00150711, 0.00170704, 0.00184544, 0.0016609 ,\n",
       "       0.00149173, 0.0016609 , 0.00292195, 0.00301423, 0.00299885,\n",
       "       0.00299885, 0.00298347, 0.00296809, 0.00296809, 0.00295271,\n",
       "       0.00213764, 0.00224529, 0.00236832, 0.00246059, 0.00252211,\n",
       "       0.00253749, 0.00269127, 0.00286044, 0.00250673, 0.00213764,\n",
       "       0.00172241, 0.00130719, 0.00103037, 0.00156863, 0.00193772,\n",
       "       0.00204537, 0.00193772, 0.00161476, 0.00159938, 0.00270665,\n",
       "       0.0030296 , 0.00304498, 0.0030296 , 0.00301423, 0.00299885,\n",
       "       0.00299885, 0.00298347, 0.00296809, 0.00212226, 0.00226067,\n",
       "       0.0023837 , 0.00247597, 0.00253749, 0.00256824, 0.00264514,\n",
       "       0.00286044, 0.00250673, 0.00210688, 0.00164552, 0.00133795,\n",
       "       0.00116878, 0.00163014, 0.0018762 , 0.00192234, 0.00179931,\n",
       "       0.00147636, 0.00239908, 0.00306036, 0.00306036, 0.00307574,\n",
       "       0.00304498, 0.00301423, 0.00301423, 0.00299885, 0.00299885,\n",
       "       0.00298347, 0.00213764, 0.00227605, 0.00239908, 0.00250673,\n",
       "       0.00255286, 0.00258362, 0.00264514, 0.00276817, 0.00242983,\n",
       "       0.00201461, 0.0016609 , 0.00152249, 0.00132257, 0.0016609 ,\n",
       "       0.00181469, 0.00178393, 0.00158401, 0.00164552, 0.00293733,\n",
       "       0.0031065 , 0.00309112, 0.00307574, 0.00307574, 0.00307574,\n",
       "       0.00306036, 0.0030296 , 0.00304498, 0.00301423, 0.00215302,\n",
       "       0.00229143, 0.00241446, 0.00252211, 0.00258362, 0.00256824,\n",
       "       0.00272203, 0.00273741, 0.0023837 , 0.00201461, 0.00181469,\n",
       "       0.00161476, 0.00133795, 0.00153787, 0.00163014, 0.00153787,\n",
       "       0.00147636, 0.00252211, 0.0031065 , 0.0031065 , 0.0031065 ,\n",
       "       0.0031065 , 0.0031065 , 0.00309112, 0.00307574, 0.00306036,\n",
       "       0.00306036, 0.00304498, 0.00215302, 0.00230681, 0.00241446,\n",
       "       0.00253749, 0.00256824, 0.00261438, 0.00278354, 0.00269127,\n",
       "       0.00233756, 0.00199923, 0.00176855, 0.00150711, 0.00126105,\n",
       "       0.00130719, 0.00138408, 0.00152249, 0.00253749, 0.0031065 ,\n",
       "       0.00312188, 0.00313725, 0.00312188, 0.00312188, 0.0031065 ,\n",
       "       0.0031065 , 0.00309112, 0.00309112, 0.00307574, 0.00307574,\n",
       "       0.00218378, 0.00230681, 0.00244521, 0.00253749, 0.00261438,\n",
       "       0.00293733, 0.00266052, 0.00241446, 0.00221453, 0.00183007,\n",
       "       0.00149173, 0.00129181, 0.00121492, 0.00121492, 0.00139946,\n",
       "       0.00264514, 0.0031065 , 0.00312188, 0.00312188, 0.00315263,\n",
       "       0.00313725, 0.00313725, 0.00313725, 0.00312188, 0.0031065 ,\n",
       "       0.0031065 , 0.00309112, 0.00307574, 0.00218378, 0.00232218,\n",
       "       0.00246059, 0.00253749, 0.0028912 , 0.00292195, 0.00287582,\n",
       "       0.00230681, 0.00183007, 0.00167628, 0.00130719, 0.00121492,\n",
       "       0.00121492, 0.00119954, 0.00210688, 0.00312188, 0.00315263,\n",
       "       0.00316801, 0.00316801, 0.00318339, 0.00318339, 0.00316801,\n",
       "       0.00316801, 0.00313725, 0.00315263, 0.00313725, 0.00312188,\n",
       "       0.0031065 , 0.00218378, 0.00232218, 0.00246059, 0.00264514,\n",
       "       0.00301423, 0.0028912 , 0.0028912 , 0.00292195, 0.00207612,\n",
       "       0.00147636, 0.00132257, 0.00118416, 0.00118416, 0.00121492,\n",
       "       0.00270665, 0.00315263, 0.00318339, 0.00318339, 0.00318339,\n",
       "       0.00318339, 0.00318339, 0.00318339, 0.00316801, 0.00316801,\n",
       "       0.00316801, 0.00313725, 0.00312188, 0.0031065 ])"
      ]
     },
     "execution_count": 82,
     "metadata": {},
     "output_type": "execute_result"
    }
   ],
   "source": [
    "inputs_array_train=inputs_array_train/255\n",
    "inputs_array_train[0]"
   ]
  },
  {
   "cell_type": "code",
   "execution_count": 86,
   "metadata": {},
   "outputs": [],
   "source": [
    "model = keras.Sequential([\n",
    "    keras.layers.Dense(25, input_shape=(784,), activation='sigmoid')\n",
    "])\n",
    "\n",
    "model.compile(optimizer='adam',\n",
    "              loss='sparse_categorical_crossentropy',\n",
    "              metrics=['accuracy'])\n"
   ]
  },
  {
   "cell_type": "code",
   "execution_count": 90,
   "metadata": {},
   "outputs": [
    {
     "name": "stdout",
     "output_type": "stream",
     "text": [
      "Epoch 1/100\n",
      "858/858 [==============================] - 2s 2ms/step - loss: 1.4833 - accuracy: 0.6768\n",
      "Epoch 2/100\n",
      "858/858 [==============================] - 1s 2ms/step - loss: 1.4810 - accuracy: 0.6763\n",
      "Epoch 3/100\n",
      "858/858 [==============================] - 1s 2ms/step - loss: 1.4789 - accuracy: 0.6765\n",
      "Epoch 4/100\n",
      "858/858 [==============================] - 1s 2ms/step - loss: 1.4766 - accuracy: 0.6803\n",
      "Epoch 5/100\n",
      "858/858 [==============================] - 1s 2ms/step - loss: 1.4745 - accuracy: 0.6770\n",
      "Epoch 6/100\n",
      "858/858 [==============================] - 1s 2ms/step - loss: 1.4722 - accuracy: 0.6786\n",
      "Epoch 7/100\n",
      "858/858 [==============================] - 1s 2ms/step - loss: 1.4702 - accuracy: 0.6798\n",
      "Epoch 8/100\n",
      "858/858 [==============================] - 2s 2ms/step - loss: 1.4681 - accuracy: 0.6809\n",
      "Epoch 9/100\n",
      "858/858 [==============================] - 1s 2ms/step - loss: 1.4659 - accuracy: 0.6793\n",
      "Epoch 10/100\n",
      "858/858 [==============================] - 1s 2ms/step - loss: 1.4637 - accuracy: 0.6807\n",
      "Epoch 11/100\n",
      "858/858 [==============================] - 1s 2ms/step - loss: 1.4617 - accuracy: 0.6798\n",
      "Epoch 12/100\n",
      "858/858 [==============================] - 1s 2ms/step - loss: 1.4595 - accuracy: 0.6825\n",
      "Epoch 13/100\n",
      "858/858 [==============================] - 1s 2ms/step - loss: 1.4574 - accuracy: 0.6814\n",
      "Epoch 14/100\n",
      "858/858 [==============================] - 1s 2ms/step - loss: 1.4553 - accuracy: 0.6816\n",
      "Epoch 15/100\n",
      "858/858 [==============================] - 2s 2ms/step - loss: 1.4532 - accuracy: 0.6829\n",
      "Epoch 16/100\n",
      "858/858 [==============================] - 1s 2ms/step - loss: 1.4512 - accuracy: 0.6815\n",
      "Epoch 17/100\n",
      "858/858 [==============================] - 2s 2ms/step - loss: 1.4491 - accuracy: 0.6837\n",
      "Epoch 18/100\n",
      "858/858 [==============================] - 2s 2ms/step - loss: 1.4470 - accuracy: 0.6837\n",
      "Epoch 19/100\n",
      "858/858 [==============================] - 1s 2ms/step - loss: 1.4449 - accuracy: 0.6837\n",
      "Epoch 20/100\n",
      "858/858 [==============================] - 1s 2ms/step - loss: 1.4429 - accuracy: 0.6834\n",
      "Epoch 21/100\n",
      "858/858 [==============================] - 2s 2ms/step - loss: 1.4407 - accuracy: 0.6857\n",
      "Epoch 22/100\n",
      "858/858 [==============================] - 1s 2ms/step - loss: 1.4388 - accuracy: 0.6836\n",
      "Epoch 23/100\n",
      "858/858 [==============================] - 1s 2ms/step - loss: 1.4369 - accuracy: 0.6860\n",
      "Epoch 24/100\n",
      "858/858 [==============================] - 2s 2ms/step - loss: 1.4349 - accuracy: 0.6852\n",
      "Epoch 25/100\n",
      "858/858 [==============================] - 1s 2ms/step - loss: 1.4328 - accuracy: 0.6872\n",
      "Epoch 26/100\n",
      "858/858 [==============================] - 2s 2ms/step - loss: 1.4308 - accuracy: 0.6860\n",
      "Epoch 27/100\n",
      "858/858 [==============================] - 2s 2ms/step - loss: 1.4289 - accuracy: 0.6863\n",
      "Epoch 28/100\n",
      "858/858 [==============================] - 1s 2ms/step - loss: 1.4268 - accuracy: 0.6872\n",
      "Epoch 29/100\n",
      "858/858 [==============================] - 1s 2ms/step - loss: 1.4250 - accuracy: 0.6880\n",
      "Epoch 30/100\n",
      "858/858 [==============================] - 2s 2ms/step - loss: 1.4230 - accuracy: 0.6878\n",
      "Epoch 31/100\n",
      "858/858 [==============================] - 1s 2ms/step - loss: 1.4210 - accuracy: 0.6868\n",
      "Epoch 32/100\n",
      "858/858 [==============================] - 1s 2ms/step - loss: 1.4191 - accuracy: 0.6882\n",
      "Epoch 33/100\n",
      "858/858 [==============================] - 1s 2ms/step - loss: 1.4171 - accuracy: 0.6885\n",
      "Epoch 34/100\n",
      "858/858 [==============================] - 1s 2ms/step - loss: 1.4152 - accuracy: 0.6887\n",
      "Epoch 35/100\n",
      "858/858 [==============================] - 1s 2ms/step - loss: 1.4134 - accuracy: 0.6888\n",
      "Epoch 36/100\n",
      "858/858 [==============================] - 1s 2ms/step - loss: 1.4114 - accuracy: 0.6897\n",
      "Epoch 37/100\n",
      "858/858 [==============================] - 1s 2ms/step - loss: 1.4095 - accuracy: 0.6911\n",
      "Epoch 38/100\n",
      "858/858 [==============================] - 1s 2ms/step - loss: 1.4077 - accuracy: 0.6908\n",
      "Epoch 39/100\n",
      "858/858 [==============================] - 1s 2ms/step - loss: 1.4057 - accuracy: 0.6909\n",
      "Epoch 40/100\n",
      "858/858 [==============================] - 1s 2ms/step - loss: 1.4039 - accuracy: 0.6911\n",
      "Epoch 41/100\n",
      "858/858 [==============================] - 1s 2ms/step - loss: 1.4019 - accuracy: 0.6911\n",
      "Epoch 42/100\n",
      "858/858 [==============================] - 1s 2ms/step - loss: 1.4002 - accuracy: 0.6927\n",
      "Epoch 43/100\n",
      "858/858 [==============================] - 2s 2ms/step - loss: 1.3982 - accuracy: 0.6913\n",
      "Epoch 44/100\n",
      "858/858 [==============================] - 1s 2ms/step - loss: 1.3965 - accuracy: 0.6923\n",
      "Epoch 45/100\n",
      "858/858 [==============================] - 1s 2ms/step - loss: 1.3945 - accuracy: 0.6923\n",
      "Epoch 46/100\n",
      "858/858 [==============================] - 2s 2ms/step - loss: 1.3926 - accuracy: 0.6932\n",
      "Epoch 47/100\n",
      "858/858 [==============================] - 2s 2ms/step - loss: 1.3910 - accuracy: 0.6937\n",
      "Epoch 48/100\n",
      "858/858 [==============================] - 1s 2ms/step - loss: 1.3891 - accuracy: 0.6938\n",
      "Epoch 49/100\n",
      "858/858 [==============================] - 1s 2ms/step - loss: 1.3871 - accuracy: 0.6935\n",
      "Epoch 50/100\n",
      "858/858 [==============================] - 2s 2ms/step - loss: 1.3854 - accuracy: 0.6946\n",
      "Epoch 51/100\n",
      "858/858 [==============================] - 1s 2ms/step - loss: 1.3837 - accuracy: 0.6937\n",
      "Epoch 52/100\n",
      "858/858 [==============================] - 2s 2ms/step - loss: 1.3818 - accuracy: 0.6958\n",
      "Epoch 53/100\n",
      "858/858 [==============================] - 2s 2ms/step - loss: 1.3801 - accuracy: 0.6960\n",
      "Epoch 54/100\n",
      "858/858 [==============================] - 2s 2ms/step - loss: 1.3782 - accuracy: 0.6955\n",
      "Epoch 55/100\n",
      "858/858 [==============================] - 2s 2ms/step - loss: 1.3765 - accuracy: 0.6959\n",
      "Epoch 56/100\n",
      "858/858 [==============================] - 2s 2ms/step - loss: 1.3747 - accuracy: 0.6970\n",
      "Epoch 57/100\n",
      "858/858 [==============================] - 2s 2ms/step - loss: 1.3728 - accuracy: 0.6974\n",
      "Epoch 58/100\n",
      "858/858 [==============================] - 1s 2ms/step - loss: 1.3712 - accuracy: 0.6966\n",
      "Epoch 59/100\n",
      "858/858 [==============================] - 1s 2ms/step - loss: 1.3693 - accuracy: 0.6974\n",
      "Epoch 60/100\n",
      "858/858 [==============================] - 1s 2ms/step - loss: 1.3676 - accuracy: 0.6978\n",
      "Epoch 61/100\n",
      "858/858 [==============================] - 1s 2ms/step - loss: 1.3659 - accuracy: 0.6980\n",
      "Epoch 62/100\n",
      "858/858 [==============================] - 1s 2ms/step - loss: 1.3642 - accuracy: 0.6979\n",
      "Epoch 63/100\n",
      "858/858 [==============================] - 1s 2ms/step - loss: 1.3625 - accuracy: 0.6985\n",
      "Epoch 64/100\n",
      "858/858 [==============================] - 1s 2ms/step - loss: 1.3607 - accuracy: 0.6995\n",
      "Epoch 65/100\n",
      "858/858 [==============================] - 1s 2ms/step - loss: 1.3590 - accuracy: 0.7000\n",
      "Epoch 66/100\n",
      "858/858 [==============================] - 1s 2ms/step - loss: 1.3573 - accuracy: 0.7007\n",
      "Epoch 67/100\n",
      "858/858 [==============================] - 1s 2ms/step - loss: 1.3556 - accuracy: 0.6997\n",
      "Epoch 68/100\n",
      "858/858 [==============================] - 1s 2ms/step - loss: 1.3540 - accuracy: 0.7004\n",
      "Epoch 69/100\n",
      "858/858 [==============================] - 1s 2ms/step - loss: 1.3522 - accuracy: 0.7005\n",
      "Epoch 70/100\n",
      "858/858 [==============================] - 1s 2ms/step - loss: 1.3506 - accuracy: 0.7012\n",
      "Epoch 71/100\n",
      "858/858 [==============================] - 1s 2ms/step - loss: 1.3489 - accuracy: 0.7018\n",
      "Epoch 72/100\n",
      "858/858 [==============================] - 1s 2ms/step - loss: 1.3472 - accuracy: 0.7035\n",
      "Epoch 73/100\n",
      "858/858 [==============================] - 1s 2ms/step - loss: 1.3456 - accuracy: 0.7033\n",
      "Epoch 74/100\n",
      "858/858 [==============================] - 2s 2ms/step - loss: 1.3439 - accuracy: 0.7027\n",
      "Epoch 75/100\n",
      "858/858 [==============================] - 1s 2ms/step - loss: 1.3422 - accuracy: 0.7040\n",
      "Epoch 76/100\n",
      "858/858 [==============================] - 1s 2ms/step - loss: 1.3406 - accuracy: 0.7028\n",
      "Epoch 77/100\n",
      "858/858 [==============================] - 1s 2ms/step - loss: 1.3389 - accuracy: 0.7032\n",
      "Epoch 78/100\n",
      "858/858 [==============================] - 1s 2ms/step - loss: 1.3373 - accuracy: 0.7043\n",
      "Epoch 79/100\n",
      "858/858 [==============================] - 1s 2ms/step - loss: 1.3356 - accuracy: 0.7044\n",
      "Epoch 80/100\n",
      "858/858 [==============================] - 1s 2ms/step - loss: 1.3340 - accuracy: 0.7054\n",
      "Epoch 81/100\n"
     ]
    },
    {
     "name": "stdout",
     "output_type": "stream",
     "text": [
      "858/858 [==============================] - 2s 2ms/step - loss: 1.3324 - accuracy: 0.7043\n",
      "Epoch 82/100\n",
      "858/858 [==============================] - 1s 2ms/step - loss: 1.3308 - accuracy: 0.7048\n",
      "Epoch 83/100\n",
      "858/858 [==============================] - 1s 2ms/step - loss: 1.3292 - accuracy: 0.7059\n",
      "Epoch 84/100\n",
      "858/858 [==============================] - 1s 2ms/step - loss: 1.3276 - accuracy: 0.7060\n",
      "Epoch 85/100\n",
      "858/858 [==============================] - 1s 2ms/step - loss: 1.3260 - accuracy: 0.7059\n",
      "Epoch 86/100\n",
      "858/858 [==============================] - 1s 2ms/step - loss: 1.3243 - accuracy: 0.7060\n",
      "Epoch 87/100\n",
      "858/858 [==============================] - 2s 2ms/step - loss: 1.3227 - accuracy: 0.7079\n",
      "Epoch 88/100\n",
      "858/858 [==============================] - 1s 2ms/step - loss: 1.3212 - accuracy: 0.7077\n",
      "Epoch 89/100\n",
      "858/858 [==============================] - 1s 2ms/step - loss: 1.3196 - accuracy: 0.7080\n",
      "Epoch 90/100\n",
      "858/858 [==============================] - 1s 2ms/step - loss: 1.3181 - accuracy: 0.7068\n",
      "Epoch 91/100\n",
      "858/858 [==============================] - 1s 2ms/step - loss: 1.3165 - accuracy: 0.7085\n",
      "Epoch 92/100\n",
      "858/858 [==============================] - 2s 2ms/step - loss: 1.3149 - accuracy: 0.7081\n",
      "Epoch 93/100\n",
      "858/858 [==============================] - 1s 2ms/step - loss: 1.3134 - accuracy: 0.7085\n",
      "Epoch 94/100\n",
      "858/858 [==============================] - 2s 2ms/step - loss: 1.3118 - accuracy: 0.7085\n",
      "Epoch 95/100\n",
      "858/858 [==============================] - 2s 2ms/step - loss: 1.3103 - accuracy: 0.7099\n",
      "Epoch 96/100\n",
      "858/858 [==============================] - 1s 2ms/step - loss: 1.3087 - accuracy: 0.7100\n",
      "Epoch 97/100\n",
      "858/858 [==============================] - 1s 2ms/step - loss: 1.3072 - accuracy: 0.7081\n",
      "Epoch 98/100\n",
      "858/858 [==============================] - 2s 2ms/step - loss: 1.3058 - accuracy: 0.7105\n",
      "Epoch 99/100\n",
      "858/858 [==============================] - 1s 2ms/step - loss: 1.3041 - accuracy: 0.7105\n",
      "Epoch 100/100\n",
      "858/858 [==============================] - 1s 2ms/step - loss: 1.3025 - accuracy: 0.7116\n"
     ]
    },
    {
     "data": {
      "text/plain": [
       "<keras.callbacks.History at 0x2f3d2580>"
      ]
     },
     "execution_count": 90,
     "metadata": {},
     "output_type": "execute_result"
    }
   ],
   "source": [
    "model.fit(inputs_array_train, targets_array_train, epochs=100)"
   ]
  },
  {
   "cell_type": "code",
   "execution_count": 112,
   "metadata": {},
   "outputs": [
    {
     "data": {
      "text/plain": [
       "((7172, 25), (7172, 25))"
      ]
     },
     "execution_count": 112,
     "metadata": {},
     "output_type": "execute_result"
    }
   ],
   "source": [
    "Y_pred= model.predict(inputs_array_test)\n",
    "Y = to_categorical(targets_array_test, num_classes = 25)\n",
    "Y_pred.shape,Y.shape"
   ]
  },
  {
   "cell_type": "code",
   "execution_count": 113,
   "metadata": {},
   "outputs": [
    {
     "name": "stdout",
     "output_type": "stream",
     "text": [
      "Validation accuracy:  0.36461238148354713 \n",
      "\n"
     ]
    }
   ],
   "source": [
    "#predicted and oriinal class\n",
    "Y_pred_class = np.argmax(Y_pred, axis=1)\n",
    "Y_test_class = np.argmax(Y, axis=1)\n",
    "\n",
    "# accuracy calculation\n",
    "val_acc = np.mean(Y_pred_class == Y_test_class)\n",
    "\n",
    "# print the accuracy\n",
    "print(\"Validation accuracy: \", val_acc, \"\\n\")"
   ]
  },
  {
   "cell_type": "code",
   "execution_count": 45,
   "metadata": {},
   "outputs": [],
   "source": [
    "(X_train, y_train) , (X_test, y_test) = keras.datasets.mnist.load_data()"
   ]
  },
  {
   "cell_type": "code",
   "execution_count": 38,
   "metadata": {},
   "outputs": [
    {
     "data": {
      "text/plain": [
       "<matplotlib.image.AxesImage at 0x2e22f880>"
      ]
     },
     "execution_count": 38,
     "metadata": {},
     "output_type": "execute_result"
    },
    {
     "data": {
      "image/png": "[encoded data removed]",
      "text/plain": [
       "<Figure size 288x288 with 1 Axes>"
      ]
     },
     "metadata": {
      "needs_background": "light"
     },
     "output_type": "display_data"
    }
   ],
   "source": [
    "plt.matshow(X_train[0])"
   ]
  },
  {
   "cell_type": "code",
   "execution_count": 39,
   "metadata": {},
   "outputs": [],
   "source": [
    "X_train = X_train / 255\n",
    "X_test = X_test / 255"
   ]
  },
  {
   "cell_type": "code",
   "execution_count": 46,
   "metadata": {},
   "outputs": [],
   "source": [
    "X_train_flattened = X_train.reshape(len(X_train), 28*28)\n",
    "X_test_flattened = X_test.reshape(len(X_test), 28*28)"
   ]
  },
  {
   "cell_type": "code",
   "execution_count": 47,
   "metadata": {},
   "outputs": [
    {
     "name": "stdout",
     "output_type": "stream",
     "text": [
      "(60000, 784)\n",
      "(60000,)\n"
     ]
    }
   ],
   "source": [
    "print(X_train_flattened.shape)\n",
    "print(y_train.shape)"
   ]
  },
  {
   "cell_type": "code",
   "execution_count": 48,
   "metadata": {},
   "outputs": [
    {
     "name": "stdout",
     "output_type": "stream",
     "text": [
      "Epoch 1/5\n",
      "1875/1875 [==============================] - 3s 1ms/step - loss: 9.9139 - accuracy: 0.8384\n",
      "Epoch 2/5\n",
      "1875/1875 [==============================] - 3s 1ms/step - loss: 6.1724 - accuracy: 0.8766\n",
      "Epoch 3/5\n",
      "1875/1875 [==============================] - 3s 1ms/step - loss: 5.7818 - accuracy: 0.8812\n",
      "Epoch 4/5\n",
      "1875/1875 [==============================] - 3s 1ms/step - loss: 5.5569 - accuracy: 0.8859\n",
      "Epoch 5/5\n",
      "1875/1875 [==============================] - 3s 1ms/step - loss: 5.4019 - accuracy: 0.8873\n"
     ]
    },
    {
     "data": {
      "text/plain": [
       "<keras.callbacks.History at 0x2e4dd850>"
      ]
     },
     "execution_count": 48,
     "metadata": {},
     "output_type": "execute_result"
    }
   ],
   "source": [
    "model = keras.Sequential([\n",
    "    keras.layers.Dense(10, input_shape=(784,), activation='sigmoid')\n",
    "])\n",
    "\n",
    "model.compile(optimizer='adam',\n",
    "              loss='sparse_categorical_crossentropy',\n",
    "              metrics=['accuracy'])\n",
    "\n",
    "model.fit(X_train_flattened, y_train, epochs=5)"
   ]
  },
  {
   "cell_type": "code",
   "execution_count": 51,
   "metadata": {},
   "outputs": [],
   "source": [
    "inputs_array_train=inputs_array_train/255"
   ]
  },
  {
   "cell_type": "code",
   "execution_count": 55,
   "metadata": {},
   "outputs": [
    {
     "data": {
      "text/plain": [
       "(784,)"
      ]
     },
     "execution_count": 55,
     "metadata": {},
     "output_type": "execute_result"
    }
   ],
   "source": [
    "inputs_array_train[0].shape"
   ]
  },
  {
   "cell_type": "code",
   "execution_count": 57,
   "metadata": {},
   "outputs": [],
   "source": [
    "from tensorflow.keras.utils import to_categorical\n",
    "targets_array_train = to_categorical(targets_array_train, num_classes = 25)"
   ]
  },
  {
   "cell_type": "code",
   "execution_count": 59,
   "metadata": {},
   "outputs": [
    {
     "data": {
      "text/plain": [
       "array([0., 0., 0., 1., 0., 0., 0., 0., 0., 0., 0., 0., 0., 0., 0., 0., 0.,\n",
       "       0., 0., 0., 0., 0., 0., 0., 0.], dtype=float32)"
      ]
     },
     "execution_count": 59,
     "metadata": {},
     "output_type": "execute_result"
    }
   ],
   "source": [
    "targets_array_train[0]"
   ]
  },
  {
   "cell_type": "code",
   "execution_count": 60,
   "metadata": {},
   "outputs": [
    {
     "data": {
      "text/plain": [
       "5"
      ]
     },
     "execution_count": 60,
     "metadata": {},
     "output_type": "execute_result"
    }
   ],
   "source": [
    "y_train[0]"
   ]
  },
  {
   "cell_type": "code",
   "execution_count": null,
   "metadata": {},
   "outputs": [],
   "source": []
  }
 ],
 "metadata": {
  "kernelspec": {
   "display_name": "Python 3",
   "language": "python",
   "name": "python3"
  },
  "language_info": {
   "codemirror_mode": {
    "name": "ipython",
    "version": 3
   },
   "file_extension": ".py",
   "mimetype": "text/x-python",
   "name": "python",
   "nbconvert_exporter": "python",
   "pygments_lexer": "ipython3",
   "version": "3.8.5"
  }
 },
 "nbformat": 4,
 "nbformat_minor": 4
}
