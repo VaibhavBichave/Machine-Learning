{
 "cells": [
  {
   "cell_type": "markdown",
   "id": "c6887fa1",
   "metadata": {},
   "source": [
    "## Case Study\n",
    "\n",
    " 1. Name    : Vaibhav Bichave\n",
    " 2. class   : BE 10 (IT)\n",
    " 3. Roll No.: 43209\n",
    " \n",
    " ### Problem Statement : \n",
    " Web Scrapping on Flipkart Website"
   ]
  },
  {
   "cell_type": "code",
   "execution_count": 1,
   "id": "b9ffeba9",
   "metadata": {},
   "outputs": [],
   "source": [
    "from bs4 import BeautifulSoup as soup\n",
    "from urllib.request import urlopen as uReq"
   ]
  },
  {
   "cell_type": "code",
   "execution_count": 2,
   "id": "20d14100",
   "metadata": {},
   "outputs": [],
   "source": [
    "# Request from the webpage  \n",
    "myurl = \"https://www.flipkart.com/search?q=iphones&otracker=search&otracker1=search&marketplace=FLIPKART&as-show=on&as=off\"  \n",
    "\n",
    "\n",
    "uClient  = uReq(myurl)  \n",
    "page_html = uClient.read()  \n",
    "uClient.close()  \n",
    "\n",
    "page_soup = soup(page_html, features=\"html.parser\")  "
   ]
  },
  {
   "cell_type": "code",
   "execution_count": 3,
   "id": "d9b371f5",
   "metadata": {},
   "outputs": [],
   "source": [
    "# This variable held all html of webpage  \n",
    "containers = page_soup.find_all(\"div\",{\"class\": \"_2kHMtA\"})"
   ]
  },
  {
   "cell_type": "code",
   "execution_count": 8,
   "id": "ea066d3a",
   "metadata": {},
   "outputs": [
    {
     "name": "stdout",
     "output_type": "stream",
     "text": [
      "[<div class=\"_30jeq3 _1_WHN1\">₹41,990</div>]\n",
      "['₹41990']\n",
      "APPLE iPhone 11 (White, 128 GB),Rs₹41990,4.6\n",
      "\n"
     ]
    },
    {
     "ename": "UnicodeEncodeError",
     "evalue": "'charmap' codec can't encode character '\\u20b9' in position 34: character maps to <undefined>",
     "output_type": "error",
     "traceback": [
      "\u001b[1;31m---------------------------------------------------------------------------\u001b[0m",
      "\u001b[1;31mUnicodeEncodeError\u001b[0m                        Traceback (most recent call last)",
      "\u001b[1;32m~\\AppData\\Local\\Temp/ipykernel_22408/258354170.py\u001b[0m in \u001b[0;36m<module>\u001b[1;34m\u001b[0m\n\u001b[0;32m     29\u001b[0m \u001b[1;33m\u001b[0m\u001b[0m\n\u001b[0;32m     30\u001b[0m \u001b[1;33m\u001b[0m\u001b[0m\n\u001b[1;32m---> 31\u001b[1;33m     \u001b[0mf\u001b[0m\u001b[1;33m.\u001b[0m\u001b[0mwrite\u001b[0m\u001b[1;33m(\u001b[0m\u001b[0mproduct_name\u001b[0m\u001b[1;33m+\u001b[0m\u001b[1;34m\",\"\u001b[0m\u001b[1;33m+\u001b[0m\u001b[0mfinal_price\u001b[0m\u001b[1;33m+\u001b[0m\u001b[1;34m\",\"\u001b[0m\u001b[1;33m+\u001b[0m\u001b[0mfinal_rating\u001b[0m\u001b[1;33m+\u001b[0m\u001b[1;34m\"\\n\"\u001b[0m\u001b[1;33m)\u001b[0m\u001b[1;33m\u001b[0m\u001b[1;33m\u001b[0m\u001b[0m\n\u001b[0m\u001b[0;32m     32\u001b[0m \u001b[1;33m\u001b[0m\u001b[0m\n\u001b[0;32m     33\u001b[0m \u001b[0mf\u001b[0m\u001b[1;33m.\u001b[0m\u001b[0mclose\u001b[0m\u001b[1;33m(\u001b[0m\u001b[1;33m)\u001b[0m\u001b[1;33m\u001b[0m\u001b[1;33m\u001b[0m\u001b[0m\n",
      "\u001b[1;32m~\\AppData\\Local\\Programs\\Python\\Python38\\lib\\encodings\\cp1252.py\u001b[0m in \u001b[0;36mencode\u001b[1;34m(self, input, final)\u001b[0m\n\u001b[0;32m     17\u001b[0m \u001b[1;32mclass\u001b[0m \u001b[0mIncrementalEncoder\u001b[0m\u001b[1;33m(\u001b[0m\u001b[0mcodecs\u001b[0m\u001b[1;33m.\u001b[0m\u001b[0mIncrementalEncoder\u001b[0m\u001b[1;33m)\u001b[0m\u001b[1;33m:\u001b[0m\u001b[1;33m\u001b[0m\u001b[1;33m\u001b[0m\u001b[0m\n\u001b[0;32m     18\u001b[0m     \u001b[1;32mdef\u001b[0m \u001b[0mencode\u001b[0m\u001b[1;33m(\u001b[0m\u001b[0mself\u001b[0m\u001b[1;33m,\u001b[0m \u001b[0minput\u001b[0m\u001b[1;33m,\u001b[0m \u001b[0mfinal\u001b[0m\u001b[1;33m=\u001b[0m\u001b[1;32mFalse\u001b[0m\u001b[1;33m)\u001b[0m\u001b[1;33m:\u001b[0m\u001b[1;33m\u001b[0m\u001b[1;33m\u001b[0m\u001b[0m\n\u001b[1;32m---> 19\u001b[1;33m         \u001b[1;32mreturn\u001b[0m \u001b[0mcodecs\u001b[0m\u001b[1;33m.\u001b[0m\u001b[0mcharmap_encode\u001b[0m\u001b[1;33m(\u001b[0m\u001b[0minput\u001b[0m\u001b[1;33m,\u001b[0m\u001b[0mself\u001b[0m\u001b[1;33m.\u001b[0m\u001b[0merrors\u001b[0m\u001b[1;33m,\u001b[0m\u001b[0mencoding_table\u001b[0m\u001b[1;33m)\u001b[0m\u001b[1;33m[\u001b[0m\u001b[1;36m0\u001b[0m\u001b[1;33m]\u001b[0m\u001b[1;33m\u001b[0m\u001b[1;33m\u001b[0m\u001b[0m\n\u001b[0m\u001b[0;32m     20\u001b[0m \u001b[1;33m\u001b[0m\u001b[0m\n\u001b[0;32m     21\u001b[0m \u001b[1;32mclass\u001b[0m \u001b[0mIncrementalDecoder\u001b[0m\u001b[1;33m(\u001b[0m\u001b[0mcodecs\u001b[0m\u001b[1;33m.\u001b[0m\u001b[0mIncrementalDecoder\u001b[0m\u001b[1;33m)\u001b[0m\u001b[1;33m:\u001b[0m\u001b[1;33m\u001b[0m\u001b[1;33m\u001b[0m\u001b[0m\n",
      "\u001b[1;31mUnicodeEncodeError\u001b[0m: 'charmap' codec can't encode character '\\u20b9' in position 34: character maps to <undefined>"
     ]
    }
   ],
   "source": [
    "# Creating CSV File that will store all data   \n",
    "filename = \"product1.csv\"  \n",
    "f = open(filename,\"w\")  \n",
    "\n",
    "headers = \"Product_Name,Pricing,Ratings\\n\"  \n",
    "f.write(headers)  \n",
    "\n",
    "for container in containers:  \n",
    "    product_name = container.div.img[\"alt\"]  \n",
    "\n",
    "    price_container = container.find_all(\"div\", {\"class\": \"_30jeq3 _1_WHN1\"})  \n",
    "    print(price_container)\n",
    "    price = price_container[0].text.strip()  \n",
    "\n",
    "    rating_container = container.find_all(\"div\",{\"class\":\"_3LWZlK\"})  \n",
    "    ratings = rating_container[0].text  \n",
    "\n",
    "    edit_price = ''.join(price.split(','))  \n",
    "    sym_rupee = edit_price.split(\"?\") \n",
    "    print(sym_rupee)\n",
    "    add_rs_price = \"Rs\"+sym_rupee[0]  \n",
    "    split_price = add_rs_price.split(\"E\")  \n",
    "    final_price = split_price[0]  \n",
    "\n",
    "    split_rating = str(ratings).split(\" \")  \n",
    "    final_rating = split_rating[0]  \n",
    "\n",
    "    print(product_name+\",\"+final_price+\",\"+final_rating+\"\\n\")  \n",
    "    \n",
    "\n",
    "    f.write(product_name+\",\"+final_price+\",\"+final_rating+\"\\n\")  \n",
    "\n",
    "f.close()  "
   ]
  },
  {
   "cell_type": "code",
   "execution_count": null,
   "id": "b87b6d7e",
   "metadata": {},
   "outputs": [],
   "source": []
  }
 ],
 "metadata": {
  "kernelspec": {
   "display_name": "Python 3 (ipykernel)",
   "language": "python",
   "name": "python3"
  },
  "language_info": {
   "codemirror_mode": {
    "name": "ipython",
    "version": 3
   },
   "file_extension": ".py",
   "mimetype": "text/x-python",
   "name": "python",
   "nbconvert_exporter": "python",
   "pygments_lexer": "ipython3",
   "version": "3.8.6"
  }
 },
 "nbformat": 4,
 "nbformat_minor": 5
}
