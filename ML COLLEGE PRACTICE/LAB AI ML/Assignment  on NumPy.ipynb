{
 "cells": [
  {
   "cell_type": "markdown",
   "metadata": {},
   "source": [
    "# Assignment on NumPy\n",
    "\n",
    "Name     : Vaibhav Bichave\n",
    "\n",
    "Roll No. : 33209\n",
    "\n"
   ]
  },
  {
   "cell_type": "code",
   "execution_count": 1,
   "metadata": {},
   "outputs": [],
   "source": [
    "import numpy as np"
   ]
  },
  {
   "cell_type": "code",
   "execution_count": 2,
   "metadata": {},
   "outputs": [
    {
     "name": "stdout",
     "output_type": "stream",
     "text": [
      "1.19.2\n",
      "blas_mkl_info:\n",
      "    libraries = ['mkl_rt']\n",
      "    library_dirs = ['C:/Users/Admin/anaconda3\\\\Library\\\\lib']\n",
      "    define_macros = [('SCIPY_MKL_H', None), ('HAVE_CBLAS', None)]\n",
      "    include_dirs = ['C:/Users/Admin/anaconda3\\\\Library\\\\include']\n",
      "blas_opt_info:\n",
      "    libraries = ['mkl_rt']\n",
      "    library_dirs = ['C:/Users/Admin/anaconda3\\\\Library\\\\lib']\n",
      "    define_macros = [('SCIPY_MKL_H', None), ('HAVE_CBLAS', None)]\n",
      "    include_dirs = ['C:/Users/Admin/anaconda3\\\\Library\\\\include']\n",
      "lapack_mkl_info:\n",
      "    libraries = ['mkl_rt']\n",
      "    library_dirs = ['C:/Users/Admin/anaconda3\\\\Library\\\\lib']\n",
      "    define_macros = [('SCIPY_MKL_H', None), ('HAVE_CBLAS', None)]\n",
      "    include_dirs = ['C:/Users/Admin/anaconda3\\\\Library\\\\include']\n",
      "lapack_opt_info:\n",
      "    libraries = ['mkl_rt']\n",
      "    library_dirs = ['C:/Users/Admin/anaconda3\\\\Library\\\\lib']\n",
      "    define_macros = [('SCIPY_MKL_H', None), ('HAVE_CBLAS', None)]\n",
      "    include_dirs = ['C:/Users/Admin/anaconda3\\\\Library\\\\include']\n",
      "None\n"
     ]
    }
   ],
   "source": [
    "#1. Write a NumPy program to get the NumPy version and show NumPy build configuration. \n",
    "\n",
    "print(np.__version__)\n",
    "print(np.show_config())"
   ]
  },
  {
   "cell_type": "code",
   "execution_count": 3,
   "metadata": {},
   "outputs": [
    {
     "name": "stdout",
     "output_type": "stream",
     "text": [
      "add(x1, x2, /, out=None, *, where=True, casting='same_kind', order='K', dtype=None, subok=True[, signature, extobj])\n",
      "\n",
      "Add arguments element-wise.\n",
      "\n",
      "Parameters\n",
      "----------\n",
      "x1, x2 : array_like\n",
      "    The arrays to be added.\n",
      "    If ``x1.shape != x2.shape``, they must be broadcastable to a common\n",
      "    shape (which becomes the shape of the output).\n",
      "out : ndarray, None, or tuple of ndarray and None, optional\n",
      "    A location into which the result is stored. If provided, it must have\n",
      "    a shape that the inputs broadcast to. If not provided or None,\n",
      "    a freshly-allocated array is returned. A tuple (possible only as a\n",
      "    keyword argument) must have length equal to the number of outputs.\n",
      "where : array_like, optional\n",
      "    This condition is broadcast over the input. At locations where the\n",
      "    condition is True, the `out` array will be set to the ufunc result.\n",
      "    Elsewhere, the `out` array will retain its original value.\n",
      "    Note that if an uninitialized `out` array is created via the default\n",
      "    ``out=None``, locations within it where the condition is False will\n",
      "    remain uninitialized.\n",
      "**kwargs\n",
      "    For other keyword-only arguments, see the\n",
      "    :ref:`ufunc docs <ufuncs.kwargs>`.\n",
      "\n",
      "Returns\n",
      "-------\n",
      "add : ndarray or scalar\n",
      "    The sum of `x1` and `x2`, element-wise.\n",
      "    This is a scalar if both `x1` and `x2` are scalars.\n",
      "\n",
      "Notes\n",
      "-----\n",
      "Equivalent to `x1` + `x2` in terms of array broadcasting.\n",
      "\n",
      "Examples\n",
      "--------\n",
      ">>> np.add(1.0, 4.0)\n",
      "5.0\n",
      ">>> x1 = np.arange(9.0).reshape((3, 3))\n",
      ">>> x2 = np.arange(3.0)\n",
      ">>> np.add(x1, x2)\n",
      "array([[  0.,   2.,   4.],\n",
      "       [  3.,   5.,   7.],\n",
      "       [  6.,   8.,  10.]])\n",
      "None\n"
     ]
    }
   ],
   "source": [
    "#2. Write a NumPy program to get help on the add function. \n",
    "\n",
    "print(np.info(np.add))"
   ]
  },
  {
   "cell_type": "code",
   "execution_count": 4,
   "metadata": {},
   "outputs": [
    {
     "name": "stdout",
     "output_type": "stream",
     "text": [
      "Original array:\n",
      "[ 4 36  8  3]\n",
      "Test if none of the elements of the said array is zero:\n",
      "True\n",
      "Original array:\n",
      "[ 5  8  0 23]\n",
      "Test if none of the elements of the said array is zero:\n",
      "False\n"
     ]
    }
   ],
   "source": [
    "#3. Write a NumPy program to test whether none of the elements of a given array is zero. \n",
    "\n",
    "x = np.array([4,36,8,3])\n",
    "print(\"Original array:\")\n",
    "print(x)\n",
    "print(\"Test if none of the elements of the said array is zero:\")\n",
    "print(np.all(x))\n",
    "x = np.array([5,8,0,23])\n",
    "print(\"Original array:\")\n",
    "print(x)\n",
    "print(\"Test if none of the elements of the said array is zero:\")\n",
    "print(np.all(x))\n"
   ]
  },
  {
   "cell_type": "code",
   "execution_count": 5,
   "metadata": {},
   "outputs": [
    {
     "name": "stdout",
     "output_type": "stream",
     "text": [
      "Original array:\n",
      "[ 0  0 56  0  0]\n",
      "Test whether any of the elements of a given array is non-zero:\n",
      "True\n",
      "Original array:\n",
      "[0 0 0 0 0]\n",
      "Test whether any of the elements of a given array is non-zero:\n",
      "False\n"
     ]
    }
   ],
   "source": [
    "#4. Write a NumPy program to test whether any of the elements of a given array is nonzero. \n",
    "\n",
    "x = np.array([0,0,56,0,0])\n",
    "print(\"Original array:\")\n",
    "print(x)\n",
    "print(\"Test whether any of the elements of a given array is non-zero:\")\n",
    "print(np.any(x))\n",
    "x = np.array([0, 0, 0, 0, 0])\n",
    "print(\"Original array:\")\n",
    "print(x)\n",
    "print(\"Test whether any of the elements of a given array is non-zero:\")\n",
    "print(np.any(x))"
   ]
  },
  {
   "cell_type": "code",
   "execution_count": 6,
   "metadata": {},
   "outputs": [
    {
     "name": "stdout",
     "output_type": "stream",
     "text": [
      "Original array\n",
      "[  0.  nan -46.  57.  inf]\n",
      "Test a given array element-wise for finiteness :\n",
      "[ True False  True  True False]\n"
     ]
    }
   ],
   "source": [
    "#5. Write a NumPy program to test a given array elementwise for finiteness (not infinity or not a Number). \n",
    "\n",
    "a = np.array([0, np.nan, -46, 57, np.inf])\n",
    "print(\"Original array\")\n",
    "print(a)\n",
    "print(\"Test a given array element-wise for finiteness :\")\n",
    "print(np.isfinite(a))"
   ]
  },
  {
   "cell_type": "code",
   "execution_count": 7,
   "metadata": {},
   "outputs": [
    {
     "name": "stdout",
     "output_type": "stream",
     "text": [
      "Original array\n",
      "[  0.  nan -46.  57.  inf]\n",
      "Test element-wise for positive or negative infinity:\n",
      "[False False False False  True]\n"
     ]
    }
   ],
   "source": [
    "#6. Write a NumPy program to test elementwise for positive or negative infinity.\n",
    "\n",
    "a = np.array([0, np.nan, -46, 57, np.inf])\n",
    "print(\"Original array\")\n",
    "print(a)\n",
    "print(\"Test element-wise for positive or negative infinity:\")\n",
    "print(np.isinf(a))"
   ]
  },
  {
   "cell_type": "code",
   "execution_count": 8,
   "metadata": {},
   "outputs": [
    {
     "name": "stdout",
     "output_type": "stream",
     "text": [
      "Original array\n",
      "[  0.  nan -46.  57.  inf]\n",
      "Test element-wise for NaN:\n",
      "[False  True False False False]\n"
     ]
    }
   ],
   "source": [
    "#7. Write a NumPy program to test elementwise for NaN (Not a Number) of a given array. \n",
    "\n",
    "a = np.array([0, np.nan, -46, 57, np.inf])\n",
    "print(\"Original array\")\n",
    "print(a)\n",
    "print(\"Test element-wise for NaN:\")\n",
    "print(np.isnan(a))"
   ]
  },
  {
   "cell_type": "code",
   "execution_count": 9,
   "metadata": {},
   "outputs": [
    {
     "name": "stdout",
     "output_type": "stream",
     "text": [
      "Original array\n",
      "[ 4.  +1.j  1.  +2.j 85.5 +0.j -4.  +0.j 24.  +0.j  0. +65.j]\n",
      "Checking for complex number:\n",
      "[ True  True False False False  True]\n",
      "Checking for real number:\n",
      "[False False  True  True  True False]\n",
      "\n",
      "Checking for scalar type:\n",
      "True\n",
      "False\n"
     ]
    }
   ],
   "source": [
    "#8. Write a NumPy program to test elementwise for complex number, real number of a\n",
    "#   given array. Also test whether a given number is a scalar type or not. \n",
    "\n",
    "a = np.array([4+1j, 1+2j, 85.5, -4, 24, 65j])\n",
    "print(\"Original array\")\n",
    "print(a)\n",
    "print(\"Checking for complex number:\")\n",
    "print(np.iscomplex(a))\n",
    "print(\"Checking for real number:\")\n",
    "print(np.isreal(a))\n",
    "print()\n",
    "print(\"Checking for scalar type:\")\n",
    "print(np.isscalar(3.1))\n",
    "print(np.isscalar(a))"
   ]
  },
  {
   "cell_type": "code",
   "execution_count": 10,
   "metadata": {},
   "outputs": [
    {
     "name": "stdout",
     "output_type": "stream",
     "text": [
      "Test if two arrays are element-wise equal within a tolerance:\n",
      "False\n",
      "True\n",
      "False\n",
      "False\n",
      "True\n"
     ]
    }
   ],
   "source": [
    "#9. Write a NumPy program to test whether two arrays are element-wise equal within a tolerance \n",
    "\n",
    "print(\"Test if two arrays are element-wise equal within a tolerance:\")\n",
    "print(np.allclose([1e10,1e-7], [1.00001e10,1e-8]))\n",
    "print(np.allclose([1e10,1e-8], [1.00001e10,1e-9]))\n",
    "print(np.allclose([1e10,1e-8], [1.0001e10,1e-9]))\n",
    "print(np.allclose([1.0, np.nan], [1.0, np.nan]))\n",
    "print(np.allclose([1.0, np.nan], [1.0, np.nan], equal_nan=True))"
   ]
  },
  {
   "cell_type": "code",
   "execution_count": 11,
   "metadata": {},
   "outputs": [
    {
     "name": "stdout",
     "output_type": "stream",
     "text": [
      "Original numbers:\n",
      "[ 3 -6  8]\n",
      "[3 7 0]\n",
      "Comparison - greater\n",
      "[False False  True]\n",
      "Comparison - greater_equal\n",
      "[ True False  True]\n",
      "Comparison - less\n",
      "[False  True False]\n",
      "Comparison - less_equal\n",
      "[ True  True False]\n"
     ]
    }
   ],
   "source": [
    "# 10. Write a NumPy program to create an element-wise comparison (greater, greater\n",
    "#     equal, less and less equal) of two given arrays \n",
    "\n",
    "x = np.array([3,-6,8])\n",
    "y = np.array([3,7,0])\n",
    "print(\"Original numbers:\")\n",
    "print(x)\n",
    "print(y)\n",
    "print(\"Comparison - greater\")\n",
    "print(np.greater(x, y))\n",
    "print(\"Comparison - greater_equal\")\n",
    "print(np.greater_equal(x, y))\n",
    "print(\"Comparison - less\")\n",
    "print(np.less(x, y))\n",
    "print(\"Comparison - less_equal\")\n",
    "print(np.less_equal(x, y))"
   ]
  },
  {
   "cell_type": "code",
   "execution_count": 12,
   "metadata": {},
   "outputs": [
    {
     "name": "stdout",
     "output_type": "stream",
     "text": [
      "Original numbers:\n",
      "x :  [  72   79   85   90   67 -135  -10   60   10]\n",
      "y :  [  72.     79.     85.     90.     67.   -135.    -10.     60.     10.01]\n",
      "Comparison - equal:\n",
      "[ True  True  True  True  True  True  True  True False]\n",
      "Comparison - equal within a tolerance:\n",
      "False\n"
     ]
    }
   ],
   "source": [
    "#11. Write a NumPy program to create an element-wise comparison (equal, equal within a tolerance) of two given arrays. \n",
    "\n",
    "x = np.array([72, 79, 85, 90, 67, -135, -10, 60, 10])\n",
    "y = np.array([72, 79, 85, 90, 67, -135, -10, 60, 10.01])\n",
    "print(\"Original numbers:\")\n",
    "print(\"x : \",x)\n",
    "print(\"y : \",y)\n",
    "print(\"Comparison - equal:\")\n",
    "print(np.equal(x, y))\n",
    "print(\"Comparison - equal within a tolerance:\")\n",
    "print(np.allclose(x, y))"
   ]
  },
  {
   "cell_type": "code",
   "execution_count": 13,
   "metadata": {},
   "outputs": [
    {
     "name": "stdout",
     "output_type": "stream",
     "text": [
      "Original array:\n",
      "[ 64   8   0 -64]\n",
      "Size of the memory occupied by the said array:\n",
      "16 bytes\n"
     ]
    }
   ],
   "source": [
    "#12. Write a NumPy program to create an array with the values 1, 7, 13, 105 and\n",
    "#    determine the size of the memory occupied by the array \n",
    "\n",
    "X = np.array([64,8,0,-64])\n",
    "print(\"Original array:\")\n",
    "print(X)\n",
    "print(\"Size of the memory occupied by the said array:\")\n",
    "print(\"%d bytes\" % (X.size * X.itemsize))"
   ]
  },
  {
   "cell_type": "code",
   "execution_count": 14,
   "metadata": {},
   "outputs": [
    {
     "name": "stdout",
     "output_type": "stream",
     "text": [
      "An array of 10 zeros:\n",
      "[0. 0. 0. 0. 0. 0. 0. 0. 0. 0.]\n",
      "An array of 10 ones:\n",
      "[1. 1. 1. 1. 1. 1. 1. 1. 1. 1.]\n",
      "An array of 10 fives:\n",
      "[5. 5. 5. 5. 5. 5. 5. 5. 5. 5.]\n"
     ]
    }
   ],
   "source": [
    "#13. Write a NumPy program to create an array of 10 zeros,10 ones, 10 fives. \n",
    "\n",
    "array=np.zeros(10)\n",
    "print(\"An array of 10 zeros:\")\n",
    "print(array)\n",
    "array=np.ones(10)\n",
    "print(\"An array of 10 ones:\")\n",
    "print(array)\n",
    "array=np.ones(10)*5\n",
    "print(\"An array of 10 fives:\")\n",
    "print(array)"
   ]
  },
  {
   "cell_type": "code",
   "execution_count": 15,
   "metadata": {},
   "outputs": [
    {
     "name": "stdout",
     "output_type": "stream",
     "text": [
      "Array of the integers from 30 to70\n",
      "[30 31 32 33 34 35 36 37 38 39 40 41 42 43 44 45 46 47 48 49 50 51 52 53\n",
      " 54 55 56 57 58 59 60 61 62 63 64 65 66 67 68 69 70]\n"
     ]
    }
   ],
   "source": [
    "#14. Write a NumPy program to create an array of the integers from 30 to70\n",
    "\n",
    "array=np.arange(30,71)\n",
    "print(\"Array of the integers from 30 to70\")\n",
    "print(array)"
   ]
  },
  {
   "cell_type": "code",
   "execution_count": 16,
   "metadata": {},
   "outputs": [
    {
     "name": "stdout",
     "output_type": "stream",
     "text": [
      "Array of all the even integers from 30 to 70\n",
      "[30 32 34 36 38 40 42 44 46 48 50 52 54 56 58 60 62 64 66 68 70]\n"
     ]
    }
   ],
   "source": [
    "#15. Write a NumPy program to create an array of all the even integers from 30 to 70.\n",
    "\n",
    "array=np.arange(30,71,2)\n",
    "print(\"Array of all the even integers from 30 to 70\")\n",
    "print(array) \n"
   ]
  },
  {
   "cell_type": "code",
   "execution_count": 17,
   "metadata": {},
   "outputs": [
    {
     "name": "stdout",
     "output_type": "stream",
     "text": [
      "3x3 matrix:\n",
      "[[1. 0. 0.]\n",
      " [0. 1. 0.]\n",
      " [0. 0. 1.]]\n"
     ]
    }
   ],
   "source": [
    "#16. Write a NumPy program to create a 3x3 identity matrix. \n",
    "\n",
    "array_2D=np.identity(3)\n",
    "print('3x3 matrix:')\n",
    "print(array_2D)"
   ]
  },
  {
   "cell_type": "code",
   "execution_count": 18,
   "metadata": {},
   "outputs": [
    {
     "name": "stdout",
     "output_type": "stream",
     "text": [
      "Random number between 0 and 1:\n",
      "[1.49320725]\n"
     ]
    }
   ],
   "source": [
    "#17. Write a NumPy program to generate a random number between 0 and 1.\n",
    "\n",
    "rand_num = np.random.normal(0,1,1)\n",
    "print(\"Random number between 0 and 1:\")\n",
    "print(rand_num)"
   ]
  },
  {
   "cell_type": "code",
   "execution_count": 19,
   "metadata": {},
   "outputs": [
    {
     "name": "stdout",
     "output_type": "stream",
     "text": [
      "15 random numbers from a standard normal distribution:\n",
      "[ 0.07656814  0.93598985 -0.46110852  0.1807607  -1.45629867 -0.09653926\n",
      " -0.0145322  -0.46055411  1.84633718  0.50073293  0.89101354 -0.72419166\n",
      " -0.61990742 -0.14238214 -0.01097973]\n"
     ]
    }
   ],
   "source": [
    "#18. Write a NumPy program to generate an array of 15 random numbers from a standard normal distribution \n",
    "\n",
    "rand_num = np.random.normal(0,1,15)\n",
    "print(\"15 random numbers from a standard normal distribution:\")\n",
    "print(rand_num)"
   ]
  },
  {
   "cell_type": "code",
   "execution_count": 20,
   "metadata": {},
   "outputs": [
    {
     "name": "stdout",
     "output_type": "stream",
     "text": [
      "Original vector:\n",
      "[15 16 17 18 19 20 21 22 23 24 25 26 27 28 29 30 31 32 33 34 35 36 37 38\n",
      " 39 40 41 42 43 44 45 46 47 48 49 50 51 52 53 54]\n",
      "All values except the first and last of the said vector:\n",
      "[16 17 18 19 20 21 22 23 24 25 26 27 28 29 30 31 32 33 34 35 36 37 38 39\n",
      " 40 41 42 43 44 45 46 47 48 49 50 51 52 53]\n"
     ]
    }
   ],
   "source": [
    "#19. NumPy program to create a vector with values ranging from 15 to 55 and \n",
    "#    print all values except the first and last\n",
    "\n",
    "v = np.arange(15,55)\n",
    "print(\"Original vector:\")\n",
    "print(v)\n",
    "print(\"All values except the first and last of the said vector:\")\n",
    "print(v[1:-1])"
   ]
  },
  {
   "cell_type": "code",
   "execution_count": 21,
   "metadata": {},
   "outputs": [
    {
     "name": "stdout",
     "output_type": "stream",
     "text": [
      "Original array:\n",
      "[[ 0  1  2  3]\n",
      " [ 4  5  6  7]\n",
      " [ 8  9 10 11]]\n",
      "Each element of the array is:\n",
      "0 1 2 3 4 5 6 7 8 9 10 11 "
     ]
    }
   ],
   "source": [
    "#20. Write a NumPy program to create a 3X4 array using and iterate over it\n",
    "\n",
    "a = np.arange(12).reshape((3, 4))\n",
    "print(\"Original array:\")\n",
    "print(a)\n",
    "print(\"Each element of the array is:\")\n",
    "for x in np.nditer(a):\n",
    "  print(x,end=\" \")"
   ]
  },
  {
   "cell_type": "code",
   "execution_count": 22,
   "metadata": {},
   "outputs": [
    {
     "name": "stdout",
     "output_type": "stream",
     "text": [
      "Length 10 with values evenly distributed between 5 and 50:\n",
      "[ 5. 10. 15. 20. 25. 30. 35. 40. 45. 50.]\n"
     ]
    }
   ],
   "source": [
    "#21. Write a NumPy program to create a vector of length 10 with values evenly \n",
    "#    distributed between 5 and 50. \n",
    "\n",
    "v = np.linspace(5, 50, 10)\n",
    "print(\"Length 10 with values evenly distributed between 5 and 50:\")\n",
    "print(v)"
   ]
  },
  {
   "cell_type": "code",
   "execution_count": 23,
   "metadata": {},
   "outputs": [
    {
     "name": "stdout",
     "output_type": "stream",
     "text": [
      "Original vector:\n",
      "[ 0  1  2  3  4  5  6  7  8  9 10 11 12 13 14 15 16 17 18 19 20]\n",
      "After changing the sign of the numbers in the range from 9 to 15:\n",
      "[  0   1   2   3   4   5   6   7   8  -9 -10 -11 -12 -13 -14 -15  16  17\n",
      "  18  19  20]\n"
     ]
    }
   ],
   "source": [
    "# 22. Write a NumPy program to create a vector with values from 0 to 20 and change the\n",
    "#     sign of the numbers in the range from 9 to 15 \n",
    "\n",
    "x = np.arange(21)\n",
    "print(\"Original vector:\")\n",
    "print(x)\n",
    "print(\"After changing the sign of the numbers in the range from 9 to 15:\")\n",
    "x[(x >= 9) & (x <= 15)] *= -1\n",
    "print(x)\n"
   ]
  },
  {
   "cell_type": "code",
   "execution_count": 24,
   "metadata": {},
   "outputs": [
    {
     "name": "stdout",
     "output_type": "stream",
     "text": [
      "Vector of length 5 filled with arbitrary integers from 0 to 10:\n",
      "[3 8 8 5 8]\n"
     ]
    }
   ],
   "source": [
    "#23. Write a NumPy program to create a vector of length 5 filled with arbitrary integers from 0 to 10. \n",
    "\n",
    "x = np.random.randint(0, 11, 5)\n",
    "print(\"Vector of length 5 filled with arbitrary integers from 0 to 10:\")\n",
    "print(x)"
   ]
  },
  {
   "cell_type": "code",
   "execution_count": 25,
   "metadata": {},
   "outputs": [
    {
     "name": "stdout",
     "output_type": "stream",
     "text": [
      "Vector-1\n",
      "[ 4  7  9 -3]\n",
      "Vector-2\n",
      "[3 2 7 8]\n",
      "Multiply the values of two said vectors:\n",
      "[ 12  14  63 -24]\n"
     ]
    }
   ],
   "source": [
    "#24. Write a NumPy program to multiply the values of two given vectors\n",
    "\n",
    "x = np.array([4,7,9,-3])\n",
    "print(\"Vector-1\")\n",
    "print(x)\n",
    "y= np.random.randint(0, 11, 4)\n",
    "print(\"Vector-2\")\n",
    "print(y)\n",
    "result = x * y\n",
    "print(\"Multiply the values of two said vectors:\")\n",
    "print(result)"
   ]
  }
 ],
 "metadata": {
  "kernelspec": {
   "display_name": "Python 3",
   "language": "python",
   "name": "python3"
  },
  "language_info": {
   "codemirror_mode": {
    "name": "ipython",
    "version": 3
   },
   "file_extension": ".py",
   "mimetype": "text/x-python",
   "name": "python",
   "nbconvert_exporter": "python",
   "pygments_lexer": "ipython3",
   "version": "3.8.5"
  }
 },
 "nbformat": 4,
 "nbformat_minor": 4
}
