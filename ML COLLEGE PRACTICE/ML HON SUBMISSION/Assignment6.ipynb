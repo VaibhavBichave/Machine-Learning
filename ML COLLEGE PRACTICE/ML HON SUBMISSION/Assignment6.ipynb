{
 "cells": [
  {
   "cell_type": "markdown",
   "id": "1e5c3fe5",
   "metadata": {},
   "source": [
    "## Assignment 6\n",
    "\n",
    " 1. Name    : Vaibhav Bichave\n",
    " 2. class   : BE 10 (IT)\n",
    " 3. Roll No.: 43209\n",
    " \n",
    " ### Problem Statement : \n",
    " Write a program to recognize a document is positive or negative based on polarity words using suitable classification method."
   ]
  },
  {
   "cell_type": "code",
   "execution_count": 1,
   "id": "cfd47e66",
   "metadata": {},
   "outputs": [],
   "source": [
    "import nltk"
   ]
  },
  {
   "cell_type": "markdown",
   "id": "0fdbb543",
   "metadata": {},
   "source": [
    "### We will use the corpus nlkt.corpus.movie_reviews as our data."
   ]
  },
  {
   "cell_type": "code",
   "execution_count": 2,
   "id": "76cbee08",
   "metadata": {},
   "outputs": [
    {
     "name": "stderr",
     "output_type": "stream",
     "text": [
      "[nltk_data] Downloading package movie_reviews to\n",
      "[nltk_data]     C:\\Users\\Admin\\AppData\\Roaming\\nltk_data...\n",
      "[nltk_data]   Unzipping corpora\\movie_reviews.zip.\n"
     ]
    },
    {
     "data": {
      "text/plain": [
       "True"
      ]
     },
     "execution_count": 2,
     "metadata": {},
     "output_type": "execute_result"
    }
   ],
   "source": [
    "nltk.download('movie_reviews')"
   ]
  },
  {
   "cell_type": "code",
   "execution_count": 3,
   "id": "d14b02ae",
   "metadata": {},
   "outputs": [
    {
     "ename": "NameError",
     "evalue": "name 'movie_reviews' is not defined",
     "output_type": "error",
     "traceback": [
      "\u001b[1;31m---------------------------------------------------------------------------\u001b[0m",
      "\u001b[1;31mNameError\u001b[0m                                 Traceback (most recent call last)",
      "\u001b[1;32m~\\AppData\\Local\\Temp/ipykernel_21884/448259910.py\u001b[0m in \u001b[0;36m<module>\u001b[1;34m\u001b[0m\n\u001b[1;32m----> 1\u001b[1;33m \u001b[0mprint\u001b[0m\u001b[1;33m(\u001b[0m\u001b[0mlen\u001b[0m\u001b[1;33m(\u001b[0m\u001b[0mmovie_reviews\u001b[0m\u001b[1;33m.\u001b[0m\u001b[0mfileids\u001b[0m\u001b[1;33m(\u001b[0m\u001b[1;33m)\u001b[0m\u001b[1;33m)\u001b[0m\u001b[1;33m)\u001b[0m\u001b[1;33m\u001b[0m\u001b[1;33m\u001b[0m\u001b[0m\n\u001b[0m\u001b[0;32m      2\u001b[0m \u001b[0mprint\u001b[0m\u001b[1;33m(\u001b[0m\u001b[0mmovie_reviews\u001b[0m\u001b[1;33m.\u001b[0m\u001b[0mcategories\u001b[0m\u001b[1;33m(\u001b[0m\u001b[1;33m)\u001b[0m\u001b[1;33m)\u001b[0m\u001b[1;33m\u001b[0m\u001b[1;33m\u001b[0m\u001b[0m\n\u001b[0;32m      3\u001b[0m \u001b[0mprint\u001b[0m\u001b[1;33m(\u001b[0m\u001b[0mmovie_reviews\u001b[0m\u001b[1;33m.\u001b[0m\u001b[0mwords\u001b[0m\u001b[1;33m(\u001b[0m\u001b[1;33m)\u001b[0m\u001b[1;33m[\u001b[0m\u001b[1;33m:\u001b[0m\u001b[1;36m100\u001b[0m\u001b[1;33m]\u001b[0m\u001b[1;33m)\u001b[0m\u001b[1;33m\u001b[0m\u001b[1;33m\u001b[0m\u001b[0m\n\u001b[0;32m      4\u001b[0m \u001b[0mprint\u001b[0m\u001b[1;33m(\u001b[0m\u001b[0mmovie_reviews\u001b[0m\u001b[1;33m.\u001b[0m\u001b[0mfileids\u001b[0m\u001b[1;33m(\u001b[0m\u001b[1;33m)\u001b[0m\u001b[1;33m[\u001b[0m\u001b[1;33m:\u001b[0m\u001b[1;36m10\u001b[0m\u001b[1;33m]\u001b[0m\u001b[1;33m)\u001b[0m\u001b[1;33m\u001b[0m\u001b[1;33m\u001b[0m\u001b[0m\n",
      "\u001b[1;31mNameError\u001b[0m: name 'movie_reviews' is not defined"
     ]
    }
   ],
   "source": [
    "print(len(movie_reviews.fileids()))\n",
    "print(movie_reviews.categories())\n",
    "print(movie_reviews.words()[:100])\n",
    "print(movie_reviews.fileids()[:10])"
   ]
  },
  {
   "cell_type": "markdown",
   "id": "7fefe7de",
   "metadata": {},
   "source": [
    "### Rearrange the corpus data as a list of tuple, where the first element is the word tokens of the documents, and the second element is the label of the documents (i.e., sentiment labels)."
   ]
  },
  {
   "cell_type": "code",
   "execution_count": null,
   "id": "0777129b",
   "metadata": {},
   "outputs": [],
   "source": [
    "documents = [(list(movie_reviews.words(fileid)), category) for category in movie_reviews.categories() for fileid in movie_reviews.fileids(category)]"
   ]
  },
  {
   "cell_type": "code",
   "execution_count": null,
   "id": "5fc0de78",
   "metadata": {},
   "outputs": [],
   "source": [
    "print('Number of Reviews/Documents: {}'.format(len(documents)))\n",
    "print('Corpus Size (words): {}'.format(np.sum([len(d) for (d,l) in documents])))\n",
    "print('\\n\\nSample Text of Doc 1:\\n\\n')\n",
    "print(' '.join(documents[0][0][:50])) # first 50 words of the first document"
   ]
  },
  {
   "cell_type": "markdown",
   "id": "043e8195",
   "metadata": {},
   "source": [
    "### We split the entire dataset into two parts: training set and testing set."
   ]
  },
  {
   "cell_type": "code",
   "execution_count": null,
   "id": "424c5a9f",
   "metadata": {},
   "outputs": [],
   "source": [
    "from sklearn.model_selection import train_test_split\n",
    "\n",
    "train, test = train_test_split(documents, test_size = 0.3, random_state=42)"
   ]
  },
  {
   "cell_type": "markdown",
   "id": "52a63d2d",
   "metadata": {},
   "source": [
    "### In the train-test split, make sure the the distribution of the classes is proportional."
   ]
  },
  {
   "cell_type": "code",
   "execution_count": null,
   "id": "0cafe6d6",
   "metadata": {},
   "outputs": [],
   "source": [
    "## Check Sentiment Distribution of the Current Dataset\n",
    "\n",
    "from collections import Counter\n",
    "\n",
    "sentiment_distr = Counter([label for (words, label) in documents])\n",
    "print(sentiment_distr)"
   ]
  },
  {
   "cell_type": "code",
   "execution_count": null,
   "id": "93c1809d",
   "metadata": {},
   "outputs": [],
   "source": [
    "X_train = [' '.join(words) for (words, label) in train]\n",
    "X_test = [' '.join(words) for (words, label) in test]\n",
    "y_train = [label for (words, label) in train]\n",
    "y_test = [label for (words, label) in test]"
   ]
  },
  {
   "cell_type": "markdown",
   "id": "69351189",
   "metadata": {},
   "source": [
    "### In feature-based machine learning, we need to vectorize texts into feature sets (i.e., feature engineering on texts).\n",
    "\n",
    "### We use the naive bag-of-words text vectorization. In particular, we use the weighted version of BOW"
   ]
  },
  {
   "cell_type": "code",
   "execution_count": null,
   "id": "2937f11b",
   "metadata": {},
   "outputs": [],
   "source": [
    "from sklearn.feature_extraction.text import CountVectorizer, TfidfVectorizer\n",
    "\n",
    "tfidf_vec = TfidfVectorizer(min_df = 10, token_pattern = r'[a-zA-Z]+')\n",
    "X_train_bow = tfidf_vec.fit_transform(X_train) # fit train\n",
    "X_test_bow = tfidf_vec.transform(X_test) # transform test"
   ]
  },
  {
   "cell_type": "code",
   "execution_count": null,
   "id": "fc2e1fa4",
   "metadata": {},
   "outputs": [],
   "source": [
    "print(X_train_bow.shape)\n",
    "print(X_test_bow.shape)"
   ]
  },
  {
   "cell_type": "markdown",
   "id": "39f23de3",
   "metadata": {},
   "source": [
    "### For our current binary sentiment classifier, we will try Logistic Regression"
   ]
  },
  {
   "cell_type": "code",
   "execution_count": null,
   "id": "a23a0485",
   "metadata": {},
   "outputs": [],
   "source": [
    "from sklearn.linear_model import LogisticRegression\n",
    "\n",
    "model_lg = LogisticRegression()\n",
    "model_lg.fit(X_train_bow, y_train)"
   ]
  },
  {
   "cell_type": "code",
   "execution_count": null,
   "id": "ee4f555e",
   "metadata": {},
   "outputs": [],
   "source": [
    "model_lg.predict(X_test_bow[:10].toarray())"
   ]
  },
  {
   "cell_type": "markdown",
   "id": "3e110dad",
   "metadata": {},
   "source": [
    "### Evaluating our model"
   ]
  },
  {
   "cell_type": "code",
   "execution_count": null,
   "id": "cbfb110e",
   "metadata": {},
   "outputs": [],
   "source": [
    "#Mean Accuracy\n",
    "\n",
    "print(model_lg.score(X_test_bow, y_test))"
   ]
  },
  {
   "cell_type": "code",
   "execution_count": null,
   "id": "d277f8b5",
   "metadata": {},
   "outputs": [],
   "source": [
    "# F1 Score\n",
    "\n",
    "from sklearn.metrics import f1_score\n",
    "\n",
    "y_pred = model_lg.predict(X_test_bow)\n",
    "\n",
    "f1_score(y_test, y_pred, \n",
    "         average=None, \n",
    "         labels = movie_reviews.categories())"
   ]
  },
  {
   "cell_type": "code",
   "execution_count": null,
   "id": "f103b66b",
   "metadata": {},
   "outputs": [],
   "source": [
    "# Confusion Matrix\n",
    "\n",
    "from sklearn.metrics import plot_confusion_matrix\n",
    "\n",
    "plot_confusion_matrix(model_lg, X_test_bow.toarray(), y_test, normalize='all')"
   ]
  },
  {
   "cell_type": "code",
   "execution_count": null,
   "id": "c917eee1",
   "metadata": {},
   "outputs": [],
   "source": []
  }
 ],
 "metadata": {
  "kernelspec": {
   "display_name": "Python 3 (ipykernel)",
   "language": "python",
   "name": "python3"
  },
  "language_info": {
   "codemirror_mode": {
    "name": "ipython",
    "version": 3
   },
   "file_extension": ".py",
   "mimetype": "text/x-python",
   "name": "python",
   "nbconvert_exporter": "python",
   "pygments_lexer": "ipython3",
   "version": "3.8.6"
  },
  "vscode": {
   "interpreter": {
    "hash": "58dbfdb34cf82127b32c5737e6183911655ff227e5c11e8f5e4b25048ae98ef2"
   }
  }
 },
 "nbformat": 4,
 "nbformat_minor": 5
}
