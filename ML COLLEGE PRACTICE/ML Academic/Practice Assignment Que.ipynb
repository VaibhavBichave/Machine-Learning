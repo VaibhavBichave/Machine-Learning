{
 "cells": [
  {
   "cell_type": "code",
   "execution_count": 1,
   "metadata": {},
   "outputs": [],
   "source": [
    "import numpy as np"
   ]
  },
  {
   "cell_type": "code",
   "execution_count": 2,
   "metadata": {},
   "outputs": [
    {
     "data": {
      "text/plain": [
       "array([ 0, 10, 20, 30, 40, 50, 60, 70, 80])"
      ]
     },
     "execution_count": 2,
     "metadata": {},
     "output_type": "execute_result"
    }
   ],
   "source": [
    "#Question 1\n",
    "\n",
    "arr1=np.array([0,10,20,40,60,80])\n",
    "arr2=np.array([10,30,40,50,70])\n",
    "x=np.union1d(arr1,arr2)\n",
    "x"
   ]
  },
  {
   "cell_type": "code",
   "execution_count": 3,
   "metadata": {},
   "outputs": [
    {
     "name": "stdout",
     "output_type": "stream",
     "text": [
      "[False  True False]\n",
      "[ True False False]\n",
      "[ True False  True]\n",
      "[False  True  True]\n"
     ]
    }
   ],
   "source": [
    "#Question 2\n",
    "\n",
    "x=np.array([4,8,7])\n",
    "y=np.array([6,5,7])\n",
    "print(x>y)\n",
    "print(x<y)\n",
    "print(x<=y)\n",
    "print(x>=y)"
   ]
  },
  {
   "cell_type": "code",
   "execution_count": 4,
   "metadata": {},
   "outputs": [
    {
     "name": "stdout",
     "output_type": "stream",
     "text": [
      "[[1 2 3]\n",
      " [4 5 6]]\n",
      "(2, 3)\n",
      "int32\n"
     ]
    }
   ],
   "source": [
    "#Question 3\n",
    "\n",
    "x=np.arange(1,7).reshape(2,3)\n",
    "print(x)\n",
    "print(x.shape)\n",
    "print(x.dtype)"
   ]
  },
  {
   "cell_type": "code",
   "execution_count": 5,
   "metadata": {},
   "outputs": [
    {
     "name": "stdout",
     "output_type": "stream",
     "text": [
      "[[0. 0. 0. 0. 0.]\n",
      " [0. 0. 0. 0. 0.]\n",
      " [0. 0. 0. 0. 0.]]\n",
      "\n",
      "[[12. 12. 12. 12. 12.]\n",
      " [12. 12. 12. 12. 12.]\n",
      " [12. 12. 12. 12. 12.]]\n"
     ]
    }
   ],
   "source": [
    "#Question 4\n",
    "\n",
    "x=np.zeros([3,5])\n",
    "y=np.ones([3,5])*12\n",
    "print(x)\n",
    "print()\n",
    "print(y)\n"
   ]
  },
  {
   "cell_type": "code",
   "execution_count": 6,
   "metadata": {},
   "outputs": [
    {
     "name": "stdout",
     "output_type": "stream",
     "text": [
      "7\n",
      "[ 7 14 21 28 35 42 49 56 63 70]\n"
     ]
    }
   ],
   "source": [
    "#Question 5\n",
    "\n",
    "y=int(input())\n",
    "x=np.arange(1,11)\n",
    "print(x*y)"
   ]
  },
  {
   "cell_type": "code",
   "execution_count": 7,
   "metadata": {},
   "outputs": [
    {
     "name": "stdout",
     "output_type": "stream",
     "text": [
      "Mergesort =  [-4 -3  2  4  4  5  7  9 58]\n",
      "Quicksort =  [-4 -3  2  4  4  5  7  9 58]\n"
     ]
    }
   ],
   "source": [
    "#Quetion 6\n",
    "arr=np.array([58,4,7,9,4,-3,5,2,-4])\n",
    "print(\"Mergesort = \", np.sort(arr, -1, 'mergesort'))\n",
    "print(\"Quicksort = \", np.sort(arr, -1, 'quicksort'))"
   ]
  },
  {
   "cell_type": "code",
   "execution_count": 8,
   "metadata": {},
   "outputs": [
    {
     "name": "stdout",
     "output_type": "stream",
     "text": [
      "addition  :\n",
      " [[11 10 11]\n",
      " [ 8 16  5]\n",
      " [11  6 10]]\n",
      "\n",
      "subtract: \n",
      " [[-5  0  5]\n",
      " [ 0  2  1]\n",
      " [ 1  0  6]]\n"
     ]
    }
   ],
   "source": [
    "#Question 7\n",
    "\n",
    "x=np.array([[3,5,8],[4,9,3],[6,3,8]])\n",
    "y=np.array([[8,5,3],[4,7,2],[5,3,2]])\n",
    "print(\"addition  :\\n\",x+y)\n",
    "print(\"\\nsubtract: \\n\", x-y)\n",
    "\n"
   ]
  },
  {
   "cell_type": "code",
   "execution_count": 9,
   "metadata": {},
   "outputs": [
    {
     "name": "stdout",
     "output_type": "stream",
     "text": [
      "[ 3  7  9 -6  3]\n",
      "False\n",
      "[ 7  9 -6  3  6]\n"
     ]
    }
   ],
   "source": [
    "#Question 8\n",
    "\n",
    "def enqueue(l,x):\n",
    "    l = np.append(l, x)\n",
    "    return l\n",
    "\n",
    "\n",
    "def dequeue(l):\n",
    "    if(len(l)>0):\n",
    "        l=np.delete(l,0)\n",
    "    return l\n",
    "\n",
    "def isempty(l):\n",
    "    if(len(l)>0):\n",
    "        return False\n",
    "    else:\n",
    "        return True\n",
    "\n",
    "\n",
    "        \n",
    "l=np.array([3,7,9,-6,3])\n",
    "print(l)\n",
    "l=enqueue(l,6)\n",
    "l=dequeue(l)\n",
    "print(isempty(l))\n",
    "print(l)"
   ]
  }
 ],
 "metadata": {
  "kernelspec": {
   "display_name": "Python 3 (ipykernel)",
   "language": "python",
   "name": "python3"
  },
  "language_info": {
   "codemirror_mode": {
    "name": "ipython",
    "version": 3
   },
   "file_extension": ".py",
   "mimetype": "text/x-python",
   "name": "python",
   "nbconvert_exporter": "python",
   "pygments_lexer": "ipython3",
   "version": "3.8.6"
  }
 },
 "nbformat": 4,
 "nbformat_minor": 4
}
