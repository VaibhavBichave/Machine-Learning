{
 "cells": [
  {
   "cell_type": "code",
   "execution_count": 4,
   "metadata": {
    "id": "aUekjfzZm1po"
   },
   "outputs": [],
   "source": [
    "import pandas as pd;\n",
    "import numpy as np;\n",
    "from sklearn.linear_model import LinearRegression\n",
    "import matplotlib.pyplot as plt;"
   ]
  },
  {
   "cell_type": "code",
   "execution_count": 5,
   "metadata": {
    "colab": {
     "base_uri": "https://localhost:8080/",
     "height": 423
    },
    "id": "m5TVk3D5ssOU",
    "outputId": "322efba0-e5c1-4bdf-af46-699c0330e077"
   },
   "outputs": [
    {
     "data": {
      "text/html": [
       "<div>\n",
       "<style scoped>\n",
       "    .dataframe tbody tr th:only-of-type {\n",
       "        vertical-align: middle;\n",
       "    }\n",
       "\n",
       "    .dataframe tbody tr th {\n",
       "        vertical-align: top;\n",
       "    }\n",
       "\n",
       "    .dataframe thead th {\n",
       "        text-align: right;\n",
       "    }\n",
       "</style>\n",
       "<table border=\"1\" class=\"dataframe\">\n",
       "  <thead>\n",
       "    <tr style=\"text-align: right;\">\n",
       "      <th></th>\n",
       "      <th>bwt</th>\n",
       "      <th>gestation</th>\n",
       "      <th>parity</th>\n",
       "      <th>age</th>\n",
       "      <th>height</th>\n",
       "      <th>weight</th>\n",
       "      <th>smoke</th>\n",
       "    </tr>\n",
       "  </thead>\n",
       "  <tbody>\n",
       "    <tr>\n",
       "      <th>0</th>\n",
       "      <td>120</td>\n",
       "      <td>284</td>\n",
       "      <td>0</td>\n",
       "      <td>27</td>\n",
       "      <td>62</td>\n",
       "      <td>100</td>\n",
       "      <td>0</td>\n",
       "    </tr>\n",
       "    <tr>\n",
       "      <th>1</th>\n",
       "      <td>113</td>\n",
       "      <td>282</td>\n",
       "      <td>0</td>\n",
       "      <td>33</td>\n",
       "      <td>64</td>\n",
       "      <td>135</td>\n",
       "      <td>0</td>\n",
       "    </tr>\n",
       "    <tr>\n",
       "      <th>2</th>\n",
       "      <td>128</td>\n",
       "      <td>279</td>\n",
       "      <td>0</td>\n",
       "      <td>28</td>\n",
       "      <td>64</td>\n",
       "      <td>115</td>\n",
       "      <td>1</td>\n",
       "    </tr>\n",
       "    <tr>\n",
       "      <th>3</th>\n",
       "      <td>108</td>\n",
       "      <td>282</td>\n",
       "      <td>0</td>\n",
       "      <td>23</td>\n",
       "      <td>67</td>\n",
       "      <td>125</td>\n",
       "      <td>1</td>\n",
       "    </tr>\n",
       "    <tr>\n",
       "      <th>4</th>\n",
       "      <td>136</td>\n",
       "      <td>286</td>\n",
       "      <td>0</td>\n",
       "      <td>25</td>\n",
       "      <td>62</td>\n",
       "      <td>93</td>\n",
       "      <td>0</td>\n",
       "    </tr>\n",
       "    <tr>\n",
       "      <th>...</th>\n",
       "      <td>...</td>\n",
       "      <td>...</td>\n",
       "      <td>...</td>\n",
       "      <td>...</td>\n",
       "      <td>...</td>\n",
       "      <td>...</td>\n",
       "      <td>...</td>\n",
       "    </tr>\n",
       "    <tr>\n",
       "      <th>1169</th>\n",
       "      <td>113</td>\n",
       "      <td>275</td>\n",
       "      <td>1</td>\n",
       "      <td>27</td>\n",
       "      <td>60</td>\n",
       "      <td>100</td>\n",
       "      <td>0</td>\n",
       "    </tr>\n",
       "    <tr>\n",
       "      <th>1170</th>\n",
       "      <td>128</td>\n",
       "      <td>265</td>\n",
       "      <td>0</td>\n",
       "      <td>24</td>\n",
       "      <td>67</td>\n",
       "      <td>120</td>\n",
       "      <td>0</td>\n",
       "    </tr>\n",
       "    <tr>\n",
       "      <th>1171</th>\n",
       "      <td>130</td>\n",
       "      <td>291</td>\n",
       "      <td>0</td>\n",
       "      <td>30</td>\n",
       "      <td>65</td>\n",
       "      <td>150</td>\n",
       "      <td>1</td>\n",
       "    </tr>\n",
       "    <tr>\n",
       "      <th>1172</th>\n",
       "      <td>125</td>\n",
       "      <td>281</td>\n",
       "      <td>1</td>\n",
       "      <td>21</td>\n",
       "      <td>65</td>\n",
       "      <td>110</td>\n",
       "      <td>0</td>\n",
       "    </tr>\n",
       "    <tr>\n",
       "      <th>1173</th>\n",
       "      <td>117</td>\n",
       "      <td>297</td>\n",
       "      <td>0</td>\n",
       "      <td>38</td>\n",
       "      <td>65</td>\n",
       "      <td>129</td>\n",
       "      <td>0</td>\n",
       "    </tr>\n",
       "  </tbody>\n",
       "</table>\n",
       "<p>1174 rows × 7 columns</p>\n",
       "</div>"
      ],
      "text/plain": [
       "      bwt  gestation  parity  age  height  weight  smoke\n",
       "0     120        284       0   27      62     100      0\n",
       "1     113        282       0   33      64     135      0\n",
       "2     128        279       0   28      64     115      1\n",
       "3     108        282       0   23      67     125      1\n",
       "4     136        286       0   25      62      93      0\n",
       "...   ...        ...     ...  ...     ...     ...    ...\n",
       "1169  113        275       1   27      60     100      0\n",
       "1170  128        265       0   24      67     120      0\n",
       "1171  130        291       0   30      65     150      1\n",
       "1172  125        281       1   21      65     110      0\n",
       "1173  117        297       0   38      65     129      0\n",
       "\n",
       "[1174 rows x 7 columns]"
      ]
     },
     "execution_count": 5,
     "metadata": {},
     "output_type": "execute_result"
    }
   ],
   "source": [
    "data = pd.read_csv(\"./Bwt.csv\");\n",
    "data.drop(axis=0, columns=[\"Unnamed: 0\"], inplace=True);\n",
    "data"
   ]
  },
  {
   "cell_type": "code",
   "execution_count": 13,
   "metadata": {
    "id": "5otC2l0KvR7a"
   },
   "outputs": [],
   "source": [
    "age = data[\"age\"]\n",
    "bwt = data[\"bwt\"] * 0.0625\n",
    "weight = data[\"weight\"]"
   ]
  },
  {
   "cell_type": "code",
   "execution_count": 14,
   "metadata": {
    "colab": {
     "base_uri": "https://localhost:8080/"
    },
    "id": "qTZEkjvem_0w",
    "outputId": "54121236-f8f1-4cc8-845a-1178c537599a"
   },
   "outputs": [
    {
     "name": "stdout",
     "output_type": "stream",
     "text": [
      "0.026982911002929492\n"
     ]
    }
   ],
   "source": [
    "# Correlation of Baby's birth weight with Mother's age\n",
    "print(age.corr(bwt))"
   ]
  },
  {
   "cell_type": "code",
   "execution_count": 15,
   "metadata": {
    "colab": {
     "base_uri": "https://localhost:8080/"
    },
    "id": "dBhpVyqdnS8w",
    "outputId": "feedcc08-7a96-485a-964b-2336431c2a8a"
   },
   "outputs": [
    {
     "name": "stdout",
     "output_type": "stream",
     "text": [
      "0.15592327018706933\n"
     ]
    }
   ],
   "source": [
    "# Correlation of Baby's birth weight with Mother's weight\n",
    "print(weight.corr(bwt))"
   ]
  },
  {
   "cell_type": "code",
   "execution_count": 29,
   "metadata": {
    "colab": {
     "base_uri": "https://localhost:8080/",
     "height": 520
    },
    "id": "lnczEsuQvl9_",
    "outputId": "dc04fff8-64bb-4a6f-9251-3d2054055a6c"
   },
   "outputs": [
    {
     "data": {
      "image/png": "[encoded data removed]",
      "text/plain": [
       "<Figure size 720x576 with 1 Axes>"
      ]
     },
     "metadata": {
      "needs_background": "light"
     },
     "output_type": "display_data"
    }
   ],
   "source": [
    "# Linear Regression of Baby's weight with mother's age\n",
    "reg = LinearRegression()\n",
    "trainingData = data.head(round(len(data) * 0.75))\n",
    "testingData = data.tail(round(len(data) * 0.25))\n",
    "reg.fit(trainingData[[\"age\"]],trainingData[\"bwt\"])\n",
    "\n",
    "plt.figure(figsize=(10,8))\n",
    "plt.rcParams.update({'font.size': 12})\n",
    "plt.scatter(testingData[\"age\"],testingData[\"bwt\"],marker=\"o\",c=\"red\")\n",
    "plt.title(\"Mother's Age vs Baby's birth weight\")\n",
    "plt.ylabel(\"Baby's birth weight (pounds)\")\n",
    "plt.xlabel(\"Mother's Age\")\n",
    "plt.plot(testingData[\"age\"],reg.predict(testingData[[\"age\"]]))\n",
    "plt.show()"
   ]
  },
  {
   "cell_type": "code",
   "execution_count": 31,
   "metadata": {
    "colab": {
     "base_uri": "https://localhost:8080/",
     "height": 520
    },
    "id": "tqPazHJ6vvjv",
    "outputId": "2cd7dfef-6bb1-42a7-d8a5-399f0f581124"
   },
   "outputs": [
    {
     "data": {
      "image/png": "[encoded data removed]",
      "text/plain": [
       "<Figure size 720x576 with 1 Axes>"
      ]
     },
     "metadata": {
      "needs_background": "light"
     },
     "output_type": "display_data"
    }
   ],
   "source": [
    "# Correlation of Baby's weight with mother's weight\n",
    "reg = LinearRegression()\n",
    "trainingData = data.head(round(len(data) * 0.75))\n",
    "testingData = data.tail(round(len(data) * 0.25))\n",
    "reg.fit(trainingData[[\"weight\"]],trainingData[\"bwt\"])\n",
    "\n",
    "plt.figure(figsize=(10,8))\n",
    "plt.title(\"Mother's weight vs Baby's birth weight\")\n",
    "plt.scatter(testingData[\"weight\"],testingData[\"bwt\"],marker=\"o\",c=\"red\")\n",
    "plt.xlabel(\"Mother's weight (pounds)\")\n",
    "plt.ylabel(\"Baby's birth weight (pounds)\")\n",
    "plt.plot(testingData[\"weight\"],reg.predict(testingData[[\"weight\"]]))\n",
    "plt.show()"
   ]
  },
  {
   "cell_type": "code",
   "execution_count": 11,
   "metadata": {
    "id": "X_F6eXpSnecy"
   },
   "outputs": [],
   "source": [
    "# Conclusion\n",
    "# 1. Correlation of baby's weight with mother's age is very less. Hence, they are highly non-correlated.\n",
    "#    Therefore, Regression line could not fit the scatter plot properly.\n",
    "# 2. Correlation between baby's weight with mother's weight is greater than previous, but overall it is very less.\n",
    "#    Therefore, regression line fits through many points, but does not fit efficiently."
   ]
  }
 ],
 "metadata": {
  "colab": {
   "collapsed_sections": [],
   "name": "33231_Honours_assignment_3.ipynb",
   "provenance": []
  },
  "kernelspec": {
   "display_name": "Python 3",
   "name": "python3"
  },
  "language_info": {
   "name": "python"
  }
 },
 "nbformat": 4,
 "nbformat_minor": 0
}
