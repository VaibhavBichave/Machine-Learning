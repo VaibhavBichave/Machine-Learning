{
 "cells": [
  {
   "cell_type": "markdown",
   "id": "lx2QMMeb9rT4",
   "metadata": {
    "id": "lx2QMMeb9rT4"
   },
   "source": [
    "## Assignment 6\n",
    "\n",
    " 1. Name    : Vaibhav Bichave\n",
    " 2. class   : BE 10 (IT)\n",
    " 3. Roll No.: 43209\n",
    " \n",
    " ### Problem Statement : \n",
    " Write a program to recognize a document is positive or negative based on polarity words using suitable classification method."
   ]
  },
  {
   "cell_type": "code",
   "execution_count": 1,
   "id": "cfd47e66",
   "metadata": {
    "id": "cfd47e66"
   },
   "outputs": [],
   "source": [
    "import pandas as pd\n",
    "import numpy as np\n",
    "import seaborn as sns\n",
    "import matplotlib.pyplot as plt\n",
    "import warnings\n",
    "warnings.filterwarnings('ignore')\n",
    "%matplotlib inline\n",
    "import nltk"
   ]
  },
  {
   "cell_type": "markdown",
   "id": "0fdbb543",
   "metadata": {
    "id": "0fdbb543"
   },
   "source": [
    "### We will use the corpus nlkt.corpus.movie_reviews as our data."
   ]
  },
  {
   "cell_type": "code",
   "execution_count": 2,
   "id": "76cbee08",
   "metadata": {
    "colab": {
     "base_uri": "https://localhost:8080/"
    },
    "id": "76cbee08",
    "outputId": "229213c4-067c-4008-f6ba-d1bc46d7a9f6"
   },
   "outputs": [
    {
     "name": "stderr",
     "output_type": "stream",
     "text": [
      "[nltk_data] Downloading package movie_reviews to\n",
      "[nltk_data]     C:\\Users\\Admin\\AppData\\Roaming\\nltk_data...\n",
      "[nltk_data]   Package movie_reviews is already up-to-date!\n"
     ]
    },
    {
     "data": {
      "text/plain": [
       "True"
      ]
     },
     "execution_count": 2,
     "metadata": {},
     "output_type": "execute_result"
    }
   ],
   "source": [
    "nltk.download('movie_reviews')"
   ]
  },
  {
   "cell_type": "code",
   "execution_count": 3,
   "id": "d14b02ae",
   "metadata": {
    "colab": {
     "base_uri": "https://localhost:8080/"
    },
    "id": "d14b02ae",
    "outputId": "8944683c-4525-423a-b197-6bc4c4c7dfed"
   },
   "outputs": [
    {
     "name": "stdout",
     "output_type": "stream",
     "text": [
      "2000\n",
      "['neg', 'pos']\n",
      "['plot', ':', 'two', 'teen', 'couples', 'go', 'to', ...]\n",
      "['neg/cv000_29416.txt', 'neg/cv001_19502.txt', 'neg/cv002_17424.txt', 'neg/cv003_12683.txt', 'neg/cv004_12641.txt', 'neg/cv005_29357.txt', 'neg/cv006_17022.txt', 'neg/cv007_4992.txt', 'neg/cv008_29326.txt', 'neg/cv009_29417.txt']\n"
     ]
    }
   ],
   "source": [
    "print(len(nltk.corpus.movie_reviews.fileids()))\n",
    "print(nltk.corpus.movie_reviews.categories())\n",
    "print(nltk.corpus.movie_reviews.words()[:100])\n",
    "print(nltk.corpus.movie_reviews.fileids()[:10])"
   ]
  },
  {
   "cell_type": "markdown",
   "id": "7fefe7de",
   "metadata": {
    "id": "7fefe7de"
   },
   "source": [
    "Rearrange the corpus data as a list of tuple, where the first element is the word tokens of the documents, and the second element is the label of the documents (i.e., sentiment labels)."
   ]
  },
  {
   "cell_type": "code",
   "execution_count": 4,
   "id": "GZVyJCM1-Ria",
   "metadata": {
    "id": "GZVyJCM1-Ria"
   },
   "outputs": [],
   "source": [
    "movie_reviews=nltk.corpus.movie_reviews"
   ]
  },
  {
   "cell_type": "code",
   "execution_count": 5,
   "id": "0777129b",
   "metadata": {
    "id": "0777129b"
   },
   "outputs": [],
   "source": [
    "documents = [(list(movie_reviews.words(fileid)), category) for category in movie_reviews.categories() for fileid in movie_reviews.fileids(category)]"
   ]
  },
  {
   "cell_type": "code",
   "execution_count": 6,
   "id": "lmNrzf3A-Vrp",
   "metadata": {
    "id": "lmNrzf3A-Vrp"
   },
   "outputs": [],
   "source": [
    "import numpy as np"
   ]
  },
  {
   "cell_type": "code",
   "execution_count": 7,
   "id": "5fc0de78",
   "metadata": {
    "colab": {
     "base_uri": "https://localhost:8080/"
    },
    "id": "5fc0de78",
    "outputId": "b2e38983-9290-49d4-d2ae-daac78935086"
   },
   "outputs": [
    {
     "name": "stdout",
     "output_type": "stream",
     "text": [
      "Number of Reviews/Documents: 2000\n",
      "Corpus Size (words): 1583820\n",
      "\n",
      "\n",
      "Sample Text of Doc 1:\n",
      "\n",
      "\n",
      "plot : two teen couples go to a church party , drink and then drive . they get into an accident . one of the guys dies , but his girlfriend continues to see him in her life , and has nightmares . what ' s the deal ? watch\n"
     ]
    }
   ],
   "source": [
    "print('Number of Reviews/Documents: {}'.format(len(documents)))\n",
    "print('Corpus Size (words): {}'.format(np.sum([len(d) for (d,l) in documents])))\n",
    "print('\\n\\nSample Text of Doc 1:\\n\\n')\n",
    "print(' '.join(documents[0][0][:50])) "
   ]
  },
  {
   "cell_type": "markdown",
   "id": "043e8195",
   "metadata": {
    "id": "043e8195"
   },
   "source": [
    "### We split the entire dataset into two parts: training set and testing set."
   ]
  },
  {
   "cell_type": "code",
   "execution_count": 8,
   "id": "424c5a9f",
   "metadata": {
    "id": "424c5a9f"
   },
   "outputs": [],
   "source": [
    "from sklearn.model_selection import train_test_split\n",
    "\n",
    "train, test = train_test_split(documents, test_size = 0.3, random_state=42)"
   ]
  },
  {
   "cell_type": "markdown",
   "id": "52a63d2d",
   "metadata": {
    "id": "52a63d2d"
   },
   "source": [
    "### In the train-test split, make sure the the distribution of the classes is proportional."
   ]
  },
  {
   "cell_type": "code",
   "execution_count": 9,
   "id": "0cafe6d6",
   "metadata": {
    "colab": {
     "base_uri": "https://localhost:8080/"
    },
    "id": "0cafe6d6",
    "outputId": "1a32d339-f071-4c40-b98b-5b79099989e0"
   },
   "outputs": [
    {
     "name": "stdout",
     "output_type": "stream",
     "text": [
      "Counter({'neg': 1000, 'pos': 1000})\n"
     ]
    }
   ],
   "source": [
    "## Check Sentiment Distribution of the Current Dataset\n",
    "\n",
    "from collections import Counter\n",
    "\n",
    "sentiment_distr = Counter([label for (words, label) in documents])\n",
    "print(sentiment_distr)"
   ]
  },
  {
   "cell_type": "code",
   "execution_count": 10,
   "id": "93c1809d",
   "metadata": {
    "id": "93c1809d"
   },
   "outputs": [],
   "source": [
    "X_train = [' '.join(words) for (words, label) in train]\n",
    "X_test = [' '.join(words) for (words, label) in test]\n",
    "y_train = [label for (words, label) in train]\n",
    "y_test = [label for (words, label) in test]"
   ]
  },
  {
   "cell_type": "markdown",
   "id": "69351189",
   "metadata": {
    "id": "69351189"
   },
   "source": [
    "### In feature-based machine learning, we need to vectorize texts into feature sets (i.e., feature engineering on texts).\n",
    "\n",
    "### We use the naive bag-of-words text vectorization. In particular, we use the weighted version of BOW"
   ]
  },
  {
   "cell_type": "code",
   "execution_count": 11,
   "id": "2937f11b",
   "metadata": {
    "id": "2937f11b"
   },
   "outputs": [],
   "source": [
    "from sklearn.feature_extraction.text import CountVectorizer, TfidfVectorizer\n",
    "\n",
    "tfidf_vec = TfidfVectorizer(min_df = 10, token_pattern = r'[a-zA-Z]+')\n",
    "X_train_bow = tfidf_vec.fit_transform(X_train) # fit train\n",
    "X_test_bow = tfidf_vec.transform(X_test) # transform test"
   ]
  },
  {
   "cell_type": "code",
   "execution_count": 12,
   "id": "fc2e1fa4",
   "metadata": {
    "colab": {
     "base_uri": "https://localhost:8080/"
    },
    "id": "fc2e1fa4",
    "outputId": "160dfc69-e758-4803-a49f-990e0d9525e0"
   },
   "outputs": [
    {
     "name": "stdout",
     "output_type": "stream",
     "text": [
      "(1400, 6344)\n",
      "(600, 6344)\n"
     ]
    }
   ],
   "source": [
    "print(X_train_bow.shape)\n",
    "print(X_test_bow.shape)"
   ]
  },
  {
   "cell_type": "markdown",
   "id": "39f23de3",
   "metadata": {
    "id": "39f23de3"
   },
   "source": [
    "### For our current binary sentiment classifier, we will try Logistic Regression"
   ]
  },
  {
   "cell_type": "code",
   "execution_count": 13,
   "id": "a23a0485",
   "metadata": {
    "colab": {
     "base_uri": "https://localhost:8080/"
    },
    "id": "a23a0485",
    "outputId": "fbe1b556-5d69-4454-a989-2e0ff8269e49"
   },
   "outputs": [
    {
     "data": {
      "text/plain": [
       "LogisticRegression()"
      ]
     },
     "execution_count": 13,
     "metadata": {},
     "output_type": "execute_result"
    }
   ],
   "source": [
    "from sklearn.linear_model import LogisticRegression\n",
    "\n",
    "model_lg = LogisticRegression()\n",
    "model_lg.fit(X_train_bow, y_train)"
   ]
  },
  {
   "cell_type": "code",
   "execution_count": 14,
   "id": "ee4f555e",
   "metadata": {
    "colab": {
     "base_uri": "https://localhost:8080/"
    },
    "id": "ee4f555e",
    "outputId": "1065d2b4-df14-47bf-a04b-58d0a0f5d24b"
   },
   "outputs": [
    {
     "data": {
      "text/plain": [
       "array(['pos', 'pos', 'pos', 'pos', 'pos', 'pos', 'neg', 'pos', 'neg',\n",
       "       'pos'], dtype='<U3')"
      ]
     },
     "execution_count": 14,
     "metadata": {},
     "output_type": "execute_result"
    }
   ],
   "source": [
    "model_lg.predict(X_test_bow[:10].toarray())"
   ]
  },
  {
   "cell_type": "markdown",
   "id": "3e110dad",
   "metadata": {
    "id": "3e110dad"
   },
   "source": [
    "### Evaluating our model"
   ]
  },
  {
   "cell_type": "code",
   "execution_count": 15,
   "id": "cbfb110e",
   "metadata": {
    "colab": {
     "base_uri": "https://localhost:8080/"
    },
    "id": "cbfb110e",
    "outputId": "48ee6080-b60c-4858-a48c-c6998aba6fd2"
   },
   "outputs": [
    {
     "name": "stdout",
     "output_type": "stream",
     "text": [
      "0.8183333333333334\n"
     ]
    }
   ],
   "source": [
    "#Mean Accuracy\n",
    "\n",
    "print(model_lg.score(X_test_bow, y_test))"
   ]
  },
  {
   "cell_type": "code",
   "execution_count": 16,
   "id": "d277f8b5",
   "metadata": {
    "colab": {
     "base_uri": "https://localhost:8080/"
    },
    "id": "d277f8b5",
    "outputId": "b384f2d4-2741-487f-8c5c-e9576a3c65de"
   },
   "outputs": [
    {
     "data": {
      "text/plain": [
       "array([0.81803005, 0.81863561])"
      ]
     },
     "execution_count": 16,
     "metadata": {},
     "output_type": "execute_result"
    }
   ],
   "source": [
    "# F1\n",
    "\n",
    "from sklearn.metrics import f1_score\n",
    "\n",
    "y_pred = model_lg.predict(X_test_bow)\n",
    "\n",
    "f1_score(y_test, y_pred, \n",
    "         average=None, \n",
    "         labels = movie_reviews.categories())"
   ]
  },
  {
   "cell_type": "code",
   "execution_count": 17,
   "id": "f103b66b",
   "metadata": {
    "colab": {
     "base_uri": "https://localhost:8080/",
     "height": 351
    },
    "id": "f103b66b",
    "outputId": "32fa4ab7-cc8b-47be-a61d-37f1be771337"
   },
   "outputs": [
    {
     "data": {
      "image/png": "[encoded data removed]",
      "text/plain": [
       "<Figure size 432x288 with 2 Axes>"
      ]
     },
     "metadata": {
      "needs_background": "light"
     },
     "output_type": "display_data"
    }
   ],
   "source": [
    "# Confusion Matrix\n",
    "\n",
    "from sklearn.metrics import plot_confusion_matrix\n",
    "\n",
    "plot_confusion_matrix(model_lg, X_test_bow.toarray(), y_test, normalize='all');"
   ]
  }
 ],
 "metadata": {
  "colab": {
   "provenance": []
  },
  "kernelspec": {
   "display_name": "Python 3 (ipykernel)",
   "language": "python",
   "name": "python3"
  },
  "language_info": {
   "codemirror_mode": {
    "name": "ipython",
    "version": 3
   },
   "file_extension": ".py",
   "mimetype": "text/x-python",
   "name": "python",
   "nbconvert_exporter": "python",
   "pygments_lexer": "ipython3",
   "version": "3.8.6"
  },
  "vscode": {
   "interpreter": {
    "hash": "58dbfdb34cf82127b32c5737e6183911655ff227e5c11e8f5e4b25048ae98ef2"
   }
  }
 },
 "nbformat": 4,
 "nbformat_minor": 5
}
