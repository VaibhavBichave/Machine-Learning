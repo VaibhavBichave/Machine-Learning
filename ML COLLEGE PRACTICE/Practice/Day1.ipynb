{
 "cells": [
  {
   "cell_type": "code",
   "execution_count": 1,
   "metadata": {},
   "outputs": [
    {
     "name": "stdout",
     "output_type": "stream",
     "text": [
      "Jupyter notebook\n"
     ]
    }
   ],
   "source": [
    "print(\"Jupyter notebook\")"
   ]
  },
  {
   "cell_type": "code",
   "execution_count": 2,
   "metadata": {},
   "outputs": [
    {
     "name": "stdout",
     "output_type": "stream",
     "text": [
      "Addition of two nuber is  56\n",
      "Addition of 10 + 46 = 56\n"
     ]
    }
   ],
   "source": [
    "m=10\n",
    "n=46\n",
    "c=m+n\n",
    "print(\"Addition of two nuber is \",c)\n",
    "print(\"Addition of {} + {} = {}\".format(m,n,c))"
   ]
  },
  {
   "cell_type": "code",
   "execution_count": 3,
   "metadata": {},
   "outputs": [
    {
     "name": "stdout",
     "output_type": "stream",
     "text": [
      "Addition of two nuber is  56\n",
      "Addition of 10 + 46 = 56\n"
     ]
    }
   ],
   "source": [
    "m=10\n",
    "n=46\n",
    "c=m+n\n",
    "print(\"Addition of two nuber is \",c)\n",
    "print(\"Addition of {0} + {1} = {2}\".format(m,n,c))"
   ]
  },
  {
   "cell_type": "code",
   "execution_count": 4,
   "metadata": {},
   "outputs": [
    {
     "name": "stdout",
     "output_type": "stream",
     "text": [
      "Enter first number : 7\n",
      "Enter Second number : 47\n",
      "Addition of two nuber is  54\n",
      "Addition of 7 + 47 = 54\n"
     ]
    }
   ],
   "source": [
    "m=int(input(\"Enter first number : \"))\n",
    "n=int(input(\"Enter Second number : \"))\n",
    "c=m+n\n",
    "print(\"Addition of two nuber is \",c)\n",
    "print(\"Addition of {0} + {1} = {2}\".format(m,n,c))"
   ]
  },
  {
   "cell_type": "code",
   "execution_count": 5,
   "metadata": {},
   "outputs": [
    {
     "name": "stdout",
     "output_type": "stream",
     "text": [
      "Enter first number : 6\n",
      "Enter Second number : 3\n",
      "Enter third number : 8\n",
      "Enter fourth number : 3\n",
      "Enter fifth number : 75\n",
      "Addition of 6 + 3 + 8 + 3 + 75 = 95\n"
     ]
    }
   ],
   "source": [
    "a=int(input(\"Enter first number : \"))\n",
    "b=int(input(\"Enter Second number : \"))\n",
    "c=int(input(\"Enter third number : \"))\n",
    "d=int(input(\"Enter fourth number : \"))\n",
    "e=int(input(\"Enter fifth number : \"))\n",
    "m=a+b+c+d+e\n",
    "print(\"Addition of {} + {} + {} + {} + {} = {}\".format(a,b,c,d,e,m))"
   ]
  },
  {
   "cell_type": "code",
   "execution_count": 6,
   "metadata": {},
   "outputs": [
    {
     "name": "stdout",
     "output_type": "stream",
     "text": [
      "Enter five number : \n",
      "4 7 4 89 0\n",
      "Average of five number is 20.8\n"
     ]
    }
   ],
   "source": [
    "print(\"Enter five number : \")\n",
    "l=[int(i) for i in input().split()]\n",
    "m=sum(l)\n",
    "m/=5\n",
    "print(\"Average of five number is {}\".format(m))"
   ]
  },
  {
   "cell_type": "code",
   "execution_count": 7,
   "metadata": {},
   "outputs": [
    {
     "name": "stdout",
     "output_type": "stream",
     "text": [
      "Enter the number tobe avg : 4\n",
      "Enter number : 4\n",
      "Enter number : 6\n",
      "Enter number : 8\n",
      "Enter number : 46\n",
      "Average of five number is 16.0\n"
     ]
    }
   ],
   "source": [
    "n=int(input(\"Enter the number tobe avg : \"))\n",
    "sum=0\n",
    "for i in range(n):\n",
    "    sum+=int(input(\"Enter number : \"))\n",
    "print(\"Average of five number is {}\".format(sum/n))"
   ]
  },
  {
   "cell_type": "code",
   "execution_count": 8,
   "metadata": {},
   "outputs": [
    {
     "name": "stdout",
     "output_type": "stream",
     "text": [
      "9.4589 is greater than a\n"
     ]
    }
   ],
   "source": [
    "a=5.6869798\n",
    "b=9.4589\n",
    "if(a<b):\n",
    "    print(\"{} is greater than a\".format(b))\n",
    "elif(b<a):\n",
    "    print(\"a is greater than b\")\n",
    "else:\n",
    "    print(\"same\")\n",
    "    "
   ]
  },
  {
   "cell_type": "code",
   "execution_count": 9,
   "metadata": {},
   "outputs": [
    {
     "name": "stdout",
     "output_type": "stream",
     "text": [
      "Enter the number : 5\n",
      "Enter the number : 67\n",
      "Enter the number : 8\n",
      "Largest of three number is 67\n"
     ]
    }
   ],
   "source": [
    "a=int(input(\"Enter the number : \"))\n",
    "b=int(input(\"Enter the number : \"))\n",
    "c=int(input(\"Enter the number : \"))\n",
    "large=a\n",
    "if(b>large):\n",
    "    large=b\n",
    "if(c>large):\n",
    "    large=c\n",
    "print(\"Largest of three number is {}\".format(large))"
   ]
  },
  {
   "cell_type": "code",
   "execution_count": 10,
   "metadata": {},
   "outputs": [
    {
     "name": "stdout",
     "output_type": "stream",
     "text": [
      "Small \n",
      "small\n"
     ]
    }
   ],
   "source": [
    "print(\"Small \" if 4<6 else \"large\")\n",
    "print((\"large\",\"small\")[4<6])"
   ]
  },
  {
   "cell_type": "code",
   "execution_count": 11,
   "metadata": {},
   "outputs": [
    {
     "name": "stdout",
     "output_type": "stream",
     "text": [
      "4 6 8 94 68\n",
      "Largest number is  94\n",
      "smallest number is  4\n"
     ]
    }
   ],
   "source": [
    "l=[int(i) for i in input().split()]\n",
    "print(\"Largest number is \",max(l))\n",
    "print(\"smallest number is \",min(l))"
   ]
  },
  {
   "cell_type": "code",
   "execution_count": 12,
   "metadata": {},
   "outputs": [
    {
     "name": "stdout",
     "output_type": "stream",
     "text": [
      "value of j is 5\n",
      "value of j is 6\n",
      "value of j is 7\n",
      "value of j is 8\n",
      "value of j is 9\n"
     ]
    }
   ],
   "source": [
    "for j in range(5,10):print(\"value of j is\",j)"
   ]
  },
  {
   "cell_type": "code",
   "execution_count": 13,
   "metadata": {},
   "outputs": [
    {
     "name": "stdout",
     "output_type": "stream",
     "text": [
      "Enter the number : 6\n",
      "Factorial of 6 is 720\n"
     ]
    }
   ],
   "source": [
    "n=int(input(\"Enter the number : \"))\n",
    "fact=1\n",
    "for i in range(1,n+1):\n",
    "    fact*=i\n",
    "print(\"Factorial of {} is {}\".format(n,fact)) "
   ]
  },
  {
   "cell_type": "code",
   "execution_count": 14,
   "metadata": {},
   "outputs": [
    {
     "name": "stdout",
     "output_type": "stream",
     "text": [
      "Enter the number : 8\n",
      "8 X 1 = 8\n",
      "8 X 2 = 16\n",
      "8 X 3 = 24\n",
      "8 X 4 = 32\n",
      "8 X 5 = 40\n",
      "8 X 6 = 48\n",
      "8 X 7 = 56\n",
      "8 X 8 = 64\n",
      "8 X 9 = 72\n",
      "8 X 10 = 80\n"
     ]
    }
   ],
   "source": [
    "n=int(input(\"Enter the number : \"))\n",
    "for i in range(1,11):\n",
    "    print(\"{} X {} = {}\".format(n,i,i*n))"
   ]
  },
  {
   "cell_type": "code",
   "execution_count": 15,
   "metadata": {},
   "outputs": [
    {
     "name": "stdout",
     "output_type": "stream",
     "text": [
      "1.667\n"
     ]
    }
   ],
   "source": [
    "print(\"%.3f\"%(5/3))"
   ]
  },
  {
   "cell_type": "code",
   "execution_count": 16,
   "metadata": {},
   "outputs": [
    {
     "name": "stdout",
     "output_type": "stream",
     "text": [
      "a is 0\n",
      "a is 1\n",
      "a is 2\n",
      "a is 3\n",
      "a is 4\n",
      "a is 5\n"
     ]
    }
   ],
   "source": [
    "a=0\n",
    "while(a<6):\n",
    "    print(\"a is\", a)\n",
    "    a+=1"
   ]
  },
  {
   "cell_type": "code",
   "execution_count": 17,
   "metadata": {},
   "outputs": [
    {
     "name": "stdout",
     "output_type": "stream",
     "text": [
      "Square of 1 is 1\n",
      "Square of 2 is 4\n",
      "Square of 3 is 9\n",
      "Square of 4 is 16\n",
      "Square of 5 is 25\n",
      "Square of 6 is 36\n",
      "Square of 7 is 49\n",
      "Square of 8 is 64\n",
      "Square of 9 is 81\n",
      "Square of 10 is 100\n"
     ]
    }
   ],
   "source": [
    "a=1\n",
    "while(a<11):\n",
    "    print(\"Square of {} is {}\".format(a,a**2))\n",
    "    a=a+1"
   ]
  },
  {
   "cell_type": "code",
   "execution_count": 18,
   "metadata": {},
   "outputs": [
    {
     "name": "stdout",
     "output_type": "stream",
     "text": [
      "Sum of all even number between 0 to 10 is 30\n"
     ]
    }
   ],
   "source": [
    "a=0\n",
    "sum=0\n",
    "while(a<11):\n",
    "    a+=1\n",
    "    if(a%2==0):\n",
    "        sum+=a\n",
    "print(\"Sum of all even number between 0 to 10 is {}\".format(sum))"
   ]
  },
  {
   "cell_type": "code",
   "execution_count": 19,
   "metadata": {},
   "outputs": [
    {
     "name": "stdout",
     "output_type": "stream",
     "text": [
      "Enter the number : 67\n",
      "Enter the number : 5\n",
      "Enter the number : 97\n",
      "97 lies between 10 to 100\n",
      "67 lies between 10 to 100\n",
      "\n",
      "Total 2 numbers between 10 to 100\n"
     ]
    }
   ],
   "source": [
    "l=[]\n",
    "for i in range(3):\n",
    "    l.append(int(input(\"Enter the number : \")))\n",
    "count=0\n",
    "while(len(l)):\n",
    "    n=l.pop()\n",
    "    if(10<n<100):\n",
    "        count+=1\n",
    "        print(\"{} lies between 10 to 100\".format(n))\n",
    "print(\"\\nTotal {} numbers between 10 to 100\".format (count))"
   ]
  },
  {
   "cell_type": "code",
   "execution_count": 20,
   "metadata": {},
   "outputs": [
    {
     "name": "stdout",
     "output_type": "stream",
     "text": [
      "Enter number tobe reverse : 7645\n",
      "Reverse number is  5467\n"
     ]
    }
   ],
   "source": [
    "n=int(input(\"Enter number tobe reverse : \"))\n",
    "rev=0\n",
    "while(n>0):\n",
    "    rev=rev*10+n%10\n",
    "    n=n//10\n",
    "print(\"Reverse number is \",rev)"
   ]
  },
  {
   "cell_type": "code",
   "execution_count": null,
   "metadata": {},
   "outputs": [],
   "source": []
  }
 ],
 "metadata": {
  "kernelspec": {
   "display_name": "Python 3",
   "language": "python",
   "name": "python3"
  },
  "language_info": {
   "codemirror_mode": {
    "name": "ipython",
    "version": 3
   },
   "file_extension": ".py",
   "mimetype": "text/x-python",
   "name": "python",
   "nbconvert_exporter": "python",
   "pygments_lexer": "ipython3",
   "version": "3.8.5"
  }
 },
 "nbformat": 4,
 "nbformat_minor": 4
}
