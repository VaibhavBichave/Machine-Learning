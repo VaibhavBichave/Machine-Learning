{
 "cells": [
  {
   "cell_type": "markdown",
   "id": "c6887fa1",
   "metadata": {
    "id": "c6887fa1"
   },
   "source": [
    "# Case Study\n",
    "\n",
    "### Name- Soham Patil\n",
    "### Class- BE10\n",
    "### Roll No.- 43256\n"
   ]
  },
  {
   "cell_type": "markdown",
   "id": "OZXVr1eEJGqL",
   "metadata": {
    "id": "OZXVr1eEJGqL"
   },
   "source": [
    "# Problem Statement\n",
    "\n",
    "### Web Scrapping on Flipkart Website"
   ]
  },
  {
   "cell_type": "code",
   "execution_count": 2,
   "id": "b9ffeba9",
   "metadata": {
    "id": "b9ffeba9"
   },
   "outputs": [],
   "source": [
    "from bs4 import BeautifulSoup as soup\n",
    "from urllib.request import urlopen as uReq"
   ]
  },
  {
   "cell_type": "code",
   "execution_count": 3,
   "id": "20d14100",
   "metadata": {
    "id": "20d14100"
   },
   "outputs": [],
   "source": [
    "# Request from the webpage  \n",
    "myurl = \"https://www.flipkart.com/search?q=iphones&otracker=search&otracker1=search&marketplace=FLIPKART&as-show=on&as=off\"  \n",
    "\n",
    "\n",
    "uClient  = uReq(myurl)  \n",
    "page_html = uClient.read()  \n",
    "uClient.close()  \n",
    "\n",
    "page_soup = soup(page_html, features=\"html.parser\")  "
   ]
  },
  {
   "cell_type": "code",
   "execution_count": 4,
   "id": "d9b371f5",
   "metadata": {
    "id": "d9b371f5"
   },
   "outputs": [],
   "source": [
    "# This variable held all html of webpage  \n",
    "containers = page_soup.find_all(\"div\",{\"class\": \"_2kHMtA\"})"
   ]
  },
  {
   "cell_type": "code",
   "execution_count": 8,
   "id": "ea066d3a",
   "metadata": {
    "colab": {
     "base_uri": "https://localhost:8080/"
    },
    "id": "ea066d3a",
    "outputId": "bf8b0e00-ce64-48b2-9e6d-fa235fbfe43b"
   },
   "outputs": [
    {
     "name": "stdout",
     "output_type": "stream",
     "text": [
      "[<div class=\"_30jeq3 _1_WHN1\">₹41,990</div>]\n",
      "['₹41990']\n",
      "APPLE iPhone 13 (Pink| 128 GB),Rs₹41990,4.6\n",
      "\n",
      "[<div class=\"_30jeq3 _1_WHN1\">₹41,990</div>]\n",
      "['₹41990']\n",
      "APPLE iPhone 13 (Pink| 128 GB),Rs₹41990,4.6\n",
      "\n",
      "[<div class=\"_30jeq3 _1_WHN1\">₹35,990</div>]\n",
      "['₹35990']\n",
      "APPLE iPhone 13 (Pink| 128 GB),Rs₹35990,4.6\n",
      "\n",
      "[<div class=\"_30jeq3 _1_WHN1\">₹35,990</div>]\n",
      "['₹35990']\n",
      "APPLE iPhone 13 (Pink| 128 GB),Rs₹35990,4.6\n",
      "\n",
      "[<div class=\"_30jeq3 _1_WHN1\">₹59,990</div>]\n",
      "['₹59990']\n",
      "APPLE iPhone 13 (Pink| 128 GB),Rs₹59990,4.7\n",
      "\n",
      "[<div class=\"_30jeq3 _1_WHN1\">₹59,990</div>]\n",
      "['₹59990']\n",
      "APPLE iPhone 13 (Pink| 128 GB),Rs₹59990,4.7\n",
      "\n",
      "[<div class=\"_30jeq3 _1_WHN1\">₹34,990</div>]\n",
      "['₹34990']\n",
      "APPLE iPhone 13 (Pink| 128 GB),Rs₹34990,4.6\n",
      "\n",
      "[<div class=\"_30jeq3 _1_WHN1\">₹59,990</div>]\n",
      "['₹59990']\n",
      "APPLE iPhone 13 (Pink| 128 GB),Rs₹59990,4.7\n",
      "\n",
      "[<div class=\"_30jeq3 _1_WHN1\">₹38,990</div>]\n",
      "['₹38990']\n",
      "APPLE iPhone 13 (Pink| 128 GB),Rs₹38990,4.6\n",
      "\n",
      "[<div class=\"_30jeq3 _1_WHN1\">₹41,990</div>]\n",
      "['₹41990']\n",
      "APPLE iPhone 13 (Pink| 128 GB),Rs₹41990,4.6\n",
      "\n",
      "[<div class=\"_30jeq3 _1_WHN1\">₹35,990</div>]\n",
      "['₹35990']\n",
      "APPLE iPhone 13 (Pink| 128 GB),Rs₹35990,4.6\n",
      "\n",
      "[<div class=\"_30jeq3 _1_WHN1\">₹41,990</div>]\n",
      "['₹41990']\n",
      "APPLE iPhone 13 (Pink| 128 GB),Rs₹41990,4.6\n",
      "\n",
      "[<div class=\"_30jeq3 _1_WHN1\">₹59,990</div>]\n",
      "['₹59990']\n",
      "APPLE iPhone 13 (Pink| 128 GB),Rs₹59990,4.7\n",
      "\n",
      "[<div class=\"_30jeq3 _1_WHN1\">₹59,990</div>]\n",
      "['₹59990']\n",
      "APPLE iPhone 13 (Pink| 128 GB),Rs₹59990,4.7\n",
      "\n",
      "[<div class=\"_30jeq3 _1_WHN1\">₹60,990</div>]\n",
      "['₹60990']\n",
      "APPLE iPhone 13 (Pink| 128 GB),Rs₹60990,4.7\n",
      "\n",
      "[<div class=\"_30jeq3 _1_WHN1\">₹36,990</div>]\n",
      "['₹36990']\n",
      "APPLE iPhone 13 (Pink| 128 GB),Rs₹36990,4.6\n",
      "\n",
      "[<div class=\"_30jeq3 _1_WHN1\">₹67,990</div>]\n",
      "['₹67990']\n",
      "APPLE iPhone 13 (Pink| 128 GB),Rs₹67990,4.7\n",
      "\n",
      "[<div class=\"_30jeq3 _1_WHN1\">₹67,990</div>]\n",
      "['₹67990']\n",
      "APPLE iPhone 13 (Pink| 128 GB),Rs₹67990,4.7\n",
      "\n",
      "[<div class=\"_30jeq3 _1_WHN1\">₹38,990</div>]\n",
      "['₹38990']\n",
      "APPLE iPhone 13 (Pink| 128 GB),Rs₹38990,4.5\n",
      "\n",
      "[<div class=\"_30jeq3 _1_WHN1\">₹67,990</div>]\n",
      "['₹67990']\n",
      "APPLE iPhone 13 (Pink| 128 GB),Rs₹67990,4.7\n",
      "\n",
      "[<div class=\"_30jeq3 _1_WHN1\">₹67,990</div>]\n",
      "['₹67990']\n",
      "APPLE iPhone 13 (Pink| 128 GB),Rs₹67990,4.7\n",
      "\n",
      "[<div class=\"_30jeq3 _1_WHN1\">₹38,990</div>]\n",
      "['₹38990']\n",
      "APPLE iPhone 13 (Pink| 128 GB),Rs₹38990,4.5\n",
      "\n",
      "[<div class=\"_30jeq3 _1_WHN1\">₹38,990</div>]\n",
      "['₹38990']\n",
      "APPLE iPhone 13 (Pink| 128 GB),Rs₹38990,4.5\n",
      "\n",
      "[<div class=\"_30jeq3 _1_WHN1\">₹67,990</div>]\n",
      "['₹67990']\n",
      "APPLE iPhone 13 (Pink| 128 GB),Rs₹67990,4.7\n",
      "\n"
     ]
    }
   ],
   "source": [
    "# Creating CSV File that will store all data   \n",
    "filename = \"market.csv\"  \n",
    "f = open(filename,\"w\")  \n",
    "\n",
    "headers = \"Product_Name,Pricing,Ratings\\n\"  \n",
    "f.write(headers)  \n",
    "\n",
    "for container in containers:  \n",
    "    \n",
    "\n",
    "    price_container = container.find_all(\"div\", {\"class\": \"_30jeq3 _1_WHN1\"})  \n",
    "    print(price_container)\n",
    "    price = price_container[0].text.strip()  \n",
    "\n",
    "    rating_container = container.find_all(\"div\",{\"class\":\"_3LWZlK\"})  \n",
    "    ratings = rating_container[0].text  \n",
    "\n",
    "    edit_price = ''.join(price.split(','))  \n",
    "    sym_rupee = edit_price.split(\"?\") \n",
    "    print(sym_rupee)\n",
    "    add_rs_price = \"Rs\"+sym_rupee[0]  \n",
    "    split_price = add_rs_price.split(\"E\")  \n",
    "    final_price = split_price[0]  \n",
    "\n",
    "    split_rating = str(ratings).split(\" \")  \n",
    "    final_rating = split_rating[0]  \n",
    "\n",
    "    print(product_name.replace(\",\", \"|\")+\",\"+final_price+\",\"+final_rating+\"\\n\")  \n",
    "    \n",
    "\n",
    "    f.write(product_name.replace(\",\", \"|\")+\",\"+final_price+\",\"+final_rating+\"\\n\")  \n",
    "\n",
    "f.close()  "
   ]
  }
 ],
 "metadata": {
  "colab": {
   "provenance": []
  },
  "kernelspec": {
   "display_name": "Python 3 (ipykernel)",
   "language": "python",
   "name": "python3"
  },
  "language_info": {
   "codemirror_mode": {
    "name": "ipython",
    "version": 3
   },
   "file_extension": ".py",
   "mimetype": "text/x-python",
   "name": "python",
   "nbconvert_exporter": "python",
   "pygments_lexer": "ipython3",
   "version": "3.8.6"
  }
 },
 "nbformat": 4,
 "nbformat_minor": 5
}
