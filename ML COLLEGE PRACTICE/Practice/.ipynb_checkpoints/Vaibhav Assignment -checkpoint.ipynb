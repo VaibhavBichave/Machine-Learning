{
 "cells": [
  {
   "cell_type": "markdown",
   "metadata": {},
   "source": [
    "## Assignment \n",
    "\n",
    "A Quick Service Restaurant has 4 walk-in refrigeration units. There is an energy meter installed at power supply of each of the 4 refrigeration units. There is also 1 temperature sensor installed inside each of these. Attached is data for power (kW) and temperature (degrees Celsius) for 4 energy meters and 4 temperature sensors for 10 days.\n",
    "\n",
    "Do a comparative analysis of following parameters and prepare a presentation. You are allowed to use any tool for the analysis.\n",
    "\n",
    "1. Duty cycle\n",
    "2. Set temperature range (lower threshold and upper threshold)\n",
    "3. Average daily energy consumption\n",
    "4. Percentage of temperature compliance\n",
    "\n",
    "\n",
    "Submitted by - Vaibhav Bichave"
   ]
  },
  {
   "cell_type": "code",
   "execution_count": 1,
   "metadata": {},
   "outputs": [],
   "source": [
    "#Loading Required libraries \n",
    "\n",
    "import numpy as np\n",
    "import pandas as pd\n",
    "import matplotlib.pyplot as plt\n",
    "import seaborn as sns\n",
    "import warnings\n",
    "warnings.filterwarnings('ignore')"
   ]
  },
  {
   "cell_type": "code",
   "execution_count": 1,
   "metadata": {},
   "outputs": [
    {
     "name": "stdout",
     "output_type": "stream",
     "text": [
      "Collecting flask\n",
      "  Using cached Flask-2.0.2-py3-none-any.whl (95 kB)\n",
      "Collecting click>=7.1.2\n",
      "  Downloading click-8.0.3-py3-none-any.whl (97 kB)\n",
      "Collecting itsdangerous>=2.0\n",
      "  Downloading itsdangerous-2.0.1-py3-none-any.whl (18 kB)\n",
      "Collecting Werkzeug>=2.0\n",
      "  Downloading Werkzeug-2.0.2-py3-none-any.whl (288 kB)\n",
      "Requirement already satisfied: Jinja2>=3.0 in c:\\users\\admin\\appdata\\local\\programs\\python\\python38\\lib\\site-packages (from flask) (3.0.3)\n",
      "Requirement already satisfied: colorama in c:\\users\\admin\\appdata\\local\\programs\\python\\python38\\lib\\site-packages (from click>=7.1.2->flask) (0.4.4)\n",
      "Requirement already satisfied: MarkupSafe>=2.0 in c:\\users\\admin\\appdata\\local\\programs\\python\\python38\\lib\\site-packages (from Jinja2>=3.0->flask) (2.0.1)\n",
      "Installing collected packages: Werkzeug, itsdangerous, click, flask\n",
      "Successfully installed Werkzeug-2.0.2 click-8.0.3 flask-2.0.2 itsdangerous-2.0.1\n",
      "Note: you may need to restart the kernel to use updated packages.\n"
     ]
    },
    {
     "name": "stderr",
     "output_type": "stream",
     "text": [
      "WARNING: Retrying (Retry(total=4, connect=None, read=None, redirect=None, status=None)) after connection broken by 'ReadTimeoutError(\"HTTPSConnectionPool(host='pypi.org', port=443): Read timed out. (read timeout=15)\")': /simple/flask/\n"
     ]
    }
   ],
   "source": [
    "pip install flask"
   ]
  },
  {
   "cell_type": "code",
   "execution_count": 3,
   "metadata": {},
   "outputs": [],
   "source": [
    "df = pd.read_excel(\"Assignment (1) (2).xlsx\")"
   ]
  },
  {
   "cell_type": "code",
   "execution_count": 4,
   "metadata": {},
   "outputs": [
    {
     "data": {
      "text/html": [
       "<div>\n",
       "<style scoped>\n",
       "    .dataframe tbody tr th:only-of-type {\n",
       "        vertical-align: middle;\n",
       "    }\n",
       "\n",
       "    .dataframe tbody tr th {\n",
       "        vertical-align: top;\n",
       "    }\n",
       "\n",
       "    .dataframe thead th {\n",
       "        text-align: right;\n",
       "    }\n",
       "</style>\n",
       "<table border=\"1\" class=\"dataframe\">\n",
       "  <thead>\n",
       "    <tr style=\"text-align: right;\">\n",
       "      <th></th>\n",
       "      <th>Unnamed: 0</th>\n",
       "      <th>Unnamed: 1</th>\n",
       "      <th>Unnamed: 2</th>\n",
       "      <th>Unnamed: 3</th>\n",
       "      <th>Unnamed: 4</th>\n",
       "      <th>Unnamed: 5</th>\n",
       "      <th>Unnamed: 6</th>\n",
       "      <th>Unnamed: 7</th>\n",
       "      <th>Unnamed: 8</th>\n",
       "      <th>Unnamed: 9</th>\n",
       "    </tr>\n",
       "  </thead>\n",
       "  <tbody>\n",
       "    <tr>\n",
       "      <th>0</th>\n",
       "      <td>NaN</td>\n",
       "      <td>Datetime</td>\n",
       "      <td>Refrigeration Unit - 1</td>\n",
       "      <td>NaN</td>\n",
       "      <td>Refrigeration Unit - 2</td>\n",
       "      <td>NaN</td>\n",
       "      <td>Refrigeration Unit - 3</td>\n",
       "      <td>NaN</td>\n",
       "      <td>Refrigeration Unit - 4</td>\n",
       "      <td>NaN</td>\n",
       "    </tr>\n",
       "    <tr>\n",
       "      <th>1</th>\n",
       "      <td>NaN</td>\n",
       "      <td>NaN</td>\n",
       "      <td>Power</td>\n",
       "      <td>Temperature</td>\n",
       "      <td>Power</td>\n",
       "      <td>Temperature</td>\n",
       "      <td>Power</td>\n",
       "      <td>Temperature</td>\n",
       "      <td>Power</td>\n",
       "      <td>Temperature</td>\n",
       "    </tr>\n",
       "    <tr>\n",
       "      <th>2</th>\n",
       "      <td>NaN</td>\n",
       "      <td>2017-08-01 00:00:00</td>\n",
       "      <td>2.2585</td>\n",
       "      <td>4.81</td>\n",
       "      <td>3.231</td>\n",
       "      <td>0.495</td>\n",
       "      <td>0</td>\n",
       "      <td>8.93</td>\n",
       "      <td>0.308</td>\n",
       "      <td>3.34</td>\n",
       "    </tr>\n",
       "    <tr>\n",
       "      <th>3</th>\n",
       "      <td>NaN</td>\n",
       "      <td>2017-08-01 00:01:00</td>\n",
       "      <td>2.2035</td>\n",
       "      <td>3.9</td>\n",
       "      <td>3.188</td>\n",
       "      <td>0.245</td>\n",
       "      <td>0</td>\n",
       "      <td>8.9</td>\n",
       "      <td>1.338</td>\n",
       "      <td>3.435</td>\n",
       "    </tr>\n",
       "    <tr>\n",
       "      <th>4</th>\n",
       "      <td>NaN</td>\n",
       "      <td>2017-08-01 00:02:00</td>\n",
       "      <td>2.13</td>\n",
       "      <td>3.155</td>\n",
       "      <td>3.1845</td>\n",
       "      <td>0</td>\n",
       "      <td>0</td>\n",
       "      <td>8.87</td>\n",
       "      <td>2.3695</td>\n",
       "      <td>2.715</td>\n",
       "    </tr>\n",
       "  </tbody>\n",
       "</table>\n",
       "</div>"
      ],
      "text/plain": [
       "   Unnamed: 0           Unnamed: 1              Unnamed: 2   Unnamed: 3  \\\n",
       "0         NaN             Datetime  Refrigeration Unit - 1          NaN   \n",
       "1         NaN                  NaN                   Power  Temperature   \n",
       "2         NaN  2017-08-01 00:00:00                  2.2585         4.81   \n",
       "3         NaN  2017-08-01 00:01:00                  2.2035          3.9   \n",
       "4         NaN  2017-08-01 00:02:00                    2.13        3.155   \n",
       "\n",
       "               Unnamed: 4   Unnamed: 5              Unnamed: 6   Unnamed: 7  \\\n",
       "0  Refrigeration Unit - 2          NaN  Refrigeration Unit - 3          NaN   \n",
       "1                   Power  Temperature                   Power  Temperature   \n",
       "2                   3.231        0.495                       0         8.93   \n",
       "3                   3.188        0.245                       0          8.9   \n",
       "4                  3.1845            0                       0         8.87   \n",
       "\n",
       "               Unnamed: 8   Unnamed: 9  \n",
       "0  Refrigeration Unit - 4          NaN  \n",
       "1                   Power  Temperature  \n",
       "2                   0.308         3.34  \n",
       "3                   1.338        3.435  \n",
       "4                  2.3695        2.715  "
      ]
     },
     "execution_count": 4,
     "metadata": {},
     "output_type": "execute_result"
    }
   ],
   "source": [
    "df.head()"
   ]
  },
  {
   "cell_type": "code",
   "execution_count": 5,
   "metadata": {},
   "outputs": [
    {
     "name": "stdout",
     "output_type": "stream",
     "text": [
      "<class 'pandas.core.frame.DataFrame'>\n",
      "RangeIndex: 14402 entries, 0 to 14401\n",
      "Data columns (total 10 columns):\n",
      " #   Column      Non-Null Count  Dtype  \n",
      "---  ------      --------------  -----  \n",
      " 0   Unnamed: 0  0 non-null      float64\n",
      " 1   Unnamed: 1  14401 non-null  object \n",
      " 2   Unnamed: 2  14325 non-null  object \n",
      " 3   Unnamed: 3  14401 non-null  object \n",
      " 4   Unnamed: 4  13908 non-null  object \n",
      " 5   Unnamed: 5  14014 non-null  object \n",
      " 6   Unnamed: 6  14169 non-null  object \n",
      " 7   Unnamed: 7  14401 non-null  object \n",
      " 8   Unnamed: 8  13160 non-null  object \n",
      " 9   Unnamed: 9  14331 non-null  object \n",
      "dtypes: float64(1), object(9)\n",
      "memory usage: 1.1+ MB\n"
     ]
    }
   ],
   "source": [
    "df.info()"
   ]
  },
  {
   "cell_type": "markdown",
   "metadata": {},
   "source": [
    "From info() we can come to know that every feature is in string format so, we required data preprocessing and data cleaning."
   ]
  },
  {
   "cell_type": "code",
   "execution_count": 6,
   "metadata": {},
   "outputs": [
    {
     "data": {
      "text/html": [
       "<div>\n",
       "<style scoped>\n",
       "    .dataframe tbody tr th:only-of-type {\n",
       "        vertical-align: middle;\n",
       "    }\n",
       "\n",
       "    .dataframe tbody tr th {\n",
       "        vertical-align: top;\n",
       "    }\n",
       "\n",
       "    .dataframe thead th {\n",
       "        text-align: right;\n",
       "    }\n",
       "</style>\n",
       "<table border=\"1\" class=\"dataframe\">\n",
       "  <thead>\n",
       "    <tr style=\"text-align: right;\">\n",
       "      <th></th>\n",
       "      <th>Date</th>\n",
       "      <th>power_1</th>\n",
       "      <th>temperature_1</th>\n",
       "      <th>power_2</th>\n",
       "      <th>temperature_2</th>\n",
       "      <th>power_3</th>\n",
       "      <th>temperature_3</th>\n",
       "      <th>power_4</th>\n",
       "      <th>temperature_4</th>\n",
       "    </tr>\n",
       "  </thead>\n",
       "  <tbody>\n",
       "    <tr>\n",
       "      <th>2</th>\n",
       "      <td>2017-08-01 00:00:00</td>\n",
       "      <td>2.2585</td>\n",
       "      <td>4.81</td>\n",
       "      <td>3.231</td>\n",
       "      <td>0.495</td>\n",
       "      <td>0</td>\n",
       "      <td>8.93</td>\n",
       "      <td>0.308</td>\n",
       "      <td>3.34</td>\n",
       "    </tr>\n",
       "    <tr>\n",
       "      <th>3</th>\n",
       "      <td>2017-08-01 00:01:00</td>\n",
       "      <td>2.2035</td>\n",
       "      <td>3.9</td>\n",
       "      <td>3.188</td>\n",
       "      <td>0.245</td>\n",
       "      <td>0</td>\n",
       "      <td>8.9</td>\n",
       "      <td>1.338</td>\n",
       "      <td>3.435</td>\n",
       "    </tr>\n",
       "    <tr>\n",
       "      <th>4</th>\n",
       "      <td>2017-08-01 00:02:00</td>\n",
       "      <td>2.13</td>\n",
       "      <td>3.155</td>\n",
       "      <td>3.1845</td>\n",
       "      <td>0</td>\n",
       "      <td>0</td>\n",
       "      <td>8.87</td>\n",
       "      <td>2.3695</td>\n",
       "      <td>2.715</td>\n",
       "    </tr>\n",
       "    <tr>\n",
       "      <th>5</th>\n",
       "      <td>2017-08-01 00:03:00</td>\n",
       "      <td>2.1425</td>\n",
       "      <td>2.715</td>\n",
       "      <td>3.1695</td>\n",
       "      <td>-0.215</td>\n",
       "      <td>0</td>\n",
       "      <td>8.81</td>\n",
       "      <td>2.2265</td>\n",
       "      <td>2.125</td>\n",
       "    </tr>\n",
       "    <tr>\n",
       "      <th>6</th>\n",
       "      <td>2017-08-01 00:04:00</td>\n",
       "      <td>1.225</td>\n",
       "      <td>2.31</td>\n",
       "      <td>3.1735</td>\n",
       "      <td>-0.495</td>\n",
       "      <td>0</td>\n",
       "      <td>8.81</td>\n",
       "      <td>2.231</td>\n",
       "      <td>1.745</td>\n",
       "    </tr>\n",
       "    <tr>\n",
       "      <th>...</th>\n",
       "      <td>...</td>\n",
       "      <td>...</td>\n",
       "      <td>...</td>\n",
       "      <td>...</td>\n",
       "      <td>...</td>\n",
       "      <td>...</td>\n",
       "      <td>...</td>\n",
       "      <td>...</td>\n",
       "      <td>...</td>\n",
       "    </tr>\n",
       "    <tr>\n",
       "      <th>14397</th>\n",
       "      <td>2017-08-10 23:55:00</td>\n",
       "      <td>1.2655</td>\n",
       "      <td>4.84</td>\n",
       "      <td>0</td>\n",
       "      <td>16.465</td>\n",
       "      <td>2.27</td>\n",
       "      <td>3.68</td>\n",
       "      <td>0.3095</td>\n",
       "      <td>1.435</td>\n",
       "    </tr>\n",
       "    <tr>\n",
       "      <th>14398</th>\n",
       "      <td>2017-08-10 23:56:00</td>\n",
       "      <td>2.2785</td>\n",
       "      <td>4.685</td>\n",
       "      <td>0</td>\n",
       "      <td>16.5</td>\n",
       "      <td>2.4695</td>\n",
       "      <td>3.465</td>\n",
       "      <td>0.309</td>\n",
       "      <td>1.93</td>\n",
       "    </tr>\n",
       "    <tr>\n",
       "      <th>14399</th>\n",
       "      <td>2017-08-10 23:57:00</td>\n",
       "      <td>2.149</td>\n",
       "      <td>3.9</td>\n",
       "      <td>0</td>\n",
       "      <td>16.5</td>\n",
       "      <td>2.4275</td>\n",
       "      <td>2.935</td>\n",
       "      <td>0.309</td>\n",
       "      <td>2.62</td>\n",
       "    </tr>\n",
       "    <tr>\n",
       "      <th>14400</th>\n",
       "      <td>2017-08-10 23:58:00</td>\n",
       "      <td>2.147</td>\n",
       "      <td>3.275</td>\n",
       "      <td>0</td>\n",
       "      <td>16.53</td>\n",
       "      <td>2.413</td>\n",
       "      <td>2.375</td>\n",
       "      <td>0.309</td>\n",
       "      <td>3.155</td>\n",
       "    </tr>\n",
       "    <tr>\n",
       "      <th>14401</th>\n",
       "      <td>2017-08-10 23:59:00</td>\n",
       "      <td>1.22</td>\n",
       "      <td>2.905</td>\n",
       "      <td>0</td>\n",
       "      <td>16.56</td>\n",
       "      <td>2.401667</td>\n",
       "      <td>1.965</td>\n",
       "      <td>0.308</td>\n",
       "      <td>3.435</td>\n",
       "    </tr>\n",
       "  </tbody>\n",
       "</table>\n",
       "<p>14400 rows × 9 columns</p>\n",
       "</div>"
      ],
      "text/plain": [
       "                      Date power_1 temperature_1 power_2 temperature_2  \\\n",
       "2      2017-08-01 00:00:00  2.2585          4.81   3.231         0.495   \n",
       "3      2017-08-01 00:01:00  2.2035           3.9   3.188         0.245   \n",
       "4      2017-08-01 00:02:00    2.13         3.155  3.1845             0   \n",
       "5      2017-08-01 00:03:00  2.1425         2.715  3.1695        -0.215   \n",
       "6      2017-08-01 00:04:00   1.225          2.31  3.1735        -0.495   \n",
       "...                    ...     ...           ...     ...           ...   \n",
       "14397  2017-08-10 23:55:00  1.2655          4.84       0        16.465   \n",
       "14398  2017-08-10 23:56:00  2.2785         4.685       0          16.5   \n",
       "14399  2017-08-10 23:57:00   2.149           3.9       0          16.5   \n",
       "14400  2017-08-10 23:58:00   2.147         3.275       0         16.53   \n",
       "14401  2017-08-10 23:59:00    1.22         2.905       0         16.56   \n",
       "\n",
       "        power_3 temperature_3 power_4 temperature_4  \n",
       "2             0          8.93   0.308          3.34  \n",
       "3             0           8.9   1.338         3.435  \n",
       "4             0          8.87  2.3695         2.715  \n",
       "5             0          8.81  2.2265         2.125  \n",
       "6             0          8.81   2.231         1.745  \n",
       "...         ...           ...     ...           ...  \n",
       "14397      2.27          3.68  0.3095         1.435  \n",
       "14398    2.4695         3.465   0.309          1.93  \n",
       "14399    2.4275         2.935   0.309          2.62  \n",
       "14400     2.413         2.375   0.309         3.155  \n",
       "14401  2.401667         1.965   0.308         3.435  \n",
       "\n",
       "[14400 rows x 9 columns]"
      ]
     },
     "execution_count": 6,
     "metadata": {},
     "output_type": "execute_result"
    }
   ],
   "source": [
    "data = df.iloc[2:,1:]\n",
    "\n",
    "data.columns = [\"Date\",\"power_1\",\"temperature_1\",\"power_2\",\"temperature_2\",\n",
    "                \"power_3\",\"temperature_3\",\"power_4\",\"temperature_4\"]\n",
    "data"
   ]
  },
  {
   "cell_type": "markdown",
   "metadata": {},
   "source": [
    "Here, we rename each feature so for all 4 walk-in refrigeration units."
   ]
  },
  {
   "cell_type": "code",
   "execution_count": 7,
   "metadata": {},
   "outputs": [
    {
     "data": {
      "text/html": [
       "<div>\n",
       "<style scoped>\n",
       "    .dataframe tbody tr th:only-of-type {\n",
       "        vertical-align: middle;\n",
       "    }\n",
       "\n",
       "    .dataframe tbody tr th {\n",
       "        vertical-align: top;\n",
       "    }\n",
       "\n",
       "    .dataframe thead th {\n",
       "        text-align: right;\n",
       "    }\n",
       "</style>\n",
       "<table border=\"1\" class=\"dataframe\">\n",
       "  <thead>\n",
       "    <tr style=\"text-align: right;\">\n",
       "      <th></th>\n",
       "      <th>Date</th>\n",
       "      <th>power_1</th>\n",
       "      <th>temperature_1</th>\n",
       "      <th>power_2</th>\n",
       "      <th>temperature_2</th>\n",
       "      <th>power_3</th>\n",
       "      <th>temperature_3</th>\n",
       "      <th>power_4</th>\n",
       "      <th>temperature_4</th>\n",
       "      <th>Year</th>\n",
       "      <th>Month</th>\n",
       "      <th>Day</th>\n",
       "    </tr>\n",
       "  </thead>\n",
       "  <tbody>\n",
       "    <tr>\n",
       "      <th>2</th>\n",
       "      <td>2017-08-01 00:00:00</td>\n",
       "      <td>2.2585</td>\n",
       "      <td>4.81</td>\n",
       "      <td>3.231</td>\n",
       "      <td>0.495</td>\n",
       "      <td>0</td>\n",
       "      <td>8.93</td>\n",
       "      <td>0.308</td>\n",
       "      <td>3.34</td>\n",
       "      <td>2017</td>\n",
       "      <td>8</td>\n",
       "      <td>1</td>\n",
       "    </tr>\n",
       "    <tr>\n",
       "      <th>3</th>\n",
       "      <td>2017-08-01 00:01:00</td>\n",
       "      <td>2.2035</td>\n",
       "      <td>3.9</td>\n",
       "      <td>3.188</td>\n",
       "      <td>0.245</td>\n",
       "      <td>0</td>\n",
       "      <td>8.9</td>\n",
       "      <td>1.338</td>\n",
       "      <td>3.435</td>\n",
       "      <td>2017</td>\n",
       "      <td>8</td>\n",
       "      <td>1</td>\n",
       "    </tr>\n",
       "    <tr>\n",
       "      <th>4</th>\n",
       "      <td>2017-08-01 00:02:00</td>\n",
       "      <td>2.13</td>\n",
       "      <td>3.155</td>\n",
       "      <td>3.1845</td>\n",
       "      <td>0</td>\n",
       "      <td>0</td>\n",
       "      <td>8.87</td>\n",
       "      <td>2.3695</td>\n",
       "      <td>2.715</td>\n",
       "      <td>2017</td>\n",
       "      <td>8</td>\n",
       "      <td>1</td>\n",
       "    </tr>\n",
       "    <tr>\n",
       "      <th>5</th>\n",
       "      <td>2017-08-01 00:03:00</td>\n",
       "      <td>2.1425</td>\n",
       "      <td>2.715</td>\n",
       "      <td>3.1695</td>\n",
       "      <td>-0.215</td>\n",
       "      <td>0</td>\n",
       "      <td>8.81</td>\n",
       "      <td>2.2265</td>\n",
       "      <td>2.125</td>\n",
       "      <td>2017</td>\n",
       "      <td>8</td>\n",
       "      <td>1</td>\n",
       "    </tr>\n",
       "    <tr>\n",
       "      <th>6</th>\n",
       "      <td>2017-08-01 00:04:00</td>\n",
       "      <td>1.225</td>\n",
       "      <td>2.31</td>\n",
       "      <td>3.1735</td>\n",
       "      <td>-0.495</td>\n",
       "      <td>0</td>\n",
       "      <td>8.81</td>\n",
       "      <td>2.231</td>\n",
       "      <td>1.745</td>\n",
       "      <td>2017</td>\n",
       "      <td>8</td>\n",
       "      <td>1</td>\n",
       "    </tr>\n",
       "    <tr>\n",
       "      <th>...</th>\n",
       "      <td>...</td>\n",
       "      <td>...</td>\n",
       "      <td>...</td>\n",
       "      <td>...</td>\n",
       "      <td>...</td>\n",
       "      <td>...</td>\n",
       "      <td>...</td>\n",
       "      <td>...</td>\n",
       "      <td>...</td>\n",
       "      <td>...</td>\n",
       "      <td>...</td>\n",
       "      <td>...</td>\n",
       "    </tr>\n",
       "    <tr>\n",
       "      <th>14397</th>\n",
       "      <td>2017-08-10 23:55:00</td>\n",
       "      <td>1.2655</td>\n",
       "      <td>4.84</td>\n",
       "      <td>0</td>\n",
       "      <td>16.465</td>\n",
       "      <td>2.27</td>\n",
       "      <td>3.68</td>\n",
       "      <td>0.3095</td>\n",
       "      <td>1.435</td>\n",
       "      <td>2017</td>\n",
       "      <td>8</td>\n",
       "      <td>10</td>\n",
       "    </tr>\n",
       "    <tr>\n",
       "      <th>14398</th>\n",
       "      <td>2017-08-10 23:56:00</td>\n",
       "      <td>2.2785</td>\n",
       "      <td>4.685</td>\n",
       "      <td>0</td>\n",
       "      <td>16.5</td>\n",
       "      <td>2.4695</td>\n",
       "      <td>3.465</td>\n",
       "      <td>0.309</td>\n",
       "      <td>1.93</td>\n",
       "      <td>2017</td>\n",
       "      <td>8</td>\n",
       "      <td>10</td>\n",
       "    </tr>\n",
       "    <tr>\n",
       "      <th>14399</th>\n",
       "      <td>2017-08-10 23:57:00</td>\n",
       "      <td>2.149</td>\n",
       "      <td>3.9</td>\n",
       "      <td>0</td>\n",
       "      <td>16.5</td>\n",
       "      <td>2.4275</td>\n",
       "      <td>2.935</td>\n",
       "      <td>0.309</td>\n",
       "      <td>2.62</td>\n",
       "      <td>2017</td>\n",
       "      <td>8</td>\n",
       "      <td>10</td>\n",
       "    </tr>\n",
       "    <tr>\n",
       "      <th>14400</th>\n",
       "      <td>2017-08-10 23:58:00</td>\n",
       "      <td>2.147</td>\n",
       "      <td>3.275</td>\n",
       "      <td>0</td>\n",
       "      <td>16.53</td>\n",
       "      <td>2.413</td>\n",
       "      <td>2.375</td>\n",
       "      <td>0.309</td>\n",
       "      <td>3.155</td>\n",
       "      <td>2017</td>\n",
       "      <td>8</td>\n",
       "      <td>10</td>\n",
       "    </tr>\n",
       "    <tr>\n",
       "      <th>14401</th>\n",
       "      <td>2017-08-10 23:59:00</td>\n",
       "      <td>1.22</td>\n",
       "      <td>2.905</td>\n",
       "      <td>0</td>\n",
       "      <td>16.56</td>\n",
       "      <td>2.401667</td>\n",
       "      <td>1.965</td>\n",
       "      <td>0.308</td>\n",
       "      <td>3.435</td>\n",
       "      <td>2017</td>\n",
       "      <td>8</td>\n",
       "      <td>10</td>\n",
       "    </tr>\n",
       "  </tbody>\n",
       "</table>\n",
       "<p>14400 rows × 12 columns</p>\n",
       "</div>"
      ],
      "text/plain": [
       "                      Date power_1 temperature_1 power_2 temperature_2  \\\n",
       "2      2017-08-01 00:00:00  2.2585          4.81   3.231         0.495   \n",
       "3      2017-08-01 00:01:00  2.2035           3.9   3.188         0.245   \n",
       "4      2017-08-01 00:02:00    2.13         3.155  3.1845             0   \n",
       "5      2017-08-01 00:03:00  2.1425         2.715  3.1695        -0.215   \n",
       "6      2017-08-01 00:04:00   1.225          2.31  3.1735        -0.495   \n",
       "...                    ...     ...           ...     ...           ...   \n",
       "14397  2017-08-10 23:55:00  1.2655          4.84       0        16.465   \n",
       "14398  2017-08-10 23:56:00  2.2785         4.685       0          16.5   \n",
       "14399  2017-08-10 23:57:00   2.149           3.9       0          16.5   \n",
       "14400  2017-08-10 23:58:00   2.147         3.275       0         16.53   \n",
       "14401  2017-08-10 23:59:00    1.22         2.905       0         16.56   \n",
       "\n",
       "        power_3 temperature_3 power_4 temperature_4  Year  Month  Day  \n",
       "2             0          8.93   0.308          3.34  2017      8    1  \n",
       "3             0           8.9   1.338         3.435  2017      8    1  \n",
       "4             0          8.87  2.3695         2.715  2017      8    1  \n",
       "5             0          8.81  2.2265         2.125  2017      8    1  \n",
       "6             0          8.81   2.231         1.745  2017      8    1  \n",
       "...         ...           ...     ...           ...   ...    ...  ...  \n",
       "14397      2.27          3.68  0.3095         1.435  2017      8   10  \n",
       "14398    2.4695         3.465   0.309          1.93  2017      8   10  \n",
       "14399    2.4275         2.935   0.309          2.62  2017      8   10  \n",
       "14400     2.413         2.375   0.309         3.155  2017      8   10  \n",
       "14401  2.401667         1.965   0.308         3.435  2017      8   10  \n",
       "\n",
       "[14400 rows x 12 columns]"
      ]
     },
     "execution_count": 7,
     "metadata": {},
     "output_type": "execute_result"
    }
   ],
   "source": [
    "data['Year'] = pd.DatetimeIndex(data['Date']).year\n",
    "data['Month'] = pd.DatetimeIndex(data['Date']).month\n",
    "data['Day'] = pd.DatetimeIndex(data['Date']).day\n",
    "data"
   ]
  },
  {
   "cell_type": "markdown",
   "metadata": {},
   "source": [
    "Here, I have broken day, month, year in various column so that we can perform operation on each feature. "
   ]
  },
  {
   "cell_type": "code",
   "execution_count": 8,
   "metadata": {},
   "outputs": [],
   "source": [
    "for col in data.iloc[:,1:].columns:\n",
    "    data[col]=data[col].astype(float, errors = 'raise')"
   ]
  },
  {
   "cell_type": "markdown",
   "metadata": {},
   "source": [
    "I have convert all columns in float , to perform operation on it."
   ]
  },
  {
   "cell_type": "code",
   "execution_count": 9,
   "metadata": {},
   "outputs": [
    {
     "name": "stdout",
     "output_type": "stream",
     "text": [
      "<class 'pandas.core.frame.DataFrame'>\n",
      "RangeIndex: 14400 entries, 2 to 14401\n",
      "Data columns (total 12 columns):\n",
      " #   Column         Non-Null Count  Dtype  \n",
      "---  ------         --------------  -----  \n",
      " 0   Date           14400 non-null  object \n",
      " 1   power_1        14323 non-null  float64\n",
      " 2   temperature_1  14400 non-null  float64\n",
      " 3   power_2        13906 non-null  float64\n",
      " 4   temperature_2  14013 non-null  float64\n",
      " 5   power_3        14167 non-null  float64\n",
      " 6   temperature_3  14400 non-null  float64\n",
      " 7   power_4        13158 non-null  float64\n",
      " 8   temperature_4  14330 non-null  float64\n",
      " 9   Year           14400 non-null  float64\n",
      " 10  Month          14400 non-null  float64\n",
      " 11  Day            14400 non-null  float64\n",
      "dtypes: float64(11), object(1)\n",
      "memory usage: 1.3+ MB\n"
     ]
    }
   ],
   "source": [
    "data.info()"
   ]
  },
  {
   "cell_type": "code",
   "execution_count": 10,
   "metadata": {},
   "outputs": [
    {
     "data": {
      "text/plain": [
       "Date                0\n",
       "power_1            77\n",
       "temperature_1       0\n",
       "power_2           494\n",
       "temperature_2     387\n",
       "power_3           233\n",
       "temperature_3       0\n",
       "power_4          1242\n",
       "temperature_4      70\n",
       "Year                0\n",
       "Month               0\n",
       "Day                 0\n",
       "dtype: int64"
      ]
     },
     "execution_count": 10,
     "metadata": {},
     "output_type": "execute_result"
    }
   ],
   "source": [
    "data.isna().sum()"
   ]
  },
  {
   "cell_type": "markdown",
   "metadata": {},
   "source": [
    "From above table, we can see that, there are missing or null value present in our data."
   ]
  },
  {
   "cell_type": "code",
   "execution_count": 11,
   "metadata": {},
   "outputs": [
    {
     "data": {
      "text/html": [
       "<div>\n",
       "<style scoped>\n",
       "    .dataframe tbody tr th:only-of-type {\n",
       "        vertical-align: middle;\n",
       "    }\n",
       "\n",
       "    .dataframe tbody tr th {\n",
       "        vertical-align: top;\n",
       "    }\n",
       "\n",
       "    .dataframe thead th {\n",
       "        text-align: right;\n",
       "    }\n",
       "</style>\n",
       "<table border=\"1\" class=\"dataframe\">\n",
       "  <thead>\n",
       "    <tr style=\"text-align: right;\">\n",
       "      <th></th>\n",
       "      <th>count</th>\n",
       "      <th>mean</th>\n",
       "      <th>std</th>\n",
       "      <th>min</th>\n",
       "      <th>25%</th>\n",
       "      <th>50%</th>\n",
       "      <th>75%</th>\n",
       "      <th>max</th>\n",
       "    </tr>\n",
       "  </thead>\n",
       "  <tbody>\n",
       "    <tr>\n",
       "      <th>power_1</th>\n",
       "      <td>14323.0</td>\n",
       "      <td>1.123395</td>\n",
       "      <td>0.919815</td>\n",
       "      <td>0.000</td>\n",
       "      <td>0.2935</td>\n",
       "      <td>0.3210</td>\n",
       "      <td>2.166500</td>\n",
       "      <td>3.055500</td>\n",
       "    </tr>\n",
       "    <tr>\n",
       "      <th>temperature_1</th>\n",
       "      <td>14400.0</td>\n",
       "      <td>3.815729</td>\n",
       "      <td>2.035919</td>\n",
       "      <td>1.650</td>\n",
       "      <td>2.8400</td>\n",
       "      <td>3.8050</td>\n",
       "      <td>4.530000</td>\n",
       "      <td>102.375000</td>\n",
       "    </tr>\n",
       "    <tr>\n",
       "      <th>power_2</th>\n",
       "      <td>13906.0</td>\n",
       "      <td>1.708434</td>\n",
       "      <td>1.502829</td>\n",
       "      <td>0.000</td>\n",
       "      <td>0.3900</td>\n",
       "      <td>0.3950</td>\n",
       "      <td>3.332875</td>\n",
       "      <td>4.036500</td>\n",
       "    </tr>\n",
       "    <tr>\n",
       "      <th>temperature_2</th>\n",
       "      <td>14013.0</td>\n",
       "      <td>2.088892</td>\n",
       "      <td>3.372782</td>\n",
       "      <td>-4.090</td>\n",
       "      <td>-0.3400</td>\n",
       "      <td>2.0550</td>\n",
       "      <td>4.310000</td>\n",
       "      <td>102.625000</td>\n",
       "    </tr>\n",
       "    <tr>\n",
       "      <th>power_3</th>\n",
       "      <td>14167.0</td>\n",
       "      <td>1.603641</td>\n",
       "      <td>0.905182</td>\n",
       "      <td>0.000</td>\n",
       "      <td>0.2800</td>\n",
       "      <td>2.0855</td>\n",
       "      <td>2.152000</td>\n",
       "      <td>6.038333</td>\n",
       "    </tr>\n",
       "    <tr>\n",
       "      <th>temperature_3</th>\n",
       "      <td>14400.0</td>\n",
       "      <td>4.118913</td>\n",
       "      <td>3.401599</td>\n",
       "      <td>1.090</td>\n",
       "      <td>2.1800</td>\n",
       "      <td>2.8400</td>\n",
       "      <td>4.215000</td>\n",
       "      <td>101.905000</td>\n",
       "    </tr>\n",
       "    <tr>\n",
       "      <th>power_4</th>\n",
       "      <td>13158.0</td>\n",
       "      <td>1.372093</td>\n",
       "      <td>0.992891</td>\n",
       "      <td>0.000</td>\n",
       "      <td>0.3095</td>\n",
       "      <td>1.3550</td>\n",
       "      <td>2.363000</td>\n",
       "      <td>6.060000</td>\n",
       "    </tr>\n",
       "    <tr>\n",
       "      <th>temperature_4</th>\n",
       "      <td>14330.0</td>\n",
       "      <td>2.944373</td>\n",
       "      <td>2.576478</td>\n",
       "      <td>0.185</td>\n",
       "      <td>1.6200</td>\n",
       "      <td>2.4350</td>\n",
       "      <td>3.340000</td>\n",
       "      <td>101.655000</td>\n",
       "    </tr>\n",
       "    <tr>\n",
       "      <th>Year</th>\n",
       "      <td>14400.0</td>\n",
       "      <td>2017.000000</td>\n",
       "      <td>0.000000</td>\n",
       "      <td>2017.000</td>\n",
       "      <td>2017.0000</td>\n",
       "      <td>2017.0000</td>\n",
       "      <td>2017.000000</td>\n",
       "      <td>2017.000000</td>\n",
       "    </tr>\n",
       "    <tr>\n",
       "      <th>Month</th>\n",
       "      <td>14400.0</td>\n",
       "      <td>8.000000</td>\n",
       "      <td>0.000000</td>\n",
       "      <td>8.000</td>\n",
       "      <td>8.0000</td>\n",
       "      <td>8.0000</td>\n",
       "      <td>8.000000</td>\n",
       "      <td>8.000000</td>\n",
       "    </tr>\n",
       "    <tr>\n",
       "      <th>Day</th>\n",
       "      <td>14400.0</td>\n",
       "      <td>5.500000</td>\n",
       "      <td>2.872381</td>\n",
       "      <td>1.000</td>\n",
       "      <td>3.0000</td>\n",
       "      <td>5.5000</td>\n",
       "      <td>8.000000</td>\n",
       "      <td>10.000000</td>\n",
       "    </tr>\n",
       "  </tbody>\n",
       "</table>\n",
       "</div>"
      ],
      "text/plain": [
       "                 count         mean       std       min        25%        50%  \\\n",
       "power_1        14323.0     1.123395  0.919815     0.000     0.2935     0.3210   \n",
       "temperature_1  14400.0     3.815729  2.035919     1.650     2.8400     3.8050   \n",
       "power_2        13906.0     1.708434  1.502829     0.000     0.3900     0.3950   \n",
       "temperature_2  14013.0     2.088892  3.372782    -4.090    -0.3400     2.0550   \n",
       "power_3        14167.0     1.603641  0.905182     0.000     0.2800     2.0855   \n",
       "temperature_3  14400.0     4.118913  3.401599     1.090     2.1800     2.8400   \n",
       "power_4        13158.0     1.372093  0.992891     0.000     0.3095     1.3550   \n",
       "temperature_4  14330.0     2.944373  2.576478     0.185     1.6200     2.4350   \n",
       "Year           14400.0  2017.000000  0.000000  2017.000  2017.0000  2017.0000   \n",
       "Month          14400.0     8.000000  0.000000     8.000     8.0000     8.0000   \n",
       "Day            14400.0     5.500000  2.872381     1.000     3.0000     5.5000   \n",
       "\n",
       "                       75%          max  \n",
       "power_1           2.166500     3.055500  \n",
       "temperature_1     4.530000   102.375000  \n",
       "power_2           3.332875     4.036500  \n",
       "temperature_2     4.310000   102.625000  \n",
       "power_3           2.152000     6.038333  \n",
       "temperature_3     4.215000   101.905000  \n",
       "power_4           2.363000     6.060000  \n",
       "temperature_4     3.340000   101.655000  \n",
       "Year           2017.000000  2017.000000  \n",
       "Month             8.000000     8.000000  \n",
       "Day               8.000000    10.000000  "
      ]
     },
     "execution_count": 11,
     "metadata": {},
     "output_type": "execute_result"
    }
   ],
   "source": [
    "data.describe().T"
   ]
  },
  {
   "cell_type": "markdown",
   "metadata": {},
   "source": [
    "## 1. Refrigeration Unit - 1"
   ]
  },
  {
   "cell_type": "code",
   "execution_count": 12,
   "metadata": {},
   "outputs": [
    {
     "data": {
      "text/html": [
       "<div>\n",
       "<style scoped>\n",
       "    .dataframe tbody tr th:only-of-type {\n",
       "        vertical-align: middle;\n",
       "    }\n",
       "\n",
       "    .dataframe tbody tr th {\n",
       "        vertical-align: top;\n",
       "    }\n",
       "\n",
       "    .dataframe thead th {\n",
       "        text-align: right;\n",
       "    }\n",
       "</style>\n",
       "<table border=\"1\" class=\"dataframe\">\n",
       "  <thead>\n",
       "    <tr style=\"text-align: right;\">\n",
       "      <th></th>\n",
       "      <th>power</th>\n",
       "      <th>temperature</th>\n",
       "      <th>Day</th>\n",
       "      <th>Date</th>\n",
       "    </tr>\n",
       "  </thead>\n",
       "  <tbody>\n",
       "    <tr>\n",
       "      <th>2</th>\n",
       "      <td>2.2585</td>\n",
       "      <td>4.810</td>\n",
       "      <td>1.0</td>\n",
       "      <td>2017-08-01 00:00:00</td>\n",
       "    </tr>\n",
       "    <tr>\n",
       "      <th>3</th>\n",
       "      <td>2.2035</td>\n",
       "      <td>3.900</td>\n",
       "      <td>1.0</td>\n",
       "      <td>2017-08-01 00:01:00</td>\n",
       "    </tr>\n",
       "    <tr>\n",
       "      <th>4</th>\n",
       "      <td>2.1300</td>\n",
       "      <td>3.155</td>\n",
       "      <td>1.0</td>\n",
       "      <td>2017-08-01 00:02:00</td>\n",
       "    </tr>\n",
       "    <tr>\n",
       "      <th>5</th>\n",
       "      <td>2.1425</td>\n",
       "      <td>2.715</td>\n",
       "      <td>1.0</td>\n",
       "      <td>2017-08-01 00:03:00</td>\n",
       "    </tr>\n",
       "    <tr>\n",
       "      <th>6</th>\n",
       "      <td>1.2250</td>\n",
       "      <td>2.310</td>\n",
       "      <td>1.0</td>\n",
       "      <td>2017-08-01 00:04:00</td>\n",
       "    </tr>\n",
       "  </tbody>\n",
       "</table>\n",
       "</div>"
      ],
      "text/plain": [
       "    power  temperature  Day                 Date\n",
       "2  2.2585        4.810  1.0  2017-08-01 00:00:00\n",
       "3  2.2035        3.900  1.0  2017-08-01 00:01:00\n",
       "4  2.1300        3.155  1.0  2017-08-01 00:02:00\n",
       "5  2.1425        2.715  1.0  2017-08-01 00:03:00\n",
       "6  1.2250        2.310  1.0  2017-08-01 00:04:00"
      ]
     },
     "execution_count": 12,
     "metadata": {},
     "output_type": "execute_result"
    }
   ],
   "source": [
    "df = data[[\"power_1\",\"temperature_1\",\"Day\",\"Date\"]]\n",
    "df.columns= [\"power\",\"temperature\",\"Day\",\"Date\"]\n",
    "df.head()"
   ]
  },
  {
   "cell_type": "code",
   "execution_count": 13,
   "metadata": {},
   "outputs": [
    {
     "data": {
      "text/html": [
       "<div>\n",
       "<style scoped>\n",
       "    .dataframe tbody tr th:only-of-type {\n",
       "        vertical-align: middle;\n",
       "    }\n",
       "\n",
       "    .dataframe tbody tr th {\n",
       "        vertical-align: top;\n",
       "    }\n",
       "\n",
       "    .dataframe thead th {\n",
       "        text-align: right;\n",
       "    }\n",
       "</style>\n",
       "<table border=\"1\" class=\"dataframe\">\n",
       "  <thead>\n",
       "    <tr style=\"text-align: right;\">\n",
       "      <th></th>\n",
       "      <th>power</th>\n",
       "      <th>temperature</th>\n",
       "      <th>Day</th>\n",
       "    </tr>\n",
       "  </thead>\n",
       "  <tbody>\n",
       "    <tr>\n",
       "      <th>count</th>\n",
       "      <td>14323.000000</td>\n",
       "      <td>14400.000000</td>\n",
       "      <td>14400.000000</td>\n",
       "    </tr>\n",
       "    <tr>\n",
       "      <th>mean</th>\n",
       "      <td>1.123395</td>\n",
       "      <td>3.815729</td>\n",
       "      <td>5.500000</td>\n",
       "    </tr>\n",
       "    <tr>\n",
       "      <th>std</th>\n",
       "      <td>0.919815</td>\n",
       "      <td>2.035919</td>\n",
       "      <td>2.872381</td>\n",
       "    </tr>\n",
       "    <tr>\n",
       "      <th>min</th>\n",
       "      <td>0.000000</td>\n",
       "      <td>1.650000</td>\n",
       "      <td>1.000000</td>\n",
       "    </tr>\n",
       "    <tr>\n",
       "      <th>25%</th>\n",
       "      <td>0.293500</td>\n",
       "      <td>2.840000</td>\n",
       "      <td>3.000000</td>\n",
       "    </tr>\n",
       "    <tr>\n",
       "      <th>50%</th>\n",
       "      <td>0.321000</td>\n",
       "      <td>3.805000</td>\n",
       "      <td>5.500000</td>\n",
       "    </tr>\n",
       "    <tr>\n",
       "      <th>75%</th>\n",
       "      <td>2.166500</td>\n",
       "      <td>4.530000</td>\n",
       "      <td>8.000000</td>\n",
       "    </tr>\n",
       "    <tr>\n",
       "      <th>max</th>\n",
       "      <td>3.055500</td>\n",
       "      <td>102.375000</td>\n",
       "      <td>10.000000</td>\n",
       "    </tr>\n",
       "  </tbody>\n",
       "</table>\n",
       "</div>"
      ],
      "text/plain": [
       "              power   temperature           Day\n",
       "count  14323.000000  14400.000000  14400.000000\n",
       "mean       1.123395      3.815729      5.500000\n",
       "std        0.919815      2.035919      2.872381\n",
       "min        0.000000      1.650000      1.000000\n",
       "25%        0.293500      2.840000      3.000000\n",
       "50%        0.321000      3.805000      5.500000\n",
       "75%        2.166500      4.530000      8.000000\n",
       "max        3.055500    102.375000     10.000000"
      ]
     },
     "execution_count": 13,
     "metadata": {},
     "output_type": "execute_result"
    }
   ],
   "source": [
    "df.describe()"
   ]
  },
  {
   "cell_type": "code",
   "execution_count": 14,
   "metadata": {},
   "outputs": [
    {
     "data": {
      "text/plain": [
       "power          77\n",
       "temperature     0\n",
       "Day             0\n",
       "Date            0\n",
       "dtype: int64"
      ]
     },
     "execution_count": 14,
     "metadata": {},
     "output_type": "execute_result"
    }
   ],
   "source": [
    "df.isna().sum()"
   ]
  },
  {
   "cell_type": "markdown",
   "metadata": {},
   "source": [
    "In Refrigeration unit, there are missing value in power feature provided to us."
   ]
  },
  {
   "cell_type": "code",
   "execution_count": 15,
   "metadata": {},
   "outputs": [
    {
     "data": {
      "image/png": "[encoded data removed]",
      "text/plain": [
       "<Figure size 540x540 with 12 Axes>"
      ]
     },
     "metadata": {
      "needs_background": "light"
     },
     "output_type": "display_data"
    }
   ],
   "source": [
    "sns.pairplot(df);"
   ]
  },
  {
   "cell_type": "code",
   "execution_count": 16,
   "metadata": {},
   "outputs": [
    {
     "data": {
      "image/png": "[encoded data removed]",
      "text/plain": [
       "<Figure size 432x288 with 1 Axes>"
      ]
     },
     "metadata": {
      "needs_background": "light"
     },
     "output_type": "display_data"
    }
   ],
   "source": [
    "sns.histplot(df[\"temperature\"]);"
   ]
  },
  {
   "cell_type": "code",
   "execution_count": 17,
   "metadata": {},
   "outputs": [
    {
     "data": {
      "text/plain": [
       "<AxesSubplot:xlabel='power'>"
      ]
     },
     "execution_count": 17,
     "metadata": {},
     "output_type": "execute_result"
    },
    {
     "data": {
      "image/png": "[encoded data removed]",
      "text/plain": [
       "<Figure size 432x288 with 1 Axes>"
      ]
     },
     "metadata": {
      "needs_background": "light"
     },
     "output_type": "display_data"
    }
   ],
   "source": [
    "sns.boxplot(df[\"power\"])"
   ]
  },
  {
   "cell_type": "code",
   "execution_count": 18,
   "metadata": {},
   "outputs": [
    {
     "data": {
      "image/png": "[encoded data removed]",
      "text/plain": [
       "<Figure size 432x288 with 1 Axes>"
      ]
     },
     "metadata": {
      "needs_background": "light"
     },
     "output_type": "display_data"
    }
   ],
   "source": [
    "sns.boxplot(df[\"temperature\"]);"
   ]
  },
  {
   "cell_type": "markdown",
   "metadata": {},
   "source": [
    "### 1.1.  Duty cycle"
   ]
  },
  {
   "cell_type": "code",
   "execution_count": 19,
   "metadata": {},
   "outputs": [
    {
     "data": {
      "image/png": "[encoded data removed]",
      "text/plain": [
       "<Figure size 432x288 with 1 Axes>"
      ]
     },
     "metadata": {
      "needs_background": "light"
     },
     "output_type": "display_data"
    }
   ],
   "source": [
    "n,m = 900 , 1000\n",
    "plt.plot(df[\"Date\"][n:m],df[\"power\"][n:m])\n",
    "plt.xticks(rotation=45);"
   ]
  },
  {
   "cell_type": "markdown",
   "metadata": {},
   "source": [
    "In Refrigeration Unit 1, Duty cucle is approximately 50%"
   ]
  },
  {
   "cell_type": "markdown",
   "metadata": {},
   "source": [
    "## 1.2. Set temperature range (lower threshold and upper threshold)"
   ]
  },
  {
   "cell_type": "code",
   "execution_count": 20,
   "metadata": {},
   "outputs": [
    {
     "name": "stdout",
     "output_type": "stream",
     "text": [
      "mean of the dataset is 3.8157290509259214\n",
      "std. deviation is 2.035848185124619\n",
      "lower threshold for Temperature of Refrigeration unit is -2.292\n",
      "higher threshold for Temperature of Refrigeration unit is 9.923\n"
     ]
    }
   ],
   "source": [
    "l = df[\"temperature\"]\n",
    "mean = np.mean(l)\n",
    "std = np.std(l)\n",
    "print('mean of the dataset is', mean)\n",
    "print('std. deviation is', std)\n",
    "\n",
    "\n",
    "low = -3*std+mean\n",
    "high = 3*std+mean\n",
    "print(\"lower threshold for Temperature of Refrigeration unit is {:.3f}\".format(low))\n",
    "print(\"higher threshold for Temperature of Refrigeration unit is {:.3f}\".format(high))"
   ]
  },
  {
   "cell_type": "markdown",
   "metadata": {},
   "source": [
    "## 1.3. Average daily energy consumption"
   ]
  },
  {
   "cell_type": "code",
   "execution_count": 21,
   "metadata": {},
   "outputs": [
    {
     "name": "stdout",
     "output_type": "stream",
     "text": [
      "Total avg daily energy of Refrigeration unit 3 is 1609.039\n"
     ]
    },
    {
     "data": {
      "image/png": "[encoded data removed]",
      "text/plain": [
       "<Figure size 432x288 with 1 Axes>"
      ]
     },
     "metadata": {
      "needs_background": "light"
     },
     "output_type": "display_data"
    }
   ],
   "source": [
    "df.power.sum()\n",
    "dff =(df.groupby(\"Day\").sum()[[\"power\"]])\n",
    "dff.plot(kind = \"bar\");\n",
    "print(\"Total avg daily energy of Refrigeration unit 3 is {:.3f}\".format(dff.power.mean()))"
   ]
  },
  {
   "cell_type": "markdown",
   "metadata": {},
   "source": [
    "## 1.4. Percentage of temperature compliance"
   ]
  },
  {
   "cell_type": "code",
   "execution_count": 22,
   "metadata": {},
   "outputs": [
    {
     "name": "stdout",
     "output_type": "stream",
     "text": [
      "Percentage of temperature compliance : 55.792 %\n"
     ]
    }
   ],
   "source": [
    "outlier = []\n",
    "for i in df.temperature:\n",
    "    if (0<=i and i<=4):\n",
    "        outlier.append(i)\n",
    "print(\"Percentage of temperature compliance : {:.3f} %\".format(len(outlier)/len(df.temperature)*100))\n"
   ]
  },
  {
   "cell_type": "markdown",
   "metadata": {},
   "source": [
    "-----------------------------------------------------------------------------------------"
   ]
  },
  {
   "cell_type": "markdown",
   "metadata": {},
   "source": [
    "## 2. Refrigeration Unit - 2"
   ]
  },
  {
   "cell_type": "code",
   "execution_count": 23,
   "metadata": {},
   "outputs": [
    {
     "data": {
      "text/html": [
       "<div>\n",
       "<style scoped>\n",
       "    .dataframe tbody tr th:only-of-type {\n",
       "        vertical-align: middle;\n",
       "    }\n",
       "\n",
       "    .dataframe tbody tr th {\n",
       "        vertical-align: top;\n",
       "    }\n",
       "\n",
       "    .dataframe thead th {\n",
       "        text-align: right;\n",
       "    }\n",
       "</style>\n",
       "<table border=\"1\" class=\"dataframe\">\n",
       "  <thead>\n",
       "    <tr style=\"text-align: right;\">\n",
       "      <th></th>\n",
       "      <th>power</th>\n",
       "      <th>temperature</th>\n",
       "      <th>Day</th>\n",
       "      <th>Date</th>\n",
       "    </tr>\n",
       "  </thead>\n",
       "  <tbody>\n",
       "    <tr>\n",
       "      <th>2</th>\n",
       "      <td>3.2310</td>\n",
       "      <td>0.495</td>\n",
       "      <td>1.0</td>\n",
       "      <td>2017-08-01 00:00:00</td>\n",
       "    </tr>\n",
       "    <tr>\n",
       "      <th>3</th>\n",
       "      <td>3.1880</td>\n",
       "      <td>0.245</td>\n",
       "      <td>1.0</td>\n",
       "      <td>2017-08-01 00:01:00</td>\n",
       "    </tr>\n",
       "    <tr>\n",
       "      <th>4</th>\n",
       "      <td>3.1845</td>\n",
       "      <td>0.000</td>\n",
       "      <td>1.0</td>\n",
       "      <td>2017-08-01 00:02:00</td>\n",
       "    </tr>\n",
       "    <tr>\n",
       "      <th>5</th>\n",
       "      <td>3.1695</td>\n",
       "      <td>-0.215</td>\n",
       "      <td>1.0</td>\n",
       "      <td>2017-08-01 00:03:00</td>\n",
       "    </tr>\n",
       "    <tr>\n",
       "      <th>6</th>\n",
       "      <td>3.1735</td>\n",
       "      <td>-0.495</td>\n",
       "      <td>1.0</td>\n",
       "      <td>2017-08-01 00:04:00</td>\n",
       "    </tr>\n",
       "  </tbody>\n",
       "</table>\n",
       "</div>"
      ],
      "text/plain": [
       "    power  temperature  Day                 Date\n",
       "2  3.2310        0.495  1.0  2017-08-01 00:00:00\n",
       "3  3.1880        0.245  1.0  2017-08-01 00:01:00\n",
       "4  3.1845        0.000  1.0  2017-08-01 00:02:00\n",
       "5  3.1695       -0.215  1.0  2017-08-01 00:03:00\n",
       "6  3.1735       -0.495  1.0  2017-08-01 00:04:00"
      ]
     },
     "execution_count": 23,
     "metadata": {},
     "output_type": "execute_result"
    }
   ],
   "source": [
    "df = data[[\"power_2\",\"temperature_2\",\"Day\",\"Date\"]]\n",
    "df.columns= [\"power\",\"temperature\",\"Day\",\"Date\"]\n",
    "df.head()"
   ]
  },
  {
   "cell_type": "code",
   "execution_count": 24,
   "metadata": {},
   "outputs": [
    {
     "data": {
      "text/html": [
       "<div>\n",
       "<style scoped>\n",
       "    .dataframe tbody tr th:only-of-type {\n",
       "        vertical-align: middle;\n",
       "    }\n",
       "\n",
       "    .dataframe tbody tr th {\n",
       "        vertical-align: top;\n",
       "    }\n",
       "\n",
       "    .dataframe thead th {\n",
       "        text-align: right;\n",
       "    }\n",
       "</style>\n",
       "<table border=\"1\" class=\"dataframe\">\n",
       "  <thead>\n",
       "    <tr style=\"text-align: right;\">\n",
       "      <th></th>\n",
       "      <th>power</th>\n",
       "      <th>temperature</th>\n",
       "      <th>Day</th>\n",
       "    </tr>\n",
       "  </thead>\n",
       "  <tbody>\n",
       "    <tr>\n",
       "      <th>count</th>\n",
       "      <td>13906.000000</td>\n",
       "      <td>14013.000000</td>\n",
       "      <td>14400.000000</td>\n",
       "    </tr>\n",
       "    <tr>\n",
       "      <th>mean</th>\n",
       "      <td>1.708434</td>\n",
       "      <td>2.088892</td>\n",
       "      <td>5.500000</td>\n",
       "    </tr>\n",
       "    <tr>\n",
       "      <th>std</th>\n",
       "      <td>1.502829</td>\n",
       "      <td>3.372782</td>\n",
       "      <td>2.872381</td>\n",
       "    </tr>\n",
       "    <tr>\n",
       "      <th>min</th>\n",
       "      <td>0.000000</td>\n",
       "      <td>-4.090000</td>\n",
       "      <td>1.000000</td>\n",
       "    </tr>\n",
       "    <tr>\n",
       "      <th>25%</th>\n",
       "      <td>0.390000</td>\n",
       "      <td>-0.340000</td>\n",
       "      <td>3.000000</td>\n",
       "    </tr>\n",
       "    <tr>\n",
       "      <th>50%</th>\n",
       "      <td>0.395000</td>\n",
       "      <td>2.055000</td>\n",
       "      <td>5.500000</td>\n",
       "    </tr>\n",
       "    <tr>\n",
       "      <th>75%</th>\n",
       "      <td>3.332875</td>\n",
       "      <td>4.310000</td>\n",
       "      <td>8.000000</td>\n",
       "    </tr>\n",
       "    <tr>\n",
       "      <th>max</th>\n",
       "      <td>4.036500</td>\n",
       "      <td>102.625000</td>\n",
       "      <td>10.000000</td>\n",
       "    </tr>\n",
       "  </tbody>\n",
       "</table>\n",
       "</div>"
      ],
      "text/plain": [
       "              power   temperature           Day\n",
       "count  13906.000000  14013.000000  14400.000000\n",
       "mean       1.708434      2.088892      5.500000\n",
       "std        1.502829      3.372782      2.872381\n",
       "min        0.000000     -4.090000      1.000000\n",
       "25%        0.390000     -0.340000      3.000000\n",
       "50%        0.395000      2.055000      5.500000\n",
       "75%        3.332875      4.310000      8.000000\n",
       "max        4.036500    102.625000     10.000000"
      ]
     },
     "execution_count": 24,
     "metadata": {},
     "output_type": "execute_result"
    }
   ],
   "source": [
    "df.describe()"
   ]
  },
  {
   "cell_type": "code",
   "execution_count": 25,
   "metadata": {},
   "outputs": [
    {
     "data": {
      "text/plain": [
       "power          494\n",
       "temperature    387\n",
       "Day              0\n",
       "Date             0\n",
       "dtype: int64"
      ]
     },
     "execution_count": 25,
     "metadata": {},
     "output_type": "execute_result"
    }
   ],
   "source": [
    "df.isna().sum()"
   ]
  },
  {
   "cell_type": "markdown",
   "metadata": {},
   "source": [
    "In Refrigeration unit 2, there are missing value in power as well as temperature feature provided to us."
   ]
  },
  {
   "cell_type": "code",
   "execution_count": 26,
   "metadata": {},
   "outputs": [
    {
     "data": {
      "image/png": "[encoded data removed]",
      "text/plain": [
       "<Figure size 540x540 with 12 Axes>"
      ]
     },
     "metadata": {
      "needs_background": "light"
     },
     "output_type": "display_data"
    }
   ],
   "source": [
    "sns.pairplot(df);"
   ]
  },
  {
   "cell_type": "code",
   "execution_count": 27,
   "metadata": {},
   "outputs": [
    {
     "data": {
      "image/png": "[encoded data removed]",
      "text/plain": [
       "<Figure size 432x288 with 1 Axes>"
      ]
     },
     "metadata": {
      "needs_background": "light"
     },
     "output_type": "display_data"
    }
   ],
   "source": [
    "sns.histplot(df[\"temperature\"]);"
   ]
  },
  {
   "cell_type": "code",
   "execution_count": 28,
   "metadata": {},
   "outputs": [
    {
     "data": {
      "text/plain": [
       "<AxesSubplot:xlabel='power'>"
      ]
     },
     "execution_count": 28,
     "metadata": {},
     "output_type": "execute_result"
    },
    {
     "data": {
      "image/png": "[encoded data removed]",
      "text/plain": [
       "<Figure size 432x288 with 1 Axes>"
      ]
     },
     "metadata": {
      "needs_background": "light"
     },
     "output_type": "display_data"
    }
   ],
   "source": [
    "sns.boxplot(df[\"power\"])"
   ]
  },
  {
   "cell_type": "code",
   "execution_count": 29,
   "metadata": {},
   "outputs": [
    {
     "data": {
      "text/plain": [
       "<AxesSubplot:xlabel='temperature'>"
      ]
     },
     "execution_count": 29,
     "metadata": {},
     "output_type": "execute_result"
    },
    {
     "data": {
      "image/png": "[encoded data removed]",
      "text/plain": [
       "<Figure size 432x288 with 1 Axes>"
      ]
     },
     "metadata": {
      "needs_background": "light"
     },
     "output_type": "display_data"
    }
   ],
   "source": [
    "sns.boxplot(df[\"temperature\"])"
   ]
  },
  {
   "cell_type": "markdown",
   "metadata": {},
   "source": [
    "## 2.1. Duty cycle"
   ]
  },
  {
   "cell_type": "code",
   "execution_count": 30,
   "metadata": {},
   "outputs": [
    {
     "data": {
      "image/png": "[encoded data removed]",
      "text/plain": [
       "<Figure size 432x288 with 1 Axes>"
      ]
     },
     "metadata": {
      "needs_background": "light"
     },
     "output_type": "display_data"
    }
   ],
   "source": [
    "n,m=200,500\n",
    "plt.plot(df[\"Date\"][n:m],df[\"power\"][n:m])\n",
    "plt.xticks(rotation=45);"
   ]
  },
  {
   "cell_type": "markdown",
   "metadata": {},
   "source": [
    "In Refrigeration Unit 2, Duty cucle is approximately 33.33-40%"
   ]
  },
  {
   "cell_type": "markdown",
   "metadata": {},
   "source": [
    "## 2.2. Set temperature range (lower threshold and upper threshold)"
   ]
  },
  {
   "cell_type": "code",
   "execution_count": 31,
   "metadata": {},
   "outputs": [
    {
     "name": "stdout",
     "output_type": "stream",
     "text": [
      "mean of the dataset is 2.0888921001926763\n",
      "std. deviation is 3.372661540434807\n",
      "lower threshold for Temperature of Refrigeration unit is -8.029\n",
      "higher threshold for Temperature of Refrigeration unit is 12.207\n"
     ]
    }
   ],
   "source": [
    "l = df[\"temperature\"]\n",
    "mean = np.mean(l)\n",
    "std = np.std(l)\n",
    "print('mean of the dataset is', mean)\n",
    "print('std. deviation is', std)\n",
    "\n",
    "\n",
    "low = -3*std+mean\n",
    "high = 3*std+mean\n",
    "print(\"lower threshold for Temperature of Refrigeration unit is {:.3f}\".format(low))\n",
    "print(\"higher threshold for Temperature of Refrigeration unit is {:.3f}\".format(high))"
   ]
  },
  {
   "cell_type": "markdown",
   "metadata": {},
   "source": [
    "## 2.3. Average daily energy consumption"
   ]
  },
  {
   "cell_type": "code",
   "execution_count": 32,
   "metadata": {},
   "outputs": [
    {
     "name": "stdout",
     "output_type": "stream",
     "text": [
      "Total avg daily energy of Refrigeration unit 2 is 2375.748\n"
     ]
    },
    {
     "data": {
      "image/png": "[encoded data removed]",
      "text/plain": [
       "<Figure size 432x288 with 1 Axes>"
      ]
     },
     "metadata": {
      "needs_background": "light"
     },
     "output_type": "display_data"
    }
   ],
   "source": [
    "df.power.sum()\n",
    "dff =(df.groupby(\"Day\").sum()[[\"power\"]])\n",
    "dff.plot(kind = \"bar\");\n",
    "print(\"Total avg daily energy of Refrigeration unit 2 is {:.3f}\".format(dff.power.mean()))"
   ]
  },
  {
   "cell_type": "markdown",
   "metadata": {},
   "source": [
    "## 2.4. Percentage of temperature compliance"
   ]
  },
  {
   "cell_type": "code",
   "execution_count": 33,
   "metadata": {},
   "outputs": [
    {
     "name": "stdout",
     "output_type": "stream",
     "text": [
      "Percentage of temperature compliance : 41.896 %\n"
     ]
    }
   ],
   "source": [
    "outlier = []\n",
    "for i in df.temperature:\n",
    "    if (0<=i and i<=4):\n",
    "        outlier.append(i)\n",
    "print(\"Percentage of temperature compliance : {:.3f} %\".format(len(outlier)/len(df.temperature)*100))"
   ]
  },
  {
   "cell_type": "markdown",
   "metadata": {},
   "source": [
    "------------------------------------------------------------------------------------------------"
   ]
  },
  {
   "cell_type": "markdown",
   "metadata": {},
   "source": [
    "## 3. Refrigeration Unit - 3\t"
   ]
  },
  {
   "cell_type": "code",
   "execution_count": 34,
   "metadata": {},
   "outputs": [
    {
     "data": {
      "text/html": [
       "<div>\n",
       "<style scoped>\n",
       "    .dataframe tbody tr th:only-of-type {\n",
       "        vertical-align: middle;\n",
       "    }\n",
       "\n",
       "    .dataframe tbody tr th {\n",
       "        vertical-align: top;\n",
       "    }\n",
       "\n",
       "    .dataframe thead th {\n",
       "        text-align: right;\n",
       "    }\n",
       "</style>\n",
       "<table border=\"1\" class=\"dataframe\">\n",
       "  <thead>\n",
       "    <tr style=\"text-align: right;\">\n",
       "      <th></th>\n",
       "      <th>power</th>\n",
       "      <th>temperature</th>\n",
       "      <th>Day</th>\n",
       "      <th>Date</th>\n",
       "    </tr>\n",
       "  </thead>\n",
       "  <tbody>\n",
       "    <tr>\n",
       "      <th>2</th>\n",
       "      <td>0.0</td>\n",
       "      <td>8.93</td>\n",
       "      <td>1.0</td>\n",
       "      <td>2017-08-01 00:00:00</td>\n",
       "    </tr>\n",
       "    <tr>\n",
       "      <th>3</th>\n",
       "      <td>0.0</td>\n",
       "      <td>8.90</td>\n",
       "      <td>1.0</td>\n",
       "      <td>2017-08-01 00:01:00</td>\n",
       "    </tr>\n",
       "    <tr>\n",
       "      <th>4</th>\n",
       "      <td>0.0</td>\n",
       "      <td>8.87</td>\n",
       "      <td>1.0</td>\n",
       "      <td>2017-08-01 00:02:00</td>\n",
       "    </tr>\n",
       "    <tr>\n",
       "      <th>5</th>\n",
       "      <td>0.0</td>\n",
       "      <td>8.81</td>\n",
       "      <td>1.0</td>\n",
       "      <td>2017-08-01 00:03:00</td>\n",
       "    </tr>\n",
       "    <tr>\n",
       "      <th>6</th>\n",
       "      <td>0.0</td>\n",
       "      <td>8.81</td>\n",
       "      <td>1.0</td>\n",
       "      <td>2017-08-01 00:04:00</td>\n",
       "    </tr>\n",
       "  </tbody>\n",
       "</table>\n",
       "</div>"
      ],
      "text/plain": [
       "   power  temperature  Day                 Date\n",
       "2    0.0         8.93  1.0  2017-08-01 00:00:00\n",
       "3    0.0         8.90  1.0  2017-08-01 00:01:00\n",
       "4    0.0         8.87  1.0  2017-08-01 00:02:00\n",
       "5    0.0         8.81  1.0  2017-08-01 00:03:00\n",
       "6    0.0         8.81  1.0  2017-08-01 00:04:00"
      ]
     },
     "execution_count": 34,
     "metadata": {},
     "output_type": "execute_result"
    }
   ],
   "source": [
    "df = data[[\"power_3\",\"temperature_3\",\"Day\",\"Date\"]]\n",
    "df.columns= [\"power\",\"temperature\",\"Day\",\"Date\"]\n",
    "df.head()"
   ]
  },
  {
   "cell_type": "code",
   "execution_count": 35,
   "metadata": {},
   "outputs": [
    {
     "data": {
      "text/html": [
       "<div>\n",
       "<style scoped>\n",
       "    .dataframe tbody tr th:only-of-type {\n",
       "        vertical-align: middle;\n",
       "    }\n",
       "\n",
       "    .dataframe tbody tr th {\n",
       "        vertical-align: top;\n",
       "    }\n",
       "\n",
       "    .dataframe thead th {\n",
       "        text-align: right;\n",
       "    }\n",
       "</style>\n",
       "<table border=\"1\" class=\"dataframe\">\n",
       "  <thead>\n",
       "    <tr style=\"text-align: right;\">\n",
       "      <th></th>\n",
       "      <th>power</th>\n",
       "      <th>temperature</th>\n",
       "      <th>Day</th>\n",
       "    </tr>\n",
       "  </thead>\n",
       "  <tbody>\n",
       "    <tr>\n",
       "      <th>count</th>\n",
       "      <td>14167.000000</td>\n",
       "      <td>14400.000000</td>\n",
       "      <td>14400.000000</td>\n",
       "    </tr>\n",
       "    <tr>\n",
       "      <th>mean</th>\n",
       "      <td>1.603641</td>\n",
       "      <td>4.118913</td>\n",
       "      <td>5.500000</td>\n",
       "    </tr>\n",
       "    <tr>\n",
       "      <th>std</th>\n",
       "      <td>0.905182</td>\n",
       "      <td>3.401599</td>\n",
       "      <td>2.872381</td>\n",
       "    </tr>\n",
       "    <tr>\n",
       "      <th>min</th>\n",
       "      <td>0.000000</td>\n",
       "      <td>1.090000</td>\n",
       "      <td>1.000000</td>\n",
       "    </tr>\n",
       "    <tr>\n",
       "      <th>25%</th>\n",
       "      <td>0.280000</td>\n",
       "      <td>2.180000</td>\n",
       "      <td>3.000000</td>\n",
       "    </tr>\n",
       "    <tr>\n",
       "      <th>50%</th>\n",
       "      <td>2.085500</td>\n",
       "      <td>2.840000</td>\n",
       "      <td>5.500000</td>\n",
       "    </tr>\n",
       "    <tr>\n",
       "      <th>75%</th>\n",
       "      <td>2.152000</td>\n",
       "      <td>4.215000</td>\n",
       "      <td>8.000000</td>\n",
       "    </tr>\n",
       "    <tr>\n",
       "      <th>max</th>\n",
       "      <td>6.038333</td>\n",
       "      <td>101.905000</td>\n",
       "      <td>10.000000</td>\n",
       "    </tr>\n",
       "  </tbody>\n",
       "</table>\n",
       "</div>"
      ],
      "text/plain": [
       "              power   temperature           Day\n",
       "count  14167.000000  14400.000000  14400.000000\n",
       "mean       1.603641      4.118913      5.500000\n",
       "std        0.905182      3.401599      2.872381\n",
       "min        0.000000      1.090000      1.000000\n",
       "25%        0.280000      2.180000      3.000000\n",
       "50%        2.085500      2.840000      5.500000\n",
       "75%        2.152000      4.215000      8.000000\n",
       "max        6.038333    101.905000     10.000000"
      ]
     },
     "execution_count": 35,
     "metadata": {},
     "output_type": "execute_result"
    }
   ],
   "source": [
    "df.describe()"
   ]
  },
  {
   "cell_type": "code",
   "execution_count": 36,
   "metadata": {},
   "outputs": [
    {
     "data": {
      "text/plain": [
       "power          233\n",
       "temperature      0\n",
       "Day              0\n",
       "Date             0\n",
       "dtype: int64"
      ]
     },
     "execution_count": 36,
     "metadata": {},
     "output_type": "execute_result"
    }
   ],
   "source": [
    "df.isna().sum()"
   ]
  },
  {
   "cell_type": "markdown",
   "metadata": {},
   "source": [
    "In Refrigeration unit, there are missing value in power feature provided to us."
   ]
  },
  {
   "cell_type": "code",
   "execution_count": 37,
   "metadata": {},
   "outputs": [
    {
     "name": "stdout",
     "output_type": "stream",
     "text": [
      "Error in callback <function flush_figures at 0x00000000108E5430> (for post_execute):\n"
     ]
    },
    {
     "ename": "KeyboardInterrupt",
     "evalue": "",
     "output_type": "error",
     "traceback": [
      "\u001b[1;31m---------------------------------------------------------------------------\u001b[0m",
      "\u001b[1;31mKeyboardInterrupt\u001b[0m                         Traceback (most recent call last)",
      "\u001b[1;32m~\\AppData\\Local\\Programs\\Python\\Python38\\lib\\site-packages\\matplotlib_inline\\backend_inline.py\u001b[0m in \u001b[0;36mflush_figures\u001b[1;34m()\u001b[0m\n\u001b[0;32m    119\u001b[0m         \u001b[1;31m# ignore the tracking, just draw and close all figures\u001b[0m\u001b[1;33m\u001b[0m\u001b[1;33m\u001b[0m\u001b[1;33m\u001b[0m\u001b[0m\n\u001b[0;32m    120\u001b[0m         \u001b[1;32mtry\u001b[0m\u001b[1;33m:\u001b[0m\u001b[1;33m\u001b[0m\u001b[1;33m\u001b[0m\u001b[0m\n\u001b[1;32m--> 121\u001b[1;33m             \u001b[1;32mreturn\u001b[0m \u001b[0mshow\u001b[0m\u001b[1;33m(\u001b[0m\u001b[1;32mTrue\u001b[0m\u001b[1;33m)\u001b[0m\u001b[1;33m\u001b[0m\u001b[1;33m\u001b[0m\u001b[0m\n\u001b[0m\u001b[0;32m    122\u001b[0m         \u001b[1;32mexcept\u001b[0m \u001b[0mException\u001b[0m \u001b[1;32mas\u001b[0m \u001b[0me\u001b[0m\u001b[1;33m:\u001b[0m\u001b[1;33m\u001b[0m\u001b[1;33m\u001b[0m\u001b[0m\n\u001b[0;32m    123\u001b[0m             \u001b[1;31m# safely show traceback if in IPython, else raise\u001b[0m\u001b[1;33m\u001b[0m\u001b[1;33m\u001b[0m\u001b[1;33m\u001b[0m\u001b[0m\n",
      "\u001b[1;32m~\\AppData\\Local\\Programs\\Python\\Python38\\lib\\site-packages\\matplotlib_inline\\backend_inline.py\u001b[0m in \u001b[0;36mshow\u001b[1;34m(close, block)\u001b[0m\n\u001b[0;32m     39\u001b[0m     \u001b[1;32mtry\u001b[0m\u001b[1;33m:\u001b[0m\u001b[1;33m\u001b[0m\u001b[1;33m\u001b[0m\u001b[0m\n\u001b[0;32m     40\u001b[0m         \u001b[1;32mfor\u001b[0m \u001b[0mfigure_manager\u001b[0m \u001b[1;32min\u001b[0m \u001b[0mGcf\u001b[0m\u001b[1;33m.\u001b[0m\u001b[0mget_all_fig_managers\u001b[0m\u001b[1;33m(\u001b[0m\u001b[1;33m)\u001b[0m\u001b[1;33m:\u001b[0m\u001b[1;33m\u001b[0m\u001b[1;33m\u001b[0m\u001b[0m\n\u001b[1;32m---> 41\u001b[1;33m             display(\n\u001b[0m\u001b[0;32m     42\u001b[0m                 \u001b[0mfigure_manager\u001b[0m\u001b[1;33m.\u001b[0m\u001b[0mcanvas\u001b[0m\u001b[1;33m.\u001b[0m\u001b[0mfigure\u001b[0m\u001b[1;33m,\u001b[0m\u001b[1;33m\u001b[0m\u001b[1;33m\u001b[0m\u001b[0m\n\u001b[0;32m     43\u001b[0m                 \u001b[0mmetadata\u001b[0m\u001b[1;33m=\u001b[0m\u001b[0m_fetch_figure_metadata\u001b[0m\u001b[1;33m(\u001b[0m\u001b[0mfigure_manager\u001b[0m\u001b[1;33m.\u001b[0m\u001b[0mcanvas\u001b[0m\u001b[1;33m.\u001b[0m\u001b[0mfigure\u001b[0m\u001b[1;33m)\u001b[0m\u001b[1;33m\u001b[0m\u001b[1;33m\u001b[0m\u001b[0m\n",
      "\u001b[1;32m~\\AppData\\Local\\Programs\\Python\\Python38\\lib\\site-packages\\IPython\\core\\display.py\u001b[0m in \u001b[0;36mdisplay\u001b[1;34m(include, exclude, metadata, transient, display_id, *objs, **kwargs)\u001b[0m\n\u001b[0;32m    318\u001b[0m             \u001b[0mpublish_display_data\u001b[0m\u001b[1;33m(\u001b[0m\u001b[0mdata\u001b[0m\u001b[1;33m=\u001b[0m\u001b[0mobj\u001b[0m\u001b[1;33m,\u001b[0m \u001b[0mmetadata\u001b[0m\u001b[1;33m=\u001b[0m\u001b[0mmetadata\u001b[0m\u001b[1;33m,\u001b[0m \u001b[1;33m**\u001b[0m\u001b[0mkwargs\u001b[0m\u001b[1;33m)\u001b[0m\u001b[1;33m\u001b[0m\u001b[1;33m\u001b[0m\u001b[0m\n\u001b[0;32m    319\u001b[0m         \u001b[1;32melse\u001b[0m\u001b[1;33m:\u001b[0m\u001b[1;33m\u001b[0m\u001b[1;33m\u001b[0m\u001b[0m\n\u001b[1;32m--> 320\u001b[1;33m             \u001b[0mformat_dict\u001b[0m\u001b[1;33m,\u001b[0m \u001b[0mmd_dict\u001b[0m \u001b[1;33m=\u001b[0m \u001b[0mformat\u001b[0m\u001b[1;33m(\u001b[0m\u001b[0mobj\u001b[0m\u001b[1;33m,\u001b[0m \u001b[0minclude\u001b[0m\u001b[1;33m=\u001b[0m\u001b[0minclude\u001b[0m\u001b[1;33m,\u001b[0m \u001b[0mexclude\u001b[0m\u001b[1;33m=\u001b[0m\u001b[0mexclude\u001b[0m\u001b[1;33m)\u001b[0m\u001b[1;33m\u001b[0m\u001b[1;33m\u001b[0m\u001b[0m\n\u001b[0m\u001b[0;32m    321\u001b[0m             \u001b[1;32mif\u001b[0m \u001b[1;32mnot\u001b[0m \u001b[0mformat_dict\u001b[0m\u001b[1;33m:\u001b[0m\u001b[1;33m\u001b[0m\u001b[1;33m\u001b[0m\u001b[0m\n\u001b[0;32m    322\u001b[0m                 \u001b[1;31m# nothing to display (e.g. _ipython_display_ took over)\u001b[0m\u001b[1;33m\u001b[0m\u001b[1;33m\u001b[0m\u001b[1;33m\u001b[0m\u001b[0m\n",
      "\u001b[1;32m~\\AppData\\Local\\Programs\\Python\\Python38\\lib\\site-packages\\IPython\\core\\formatters.py\u001b[0m in \u001b[0;36mformat\u001b[1;34m(self, obj, include, exclude)\u001b[0m\n\u001b[0;32m    178\u001b[0m             \u001b[0mmd\u001b[0m \u001b[1;33m=\u001b[0m \u001b[1;32mNone\u001b[0m\u001b[1;33m\u001b[0m\u001b[1;33m\u001b[0m\u001b[0m\n\u001b[0;32m    179\u001b[0m             \u001b[1;32mtry\u001b[0m\u001b[1;33m:\u001b[0m\u001b[1;33m\u001b[0m\u001b[1;33m\u001b[0m\u001b[0m\n\u001b[1;32m--> 180\u001b[1;33m                 \u001b[0mdata\u001b[0m \u001b[1;33m=\u001b[0m \u001b[0mformatter\u001b[0m\u001b[1;33m(\u001b[0m\u001b[0mobj\u001b[0m\u001b[1;33m)\u001b[0m\u001b[1;33m\u001b[0m\u001b[1;33m\u001b[0m\u001b[0m\n\u001b[0m\u001b[0;32m    181\u001b[0m             \u001b[1;32mexcept\u001b[0m\u001b[1;33m:\u001b[0m\u001b[1;33m\u001b[0m\u001b[1;33m\u001b[0m\u001b[0m\n\u001b[0;32m    182\u001b[0m                 \u001b[1;31m# FIXME: log the exception\u001b[0m\u001b[1;33m\u001b[0m\u001b[1;33m\u001b[0m\u001b[1;33m\u001b[0m\u001b[0m\n",
      "\u001b[1;32m~\\AppData\\Local\\Programs\\Python\\Python38\\lib\\site-packages\\decorator.py\u001b[0m in \u001b[0;36mfun\u001b[1;34m(*args, **kw)\u001b[0m\n\u001b[0;32m    230\u001b[0m             \u001b[1;32mif\u001b[0m \u001b[1;32mnot\u001b[0m \u001b[0mkwsyntax\u001b[0m\u001b[1;33m:\u001b[0m\u001b[1;33m\u001b[0m\u001b[1;33m\u001b[0m\u001b[0m\n\u001b[0;32m    231\u001b[0m                 \u001b[0margs\u001b[0m\u001b[1;33m,\u001b[0m \u001b[0mkw\u001b[0m \u001b[1;33m=\u001b[0m \u001b[0mfix\u001b[0m\u001b[1;33m(\u001b[0m\u001b[0margs\u001b[0m\u001b[1;33m,\u001b[0m \u001b[0mkw\u001b[0m\u001b[1;33m,\u001b[0m \u001b[0msig\u001b[0m\u001b[1;33m)\u001b[0m\u001b[1;33m\u001b[0m\u001b[1;33m\u001b[0m\u001b[0m\n\u001b[1;32m--> 232\u001b[1;33m             \u001b[1;32mreturn\u001b[0m \u001b[0mcaller\u001b[0m\u001b[1;33m(\u001b[0m\u001b[0mfunc\u001b[0m\u001b[1;33m,\u001b[0m \u001b[1;33m*\u001b[0m\u001b[1;33m(\u001b[0m\u001b[0mextras\u001b[0m \u001b[1;33m+\u001b[0m \u001b[0margs\u001b[0m\u001b[1;33m)\u001b[0m\u001b[1;33m,\u001b[0m \u001b[1;33m**\u001b[0m\u001b[0mkw\u001b[0m\u001b[1;33m)\u001b[0m\u001b[1;33m\u001b[0m\u001b[1;33m\u001b[0m\u001b[0m\n\u001b[0m\u001b[0;32m    233\u001b[0m     \u001b[0mfun\u001b[0m\u001b[1;33m.\u001b[0m\u001b[0m__name__\u001b[0m \u001b[1;33m=\u001b[0m \u001b[0mfunc\u001b[0m\u001b[1;33m.\u001b[0m\u001b[0m__name__\u001b[0m\u001b[1;33m\u001b[0m\u001b[1;33m\u001b[0m\u001b[0m\n\u001b[0;32m    234\u001b[0m     \u001b[0mfun\u001b[0m\u001b[1;33m.\u001b[0m\u001b[0m__doc__\u001b[0m \u001b[1;33m=\u001b[0m \u001b[0mfunc\u001b[0m\u001b[1;33m.\u001b[0m\u001b[0m__doc__\u001b[0m\u001b[1;33m\u001b[0m\u001b[1;33m\u001b[0m\u001b[0m\n",
      "\u001b[1;32m~\\AppData\\Local\\Programs\\Python\\Python38\\lib\\site-packages\\IPython\\core\\formatters.py\u001b[0m in \u001b[0;36mcatch_format_error\u001b[1;34m(method, self, *args, **kwargs)\u001b[0m\n\u001b[0;32m    222\u001b[0m     \u001b[1;34m\"\"\"show traceback on failed format call\"\"\"\u001b[0m\u001b[1;33m\u001b[0m\u001b[1;33m\u001b[0m\u001b[0m\n\u001b[0;32m    223\u001b[0m     \u001b[1;32mtry\u001b[0m\u001b[1;33m:\u001b[0m\u001b[1;33m\u001b[0m\u001b[1;33m\u001b[0m\u001b[0m\n\u001b[1;32m--> 224\u001b[1;33m         \u001b[0mr\u001b[0m \u001b[1;33m=\u001b[0m \u001b[0mmethod\u001b[0m\u001b[1;33m(\u001b[0m\u001b[0mself\u001b[0m\u001b[1;33m,\u001b[0m \u001b[1;33m*\u001b[0m\u001b[0margs\u001b[0m\u001b[1;33m,\u001b[0m \u001b[1;33m**\u001b[0m\u001b[0mkwargs\u001b[0m\u001b[1;33m)\u001b[0m\u001b[1;33m\u001b[0m\u001b[1;33m\u001b[0m\u001b[0m\n\u001b[0m\u001b[0;32m    225\u001b[0m     \u001b[1;32mexcept\u001b[0m \u001b[0mNotImplementedError\u001b[0m\u001b[1;33m:\u001b[0m\u001b[1;33m\u001b[0m\u001b[1;33m\u001b[0m\u001b[0m\n\u001b[0;32m    226\u001b[0m         \u001b[1;31m# don't warn on NotImplementedErrors\u001b[0m\u001b[1;33m\u001b[0m\u001b[1;33m\u001b[0m\u001b[1;33m\u001b[0m\u001b[0m\n",
      "\u001b[1;32m~\\AppData\\Local\\Programs\\Python\\Python38\\lib\\site-packages\\IPython\\core\\formatters.py\u001b[0m in \u001b[0;36m__call__\u001b[1;34m(self, obj)\u001b[0m\n\u001b[0;32m    339\u001b[0m                 \u001b[1;32mpass\u001b[0m\u001b[1;33m\u001b[0m\u001b[1;33m\u001b[0m\u001b[0m\n\u001b[0;32m    340\u001b[0m             \u001b[1;32melse\u001b[0m\u001b[1;33m:\u001b[0m\u001b[1;33m\u001b[0m\u001b[1;33m\u001b[0m\u001b[0m\n\u001b[1;32m--> 341\u001b[1;33m                 \u001b[1;32mreturn\u001b[0m \u001b[0mprinter\u001b[0m\u001b[1;33m(\u001b[0m\u001b[0mobj\u001b[0m\u001b[1;33m)\u001b[0m\u001b[1;33m\u001b[0m\u001b[1;33m\u001b[0m\u001b[0m\n\u001b[0m\u001b[0;32m    342\u001b[0m             \u001b[1;31m# Finally look for special method names\u001b[0m\u001b[1;33m\u001b[0m\u001b[1;33m\u001b[0m\u001b[1;33m\u001b[0m\u001b[0m\n\u001b[0;32m    343\u001b[0m             \u001b[0mmethod\u001b[0m \u001b[1;33m=\u001b[0m \u001b[0mget_real_method\u001b[0m\u001b[1;33m(\u001b[0m\u001b[0mobj\u001b[0m\u001b[1;33m,\u001b[0m \u001b[0mself\u001b[0m\u001b[1;33m.\u001b[0m\u001b[0mprint_method\u001b[0m\u001b[1;33m)\u001b[0m\u001b[1;33m\u001b[0m\u001b[1;33m\u001b[0m\u001b[0m\n",
      "\u001b[1;32m~\\AppData\\Local\\Programs\\Python\\Python38\\lib\\site-packages\\IPython\\core\\pylabtools.py\u001b[0m in \u001b[0;36mprint_figure\u001b[1;34m(fig, fmt, bbox_inches, base64, **kwargs)\u001b[0m\n\u001b[0;32m    149\u001b[0m         \u001b[0mFigureCanvasBase\u001b[0m\u001b[1;33m(\u001b[0m\u001b[0mfig\u001b[0m\u001b[1;33m)\u001b[0m\u001b[1;33m\u001b[0m\u001b[1;33m\u001b[0m\u001b[0m\n\u001b[0;32m    150\u001b[0m \u001b[1;33m\u001b[0m\u001b[0m\n\u001b[1;32m--> 151\u001b[1;33m     \u001b[0mfig\u001b[0m\u001b[1;33m.\u001b[0m\u001b[0mcanvas\u001b[0m\u001b[1;33m.\u001b[0m\u001b[0mprint_figure\u001b[0m\u001b[1;33m(\u001b[0m\u001b[0mbytes_io\u001b[0m\u001b[1;33m,\u001b[0m \u001b[1;33m**\u001b[0m\u001b[0mkw\u001b[0m\u001b[1;33m)\u001b[0m\u001b[1;33m\u001b[0m\u001b[1;33m\u001b[0m\u001b[0m\n\u001b[0m\u001b[0;32m    152\u001b[0m     \u001b[0mdata\u001b[0m \u001b[1;33m=\u001b[0m \u001b[0mbytes_io\u001b[0m\u001b[1;33m.\u001b[0m\u001b[0mgetvalue\u001b[0m\u001b[1;33m(\u001b[0m\u001b[1;33m)\u001b[0m\u001b[1;33m\u001b[0m\u001b[1;33m\u001b[0m\u001b[0m\n\u001b[0;32m    153\u001b[0m     \u001b[1;32mif\u001b[0m \u001b[0mfmt\u001b[0m \u001b[1;33m==\u001b[0m \u001b[1;34m'svg'\u001b[0m\u001b[1;33m:\u001b[0m\u001b[1;33m\u001b[0m\u001b[1;33m\u001b[0m\u001b[0m\n",
      "\u001b[1;32m~\\AppData\\Local\\Programs\\Python\\Python38\\lib\\site-packages\\matplotlib\\backend_bases.py\u001b[0m in \u001b[0;36mprint_figure\u001b[1;34m(self, filename, dpi, facecolor, edgecolor, orientation, format, bbox_inches, pad_inches, bbox_extra_artists, backend, **kwargs)\u001b[0m\n\u001b[0;32m   2321\u001b[0m             \u001b[1;32mfinally\u001b[0m\u001b[1;33m:\u001b[0m\u001b[1;33m\u001b[0m\u001b[1;33m\u001b[0m\u001b[0m\n\u001b[0;32m   2322\u001b[0m                 \u001b[1;32mif\u001b[0m \u001b[0mbbox_inches\u001b[0m \u001b[1;32mand\u001b[0m \u001b[0mrestore_bbox\u001b[0m\u001b[1;33m:\u001b[0m\u001b[1;33m\u001b[0m\u001b[1;33m\u001b[0m\u001b[0m\n\u001b[1;32m-> 2323\u001b[1;33m                     \u001b[0mrestore_bbox\u001b[0m\u001b[1;33m(\u001b[0m\u001b[1;33m)\u001b[0m\u001b[1;33m\u001b[0m\u001b[1;33m\u001b[0m\u001b[0m\n\u001b[0m\u001b[0;32m   2324\u001b[0m \u001b[1;33m\u001b[0m\u001b[0m\n\u001b[0;32m   2325\u001b[0m                 \u001b[0mself\u001b[0m\u001b[1;33m.\u001b[0m\u001b[0mfigure\u001b[0m\u001b[1;33m.\u001b[0m\u001b[0mset_canvas\u001b[0m\u001b[1;33m(\u001b[0m\u001b[0mself\u001b[0m\u001b[1;33m)\u001b[0m\u001b[1;33m\u001b[0m\u001b[1;33m\u001b[0m\u001b[0m\n",
      "\u001b[1;32m~\\AppData\\Local\\Programs\\Python\\Python38\\lib\\site-packages\\matplotlib\\tight_bbox.py\u001b[0m in \u001b[0;36mrestore_bbox\u001b[1;34m()\u001b[0m\n\u001b[0;32m     50\u001b[0m         \u001b[0mfig\u001b[0m\u001b[1;33m.\u001b[0m\u001b[0mset_tight_layout\u001b[0m\u001b[1;33m(\u001b[0m\u001b[0morig_tight_layout\u001b[0m\u001b[1;33m)\u001b[0m\u001b[1;33m\u001b[0m\u001b[1;33m\u001b[0m\u001b[0m\n\u001b[0;32m     51\u001b[0m         \u001b[0mfig\u001b[0m\u001b[1;33m.\u001b[0m\u001b[0mtransFigure\u001b[0m\u001b[1;33m.\u001b[0m\u001b[0m_boxout\u001b[0m \u001b[1;33m=\u001b[0m \u001b[0m_boxout\u001b[0m\u001b[1;33m\u001b[0m\u001b[1;33m\u001b[0m\u001b[0m\n\u001b[1;32m---> 52\u001b[1;33m         \u001b[0mfig\u001b[0m\u001b[1;33m.\u001b[0m\u001b[0mtransFigure\u001b[0m\u001b[1;33m.\u001b[0m\u001b[0minvalidate\u001b[0m\u001b[1;33m(\u001b[0m\u001b[1;33m)\u001b[0m\u001b[1;33m\u001b[0m\u001b[1;33m\u001b[0m\u001b[0m\n\u001b[0m\u001b[0;32m     53\u001b[0m         \u001b[0mfig\u001b[0m\u001b[1;33m.\u001b[0m\u001b[0mpatch\u001b[0m\u001b[1;33m.\u001b[0m\u001b[0mset_bounds\u001b[0m\u001b[1;33m(\u001b[0m\u001b[1;36m0\u001b[0m\u001b[1;33m,\u001b[0m \u001b[1;36m0\u001b[0m\u001b[1;33m,\u001b[0m \u001b[1;36m1\u001b[0m\u001b[1;33m,\u001b[0m \u001b[1;36m1\u001b[0m\u001b[1;33m)\u001b[0m\u001b[1;33m\u001b[0m\u001b[1;33m\u001b[0m\u001b[0m\n\u001b[0;32m     54\u001b[0m \u001b[1;33m\u001b[0m\u001b[0m\n",
      "\u001b[1;32m~\\AppData\\Local\\Programs\\Python\\Python38\\lib\\site-packages\\matplotlib\\transforms.py\u001b[0m in \u001b[0;36minvalidate\u001b[1;34m(self)\u001b[0m\n\u001b[0;32m    176\u001b[0m         \u001b[1;32mif\u001b[0m \u001b[0mself\u001b[0m\u001b[1;33m.\u001b[0m\u001b[0mis_affine\u001b[0m\u001b[1;33m:\u001b[0m\u001b[1;33m\u001b[0m\u001b[1;33m\u001b[0m\u001b[0m\n\u001b[0;32m    177\u001b[0m             \u001b[0mvalue\u001b[0m \u001b[1;33m=\u001b[0m \u001b[0mself\u001b[0m\u001b[1;33m.\u001b[0m\u001b[0mINVALID_AFFINE\u001b[0m\u001b[1;33m\u001b[0m\u001b[1;33m\u001b[0m\u001b[0m\n\u001b[1;32m--> 178\u001b[1;33m         \u001b[1;32mreturn\u001b[0m \u001b[0mself\u001b[0m\u001b[1;33m.\u001b[0m\u001b[0m_invalidate_internal\u001b[0m\u001b[1;33m(\u001b[0m\u001b[0mvalue\u001b[0m\u001b[1;33m,\u001b[0m \u001b[0minvalidating_node\u001b[0m\u001b[1;33m=\u001b[0m\u001b[0mself\u001b[0m\u001b[1;33m)\u001b[0m\u001b[1;33m\u001b[0m\u001b[1;33m\u001b[0m\u001b[0m\n\u001b[0m\u001b[0;32m    179\u001b[0m \u001b[1;33m\u001b[0m\u001b[0m\n\u001b[0;32m    180\u001b[0m     \u001b[1;32mdef\u001b[0m \u001b[0m_invalidate_internal\u001b[0m\u001b[1;33m(\u001b[0m\u001b[0mself\u001b[0m\u001b[1;33m,\u001b[0m \u001b[0mvalue\u001b[0m\u001b[1;33m,\u001b[0m \u001b[0minvalidating_node\u001b[0m\u001b[1;33m)\u001b[0m\u001b[1;33m:\u001b[0m\u001b[1;33m\u001b[0m\u001b[1;33m\u001b[0m\u001b[0m\n",
      "\u001b[1;32m~\\AppData\\Local\\Programs\\Python\\Python38\\lib\\site-packages\\matplotlib\\transforms.py\u001b[0m in \u001b[0;36m_invalidate_internal\u001b[1;34m(self, value, invalidating_node)\u001b[0m\n\u001b[0;32m    202\u001b[0m                 \u001b[0mparent\u001b[0m \u001b[1;33m=\u001b[0m \u001b[0mparent\u001b[0m\u001b[1;33m(\u001b[0m\u001b[1;33m)\u001b[0m\u001b[1;33m\u001b[0m\u001b[1;33m\u001b[0m\u001b[0m\n\u001b[0;32m    203\u001b[0m                 \u001b[1;32mif\u001b[0m \u001b[0mparent\u001b[0m \u001b[1;32mis\u001b[0m \u001b[1;32mnot\u001b[0m \u001b[1;32mNone\u001b[0m\u001b[1;33m:\u001b[0m\u001b[1;33m\u001b[0m\u001b[1;33m\u001b[0m\u001b[0m\n\u001b[1;32m--> 204\u001b[1;33m                     parent._invalidate_internal(\n\u001b[0m\u001b[0;32m    205\u001b[0m                         value=value, invalidating_node=self)\n\u001b[0;32m    206\u001b[0m \u001b[1;33m\u001b[0m\u001b[0m\n",
      "\u001b[1;32m~\\AppData\\Local\\Programs\\Python\\Python38\\lib\\site-packages\\matplotlib\\transforms.py\u001b[0m in \u001b[0;36m_invalidate_internal\u001b[1;34m(self, value, invalidating_node)\u001b[0m\n\u001b[0;32m    202\u001b[0m                 \u001b[0mparent\u001b[0m \u001b[1;33m=\u001b[0m \u001b[0mparent\u001b[0m\u001b[1;33m(\u001b[0m\u001b[1;33m)\u001b[0m\u001b[1;33m\u001b[0m\u001b[1;33m\u001b[0m\u001b[0m\n\u001b[0;32m    203\u001b[0m                 \u001b[1;32mif\u001b[0m \u001b[0mparent\u001b[0m \u001b[1;32mis\u001b[0m \u001b[1;32mnot\u001b[0m \u001b[1;32mNone\u001b[0m\u001b[1;33m:\u001b[0m\u001b[1;33m\u001b[0m\u001b[1;33m\u001b[0m\u001b[0m\n\u001b[1;32m--> 204\u001b[1;33m                     parent._invalidate_internal(\n\u001b[0m\u001b[0;32m    205\u001b[0m                         value=value, invalidating_node=self)\n\u001b[0;32m    206\u001b[0m \u001b[1;33m\u001b[0m\u001b[0m\n",
      "\u001b[1;32m~\\AppData\\Local\\Programs\\Python\\Python38\\lib\\site-packages\\matplotlib\\transforms.py\u001b[0m in \u001b[0;36m_invalidate_internal\u001b[1;34m(self, value, invalidating_node)\u001b[0m\n\u001b[0;32m    202\u001b[0m                 \u001b[0mparent\u001b[0m \u001b[1;33m=\u001b[0m \u001b[0mparent\u001b[0m\u001b[1;33m(\u001b[0m\u001b[1;33m)\u001b[0m\u001b[1;33m\u001b[0m\u001b[1;33m\u001b[0m\u001b[0m\n\u001b[0;32m    203\u001b[0m                 \u001b[1;32mif\u001b[0m \u001b[0mparent\u001b[0m \u001b[1;32mis\u001b[0m \u001b[1;32mnot\u001b[0m \u001b[1;32mNone\u001b[0m\u001b[1;33m:\u001b[0m\u001b[1;33m\u001b[0m\u001b[1;33m\u001b[0m\u001b[0m\n\u001b[1;32m--> 204\u001b[1;33m                     parent._invalidate_internal(\n\u001b[0m\u001b[0;32m    205\u001b[0m                         value=value, invalidating_node=self)\n\u001b[0;32m    206\u001b[0m \u001b[1;33m\u001b[0m\u001b[0m\n",
      "\u001b[1;32m~\\AppData\\Local\\Programs\\Python\\Python38\\lib\\site-packages\\matplotlib\\transforms.py\u001b[0m in \u001b[0;36m_invalidate_internal\u001b[1;34m(self, value, invalidating_node)\u001b[0m\n\u001b[0;32m   2390\u001b[0m             \u001b[0mvalue\u001b[0m \u001b[1;33m=\u001b[0m \u001b[0mTransform\u001b[0m\u001b[1;33m.\u001b[0m\u001b[0mINVALID\u001b[0m\u001b[1;33m\u001b[0m\u001b[1;33m\u001b[0m\u001b[0m\n\u001b[0;32m   2391\u001b[0m \u001b[1;33m\u001b[0m\u001b[0m\n\u001b[1;32m-> 2392\u001b[1;33m         super()._invalidate_internal(value=value,\n\u001b[0m\u001b[0;32m   2393\u001b[0m                                      invalidating_node=invalidating_node)\n\u001b[0;32m   2394\u001b[0m \u001b[1;33m\u001b[0m\u001b[0m\n",
      "\u001b[1;32m~\\AppData\\Local\\Programs\\Python\\Python38\\lib\\site-packages\\matplotlib\\transforms.py\u001b[0m in \u001b[0;36m_invalidate_internal\u001b[1;34m(self, value, invalidating_node)\u001b[0m\n\u001b[0;32m    202\u001b[0m                 \u001b[0mparent\u001b[0m \u001b[1;33m=\u001b[0m \u001b[0mparent\u001b[0m\u001b[1;33m(\u001b[0m\u001b[1;33m)\u001b[0m\u001b[1;33m\u001b[0m\u001b[1;33m\u001b[0m\u001b[0m\n\u001b[0;32m    203\u001b[0m                 \u001b[1;32mif\u001b[0m \u001b[0mparent\u001b[0m \u001b[1;32mis\u001b[0m \u001b[1;32mnot\u001b[0m \u001b[1;32mNone\u001b[0m\u001b[1;33m:\u001b[0m\u001b[1;33m\u001b[0m\u001b[1;33m\u001b[0m\u001b[0m\n\u001b[1;32m--> 204\u001b[1;33m                     parent._invalidate_internal(\n\u001b[0m\u001b[0;32m    205\u001b[0m                         value=value, invalidating_node=self)\n\u001b[0;32m    206\u001b[0m \u001b[1;33m\u001b[0m\u001b[0m\n",
      "\u001b[1;31mKeyboardInterrupt\u001b[0m: "
     ]
    }
   ],
   "source": [
    "sns.pairplot(df);"
   ]
  },
  {
   "cell_type": "code",
   "execution_count": 38,
   "metadata": {},
   "outputs": [
    {
     "data": {
      "image/png": "[encoded data removed]",
      "text/plain": [
       "<Figure size 432x288 with 1 Axes>"
      ]
     },
     "metadata": {
      "needs_background": "light"
     },
     "output_type": "display_data"
    }
   ],
   "source": [
    "sns.histplot(df[\"temperature\"]);"
   ]
  },
  {
   "cell_type": "code",
   "execution_count": 39,
   "metadata": {},
   "outputs": [
    {
     "data": {
      "text/plain": [
       "<AxesSubplot:xlabel='power'>"
      ]
     },
     "execution_count": 39,
     "metadata": {},
     "output_type": "execute_result"
    },
    {
     "data": {
      "image/png": "[encoded data removed]",
      "text/plain": [
       "<Figure size 432x288 with 1 Axes>"
      ]
     },
     "metadata": {
      "needs_background": "light"
     },
     "output_type": "display_data"
    }
   ],
   "source": [
    "sns.boxplot(df[\"power\"])"
   ]
  },
  {
   "cell_type": "code",
   "execution_count": 40,
   "metadata": {},
   "outputs": [
    {
     "data": {
      "image/png": "[encoded data removed]",
      "text/plain": [
       "<Figure size 432x288 with 1 Axes>"
      ]
     },
     "metadata": {
      "needs_background": "light"
     },
     "output_type": "display_data"
    }
   ],
   "source": [
    "sns.boxplot(df[\"temperature\"]);"
   ]
  },
  {
   "cell_type": "markdown",
   "metadata": {},
   "source": [
    "## 3.1. Duty cycle"
   ]
  },
  {
   "cell_type": "code",
   "execution_count": 41,
   "metadata": {},
   "outputs": [
    {
     "data": {
      "image/png": "[encoded data removed]",
      "text/plain": [
       "<Figure size 432x288 with 1 Axes>"
      ]
     },
     "metadata": {
      "needs_background": "light"
     },
     "output_type": "display_data"
    }
   ],
   "source": [
    "n,m = 1100, 1200\n",
    "plt.plot(df[\"Date\"][n:m],df[\"power\"][n:m])\n",
    "plt.xticks(rotation=45);"
   ]
  },
  {
   "cell_type": "markdown",
   "metadata": {},
   "source": [
    "In Refrigeration Unit 3, Duty cucle is approximately 66-70%"
   ]
  },
  {
   "cell_type": "markdown",
   "metadata": {},
   "source": [
    "## 3.2. Set temperature range (lower threshold and upper threshold)"
   ]
  },
  {
   "cell_type": "code",
   "execution_count": 42,
   "metadata": {},
   "outputs": [
    {
     "name": "stdout",
     "output_type": "stream",
     "text": [
      "mean of the dataset is 4.118912847222223\n",
      "std. deviation is 3.4014810714683055\n",
      "lower threshold for Temperature of Refrigeration unit is -6.086\n",
      "higher threshold for Temperature of Refrigeration unit is 14.323\n"
     ]
    }
   ],
   "source": [
    "l = df[\"temperature\"]\n",
    "mean = np.mean(l)\n",
    "std = np.std(l)\n",
    "print('mean of the dataset is', mean)\n",
    "print('std. deviation is', std)\n",
    "\n",
    "\n",
    "low = -3*std+mean\n",
    "high = 3*std+mean\n",
    "print(\"lower threshold for Temperature of Refrigeration unit is {:.3f}\".format(low))\n",
    "print(\"higher threshold for Temperature of Refrigeration unit is {:.3f}\".format(high))"
   ]
  },
  {
   "cell_type": "markdown",
   "metadata": {},
   "source": [
    "## 3.3. Average daily energy consumption"
   ]
  },
  {
   "cell_type": "code",
   "execution_count": 43,
   "metadata": {},
   "outputs": [
    {
     "name": "stdout",
     "output_type": "stream",
     "text": [
      "Total avg daily energy of Refrigeration unit 3 is 2271.878\n"
     ]
    },
    {
     "data": {
      "image/png": "[encoded data removed]",
      "text/plain": [
       "<Figure size 432x288 with 1 Axes>"
      ]
     },
     "metadata": {
      "needs_background": "light"
     },
     "output_type": "display_data"
    }
   ],
   "source": [
    "df.power.sum()\n",
    "dff =(df.groupby(\"Day\").sum()[[\"power\"]])\n",
    "dff.plot(kind = \"bar\");\n",
    "print(\"Total avg daily energy of Refrigeration unit 3 is {:.3f}\".format(dff.power.mean()))"
   ]
  },
  {
   "cell_type": "markdown",
   "metadata": {},
   "source": [
    "## 3.4. Percentage of temperature compliance"
   ]
  },
  {
   "cell_type": "code",
   "execution_count": 44,
   "metadata": {},
   "outputs": [
    {
     "name": "stdout",
     "output_type": "stream",
     "text": [
      "Percentage of temperature compliance : 73.125 %\n"
     ]
    }
   ],
   "source": [
    "outlier = []\n",
    "for i in df.temperature:\n",
    "    if (0<=i and i<=4):\n",
    "        outlier.append(i)\n",
    "print(\"Percentage of temperature compliance : {:.3f} %\".format(len(outlier)/len(df.temperature)*100))\n"
   ]
  },
  {
   "cell_type": "markdown",
   "metadata": {},
   "source": [
    "------------------------------------------------------------------------------------------------"
   ]
  },
  {
   "cell_type": "markdown",
   "metadata": {},
   "source": [
    "## 4. Refrigeration Unit - 4"
   ]
  },
  {
   "cell_type": "code",
   "execution_count": 45,
   "metadata": {},
   "outputs": [
    {
     "data": {
      "text/html": [
       "<div>\n",
       "<style scoped>\n",
       "    .dataframe tbody tr th:only-of-type {\n",
       "        vertical-align: middle;\n",
       "    }\n",
       "\n",
       "    .dataframe tbody tr th {\n",
       "        vertical-align: top;\n",
       "    }\n",
       "\n",
       "    .dataframe thead th {\n",
       "        text-align: right;\n",
       "    }\n",
       "</style>\n",
       "<table border=\"1\" class=\"dataframe\">\n",
       "  <thead>\n",
       "    <tr style=\"text-align: right;\">\n",
       "      <th></th>\n",
       "      <th>power</th>\n",
       "      <th>temperature</th>\n",
       "      <th>Day</th>\n",
       "      <th>Date</th>\n",
       "    </tr>\n",
       "  </thead>\n",
       "  <tbody>\n",
       "    <tr>\n",
       "      <th>2</th>\n",
       "      <td>0.3080</td>\n",
       "      <td>3.340</td>\n",
       "      <td>1.0</td>\n",
       "      <td>2017-08-01 00:00:00</td>\n",
       "    </tr>\n",
       "    <tr>\n",
       "      <th>3</th>\n",
       "      <td>1.3380</td>\n",
       "      <td>3.435</td>\n",
       "      <td>1.0</td>\n",
       "      <td>2017-08-01 00:01:00</td>\n",
       "    </tr>\n",
       "    <tr>\n",
       "      <th>4</th>\n",
       "      <td>2.3695</td>\n",
       "      <td>2.715</td>\n",
       "      <td>1.0</td>\n",
       "      <td>2017-08-01 00:02:00</td>\n",
       "    </tr>\n",
       "    <tr>\n",
       "      <th>5</th>\n",
       "      <td>2.2265</td>\n",
       "      <td>2.125</td>\n",
       "      <td>1.0</td>\n",
       "      <td>2017-08-01 00:03:00</td>\n",
       "    </tr>\n",
       "    <tr>\n",
       "      <th>6</th>\n",
       "      <td>2.2310</td>\n",
       "      <td>1.745</td>\n",
       "      <td>1.0</td>\n",
       "      <td>2017-08-01 00:04:00</td>\n",
       "    </tr>\n",
       "  </tbody>\n",
       "</table>\n",
       "</div>"
      ],
      "text/plain": [
       "    power  temperature  Day                 Date\n",
       "2  0.3080        3.340  1.0  2017-08-01 00:00:00\n",
       "3  1.3380        3.435  1.0  2017-08-01 00:01:00\n",
       "4  2.3695        2.715  1.0  2017-08-01 00:02:00\n",
       "5  2.2265        2.125  1.0  2017-08-01 00:03:00\n",
       "6  2.2310        1.745  1.0  2017-08-01 00:04:00"
      ]
     },
     "execution_count": 45,
     "metadata": {},
     "output_type": "execute_result"
    }
   ],
   "source": [
    "df = data[[\"power_4\",\"temperature_4\",\"Day\",\"Date\"]]\n",
    "df.columns= [\"power\",\"temperature\",\"Day\",\"Date\"]\n",
    "df.head()"
   ]
  },
  {
   "cell_type": "code",
   "execution_count": 46,
   "metadata": {},
   "outputs": [
    {
     "data": {
      "text/html": [
       "<div>\n",
       "<style scoped>\n",
       "    .dataframe tbody tr th:only-of-type {\n",
       "        vertical-align: middle;\n",
       "    }\n",
       "\n",
       "    .dataframe tbody tr th {\n",
       "        vertical-align: top;\n",
       "    }\n",
       "\n",
       "    .dataframe thead th {\n",
       "        text-align: right;\n",
       "    }\n",
       "</style>\n",
       "<table border=\"1\" class=\"dataframe\">\n",
       "  <thead>\n",
       "    <tr style=\"text-align: right;\">\n",
       "      <th></th>\n",
       "      <th>power</th>\n",
       "      <th>temperature</th>\n",
       "      <th>Day</th>\n",
       "    </tr>\n",
       "  </thead>\n",
       "  <tbody>\n",
       "    <tr>\n",
       "      <th>count</th>\n",
       "      <td>13158.000000</td>\n",
       "      <td>14330.000000</td>\n",
       "      <td>14400.000000</td>\n",
       "    </tr>\n",
       "    <tr>\n",
       "      <th>mean</th>\n",
       "      <td>1.372093</td>\n",
       "      <td>2.944373</td>\n",
       "      <td>5.500000</td>\n",
       "    </tr>\n",
       "    <tr>\n",
       "      <th>std</th>\n",
       "      <td>0.992891</td>\n",
       "      <td>2.576478</td>\n",
       "      <td>2.872381</td>\n",
       "    </tr>\n",
       "    <tr>\n",
       "      <th>min</th>\n",
       "      <td>0.000000</td>\n",
       "      <td>0.185000</td>\n",
       "      <td>1.000000</td>\n",
       "    </tr>\n",
       "    <tr>\n",
       "      <th>25%</th>\n",
       "      <td>0.309500</td>\n",
       "      <td>1.620000</td>\n",
       "      <td>3.000000</td>\n",
       "    </tr>\n",
       "    <tr>\n",
       "      <th>50%</th>\n",
       "      <td>1.355000</td>\n",
       "      <td>2.435000</td>\n",
       "      <td>5.500000</td>\n",
       "    </tr>\n",
       "    <tr>\n",
       "      <th>75%</th>\n",
       "      <td>2.363000</td>\n",
       "      <td>3.340000</td>\n",
       "      <td>8.000000</td>\n",
       "    </tr>\n",
       "    <tr>\n",
       "      <th>max</th>\n",
       "      <td>6.060000</td>\n",
       "      <td>101.655000</td>\n",
       "      <td>10.000000</td>\n",
       "    </tr>\n",
       "  </tbody>\n",
       "</table>\n",
       "</div>"
      ],
      "text/plain": [
       "              power   temperature           Day\n",
       "count  13158.000000  14330.000000  14400.000000\n",
       "mean       1.372093      2.944373      5.500000\n",
       "std        0.992891      2.576478      2.872381\n",
       "min        0.000000      0.185000      1.000000\n",
       "25%        0.309500      1.620000      3.000000\n",
       "50%        1.355000      2.435000      5.500000\n",
       "75%        2.363000      3.340000      8.000000\n",
       "max        6.060000    101.655000     10.000000"
      ]
     },
     "execution_count": 46,
     "metadata": {},
     "output_type": "execute_result"
    }
   ],
   "source": [
    "df.describe()"
   ]
  },
  {
   "cell_type": "code",
   "execution_count": 47,
   "metadata": {},
   "outputs": [
    {
     "data": {
      "text/plain": [
       "power          1242\n",
       "temperature      70\n",
       "Day               0\n",
       "Date              0\n",
       "dtype: int64"
      ]
     },
     "execution_count": 47,
     "metadata": {},
     "output_type": "execute_result"
    }
   ],
   "source": [
    "df.isna().sum()"
   ]
  },
  {
   "cell_type": "markdown",
   "metadata": {},
   "source": [
    "In Refrigeration unit, there are missing value in power feature provided to us."
   ]
  },
  {
   "cell_type": "code",
   "execution_count": 48,
   "metadata": {},
   "outputs": [
    {
     "data": {
      "image/png": "[encoded data removed]",
      "text/plain": [
       "<Figure size 540x540 with 12 Axes>"
      ]
     },
     "metadata": {
      "needs_background": "light"
     },
     "output_type": "display_data"
    }
   ],
   "source": [
    "sns.pairplot(df);"
   ]
  },
  {
   "cell_type": "code",
   "execution_count": 49,
   "metadata": {},
   "outputs": [
    {
     "data": {
      "image/png": "[encoded data removed]",
      "text/plain": [
       "<Figure size 432x288 with 1 Axes>"
      ]
     },
     "metadata": {
      "needs_background": "light"
     },
     "output_type": "display_data"
    }
   ],
   "source": [
    "sns.histplot(df[\"temperature\"]);"
   ]
  },
  {
   "cell_type": "code",
   "execution_count": 50,
   "metadata": {},
   "outputs": [
    {
     "data": {
      "image/png": "[encoded data removed]",
      "text/plain": [
       "<Figure size 432x288 with 1 Axes>"
      ]
     },
     "metadata": {
      "needs_background": "light"
     },
     "output_type": "display_data"
    }
   ],
   "source": [
    "sns.boxplot(df[\"power\"]);"
   ]
  },
  {
   "cell_type": "code",
   "execution_count": 51,
   "metadata": {},
   "outputs": [
    {
     "data": {
      "image/png": "[encoded data removed]",
      "text/plain": [
       "<Figure size 432x288 with 1 Axes>"
      ]
     },
     "metadata": {
      "needs_background": "light"
     },
     "output_type": "display_data"
    }
   ],
   "source": [
    "sns.boxplot(df[\"temperature\"]);"
   ]
  },
  {
   "cell_type": "markdown",
   "metadata": {},
   "source": [
    "## 4.1. Duty cycle"
   ]
  },
  {
   "cell_type": "code",
   "execution_count": 52,
   "metadata": {},
   "outputs": [
    {
     "data": {
      "image/png": "[encoded data removed]",
      "text/plain": [
       "<Figure size 432x288 with 1 Axes>"
      ]
     },
     "metadata": {
      "needs_background": "light"
     },
     "output_type": "display_data"
    }
   ],
   "source": [
    "m,n =2200,2400\n",
    "plt.plot(df[\"Date\"][m:n],df[\"power\"][m:n])\n",
    "plt.xticks(rotation=45);"
   ]
  },
  {
   "cell_type": "markdown",
   "metadata": {},
   "source": [
    "In Refrigeration Unit 4, Duty cucle is approximately 50-60%"
   ]
  },
  {
   "cell_type": "markdown",
   "metadata": {},
   "source": [
    "## 4.2. Set temperature range (lower threshold and upper threshold)"
   ]
  },
  {
   "cell_type": "code",
   "execution_count": 53,
   "metadata": {},
   "outputs": [
    {
     "name": "stdout",
     "output_type": "stream",
     "text": [
      "mean of the dataset is 2.9443734589439403\n",
      "std. deviation is 2.576388321308895\n",
      "lower threshold for Temperature of Refrigeration unit is -4.785\n",
      "higher threshold for Temperature of Refrigeration unit is 10.674\n"
     ]
    }
   ],
   "source": [
    "l = df[\"temperature\"]\n",
    "mean = np.mean(l)\n",
    "std = np.std(l)\n",
    "print('mean of the dataset is', mean)\n",
    "print('std. deviation is', std)\n",
    "\n",
    "\n",
    "low = -3*std+mean\n",
    "high = 3*std+mean\n",
    "print(\"lower threshold for Temperature of Refrigeration unit is {:.3f}\".format(low))\n",
    "print(\"higher threshold for Temperature of Refrigeration unit is {:.3f}\".format(high))"
   ]
  },
  {
   "cell_type": "markdown",
   "metadata": {},
   "source": [
    "## 4.3. Average daily energy consumption"
   ]
  },
  {
   "cell_type": "code",
   "execution_count": 54,
   "metadata": {},
   "outputs": [
    {
     "name": "stdout",
     "output_type": "stream",
     "text": [
      "Total avg daily energy of Refrigeration unit is 1805.400\n"
     ]
    },
    {
     "data": {
      "image/png": "[encoded data removed]",
      "text/plain": [
       "<Figure size 432x288 with 1 Axes>"
      ]
     },
     "metadata": {
      "needs_background": "light"
     },
     "output_type": "display_data"
    }
   ],
   "source": [
    "df.power.sum()\n",
    "dff =(df.groupby(\"Day\").sum()[[\"power\"]])\n",
    "dff.plot(kind = \"bar\");\n",
    "print(\"Total avg daily energy of Refrigeration unit is {:.3f}\".format(dff.power.mean()))"
   ]
  },
  {
   "cell_type": "markdown",
   "metadata": {},
   "source": [
    "## 4.4. Percentage of temperature compliance"
   ]
  },
  {
   "cell_type": "code",
   "execution_count": 55,
   "metadata": {},
   "outputs": [
    {
     "name": "stdout",
     "output_type": "stream",
     "text": [
      "Percentage of temperature compliance : 89.201 %\n"
     ]
    }
   ],
   "source": [
    "outlier = []\n",
    "for i in df.temperature:\n",
    "    if (0<=i and i<=4):\n",
    "        outlier.append(i)\n",
    "print(\"Percentage of temperature compliance : {:.3f} %\".format(len(outlier)/len(df.temperature)*100))\n"
   ]
  },
  {
   "cell_type": "markdown",
   "metadata": {},
   "source": [
    "## Conclusion:\n",
    "I have successfully calculated all the parameter listed in assignment."
   ]
  }
 ],
 "metadata": {
  "kernelspec": {
   "display_name": "Python 3 (ipykernel)",
   "language": "python",
   "name": "python3"
  },
  "language_info": {
   "codemirror_mode": {
    "name": "ipython",
    "version": 3
   },
   "file_extension": ".py",
   "mimetype": "text/x-python",
   "name": "python",
   "nbconvert_exporter": "python",
   "pygments_lexer": "ipython3",
   "version": "3.8.6"
  }
 },
 "nbformat": 4,
 "nbformat_minor": 4
}
