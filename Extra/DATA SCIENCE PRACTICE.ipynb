{
 "cells": [
  {
   "cell_type": "markdown",
   "metadata": {},
   "source": [
    "## press tab key after Object. to see the function"
   ]
  },
  {
   "cell_type": "code",
   "execution_count": 1,
   "metadata": {},
   "outputs": [
    {
     "data": {
      "text/plain": [
       "3.75"
      ]
     },
     "execution_count": 1,
     "metadata": {},
     "output_type": "execute_result"
    }
   ],
   "source": [
    "import numpy as np\n",
    "b=[2,3,4,6]\n",
    "x=np.array(b)\n",
    "x.mean()           \n",
    "# press tab key after Object. to see the function"
   ]
  },
  {
   "cell_type": "code",
   "execution_count": 2,
   "metadata": {},
   "outputs": [
    {
     "data": {
      "text/plain": [
       "[2, 3, 4, 45, 6]"
      ]
     },
     "execution_count": 2,
     "metadata": {},
     "output_type": "execute_result"
    }
   ],
   "source": [
    "b.insert(3,45)\n",
    "b"
   ]
  },
  {
   "cell_type": "markdown",
   "metadata": {},
   "source": [
    "### \"?\" command is used for watching doctype of function or datatype"
   ]
  },
  {
   "cell_type": "code",
   "execution_count": 3,
   "metadata": {},
   "outputs": [],
   "source": [
    "b?\n",
    "\n",
    "\n",
    "'''Type:        list\n",
    "String form: [2, 3, 4, 45, 6]\n",
    "Length:      5\n",
    "Docstring:  \n",
    "Built-in mutable sequence.\n",
    "\n",
    "If no argument is given, the constructor creates a new empty list.\n",
    "The argument must be an iterable if specified.'''"
   ]
  },
  {
   "cell_type": "code",
   "execution_count": 4,
   "metadata": {},
   "outputs": [],
   "source": [
    "x?\n",
    "\n",
    "'''Type:            ndarray\n",
    "String form:     [2 3 4 6]\n",
    "Length:          4\n",
    "File:            c:\\users\\admin\\anaconda3\\lib\\site-packages\\numpy\\__init__.py\n",
    "Docstring:       <no docstring>\n",
    "Class docstring:\n",
    "ndarray(shape, dtype=float, buffer=None, offset=0,\n",
    "        strides=None, order=None)\n",
    "\n",
    "An array object represents a multidimensional, homogeneous array\n",
    "of fixed-size items.  An associated data-type object describes the\n",
    "format of each element in the array (its byte-order, how many bytes it\n",
    "occupies in memory, whether it is an integer, a floating point number,\n",
    "or something else, etc.)\n",
    "\n",
    "Arrays should be constructed using `array`, `zeros` or `empty` (refer\n",
    "to the See Also section below).  The parameters given here refer to\n",
    "a low-level method (`ndarray(...)`) for instantiating an array.\n",
    "\n",
    "For more information, refer to the `numpy` module and examine the\n",
    "methods and attributes of an array.\n",
    "\n",
    "Parameters\n",
    "----------\n",
    "(for the __new__ method; see Notes below)\n",
    "\n",
    "shape : tuple of ints\n",
    "    Shape of created array.\n",
    "dtype : data-type, optional\n",
    "    Any object that can be interpreted as a numpy data type.\n",
    "buffer : object exposing buffer interface, optional\n",
    "    Used to fill the array with data.\n",
    "offset : int, optional\n",
    "    Offset of array data in buffer.\n",
    "strides : tuple of ints, optional\n",
    "    Strides of data in memory.\n",
    "order : {'C', 'F'}, optional\n",
    "    Row-major (C-style) or column-major (Fortran-style) order.\n",
    "\n",
    "Attributes\n",
    "----------\n",
    "T : ndarray\n",
    "    Transpose of the array.\n",
    "data : buffer\n",
    "    The array's elements, in memory.\n",
    "dtype : dtype object\n",
    "    Describes the format of the elements in the array.\n",
    "flags : dict\n",
    "    Dictionary containing information related to memory use, e.g.,\n",
    "    'C_CONTIGUOUS', 'OWNDATA', 'WRITEABLE', etc.\n",
    "flat : numpy.flatiter object\n",
    "    Flattened version of the array as an iterator.  The iterator\n",
    "    allows assignments, e.g., ``x.flat = 3`` (See `ndarray.flat` for\n",
    "    assignment examples; TODO).\n",
    "imag : ndarray\n",
    "    Imaginary part of the array.\n",
    "real : ndarray\n",
    "    Real part of the array.\n",
    "size : int\n",
    "    Number of elements in the array.\n",
    "itemsize : int\n",
    "    The memory use of each array element in bytes.\n",
    "nbytes : int\n",
    "    The total number of bytes required to store the array data,\n",
    "    i.e., ``itemsize * size``.\n",
    "ndim : int\n",
    "    The array's number of dimensions.\n",
    "shape : tuple of ints\n",
    "    Shape of the array.\n",
    "strides : tuple of ints\n",
    "    The step-size required to move from one element to the next in\n",
    "    memory. For example, a contiguous ``(3, 4)`` array of type\n",
    "    ``int16`` in C-order has strides ``(8, 2)``.  This implies that\n",
    "    to move from element to element in memory requires jumps of 2 bytes.\n",
    "    To move from row-to-row, one needs to jump 8 bytes at a time\n",
    "    (``2 * 4``).\n",
    "ctypes : ctypes object\n",
    "    Class containing properties of the array needed for interaction\n",
    "    with ctypes.\n",
    "base : ndarray\n",
    "    If the array is a view into another array, that array is its `base`\n",
    "    (unless that array is also a view).  The `base` array is where the\n",
    "    array data is actually stored.\n",
    "\n",
    "See Also\n",
    "--------\n",
    "array : Construct an array.\n",
    "zeros : Create an array, each element of which is zero.\n",
    "empty : Create an array, but leave its allocated memory unchanged (i.e.,\n",
    "        it contains \"garbage\").\n",
    "dtype : Create a data-type.\n",
    "\n",
    "Notes\n",
    "-----\n",
    "There are two modes of creating an array using ``__new__``:\n",
    "\n",
    "1. If `buffer` is None, then only `shape`, `dtype`, and `order`\n",
    "   are used.\n",
    "2. If `buffer` is an object exposing the buffer interface, then\n",
    "   all keywords are interpreted.\n",
    "\n",
    "No ``__init__`` method is needed because the array is fully initialized\n",
    "after the ``__new__`` method.\n",
    "\n",
    "Examples\n",
    "--------\n",
    "These examples illustrate the low-level `ndarray` constructor.  Refer\n",
    "to the `See Also` section above for easier ways of constructing an\n",
    "ndarray.\n",
    "\n",
    "First mode, `buffer` is None:\n",
    "\n",
    ">>> np.ndarray(shape=(2,2), dtype=float, order='F')\n",
    "array([[0.0e+000, 0.0e+000], # random\n",
    "       [     nan, 2.5e-323]])\n",
    "\n",
    "Second mode:\n",
    "\n",
    ">>> np.ndarray((2,), buffer=np.array([1,2,3]),\n",
    "...            offset=np.int_().itemsize,\n",
    "...            dtype=int) # offset = 1*itemsize, i.e. skip first element\n",
    "array([2, 3])'''"
   ]
  },
  {
   "cell_type": "code",
   "execution_count": 5,
   "metadata": {},
   "outputs": [],
   "source": [
    "def add_numbers(a, b):\n",
    "    '''\n",
    "    Add two numbers together\n",
    "    Returns\n",
    "    -------\n",
    "    the_sum : type of arguments\n",
    "    '''\n",
    "    return a + b"
   ]
  },
  {
   "cell_type": "code",
   "execution_count": 6,
   "metadata": {},
   "outputs": [],
   "source": [
    "#Then using ? shows us the docstring:\n",
    "add_numbers?\n",
    "\n",
    "'''Signature: add_numbers(a, b)\n",
    "Docstring:\n",
    "Add two numbers together\n",
    "Returns\n",
    "-------\n",
    "the_sum : type of arguments\n",
    "File:      c:\\users\\admin\\machine learning\\<ipython-input-8-08125e5f01dd>\n",
    "Type:      function'''"
   ]
  },
  {
   "cell_type": "code",
   "execution_count": 7,
   "metadata": {},
   "outputs": [],
   "source": [
    "#Using ?? will also show the function’s source code if possible:\n",
    "add_numbers??\n",
    "\n",
    "'''Signature: add_numbers(a, b)\n",
    "Source:   \n",
    "def add_numbers(a, b):\n",
    "    ''\n",
    "    Add two numbers together\n",
    "    Returns\n",
    "    -------\n",
    "    the_sum : type of arguments\n",
    "    ''\n",
    "    return a + b\n",
    "File:      c:\\users\\admin\\machine learning\\<ipython-input-8-08125e5f01dd>\n",
    "Type:      function'''"
   ]
  },
  {
   "cell_type": "code",
   "execution_count": 8,
   "metadata": {},
   "outputs": [],
   "source": [
    "np.*load*?\n",
    "\n",
    "'''\n",
    "np.__loader__\n",
    "np.load\n",
    "np.loads\n",
    "np.loadtxt\n",
    "\n",
    "'''"
   ]
  },
  {
   "cell_type": "code",
   "execution_count": 9,
   "metadata": {},
   "outputs": [],
   "source": [
    "np?\n",
    "\n",
    "'''Type:        module\n",
    "String form: <module 'numpy' from 'C:\\\\Users\\\\Admin\\\\anaconda3\\\\lib\\\\site-packages\\\\numpy\\\\__init__.py'>\n",
    "File:        c:\\users\\admin\\anaconda3\\lib\\site-packages\\numpy\\__init__.py\n",
    "Docstring:  \n",
    "NumPy\n",
    "=====\n",
    "\n",
    "Provides\n",
    "  1. An array object of arbitrary homogeneous items\n",
    "  2. Fast mathematical operations over arrays\n",
    "  3. Linear Algebra, Fourier Transforms, Random Number Generation\n",
    "\n",
    "How to use the documentation\n",
    "----------------------------\n",
    "Documentation is available in two forms: docstrings provided\n",
    "with the code, and a loose standing reference guide, available from\n",
    "`the NumPy homepage <https://www.scipy.org>`_.\n",
    "\n",
    "We recommend exploring the docstrings using\n",
    "`IPython <https://ipython.org>`_, an advanced Python shell with\n",
    "TAB-completion and introspection capabilities.  See below for further\n",
    "instructions.\n",
    "\n",
    "The docstring examples assume that `numpy` has been imported as `np`::\n",
    "\n",
    "  >>> import numpy as np\n",
    "\n",
    "Code snippets are indicated by three greater-than signs::\n",
    "\n",
    "  >>> x = 42\n",
    "  >>> x = x + 1\n",
    "\n",
    "Use the built-in ``help`` function to view a function's docstring::\n",
    "\n",
    "  >>> help(np.sort)\n",
    "  ... # doctest: +SKIP\n",
    "\n",
    "For some objects, ``np.info(obj)`` may provide additional help.  This is\n",
    "particularly true if you see the line \"Help on ufunc object:\" at the top\n",
    "of the help() page.  Ufuncs are implemented in C, not Python, for speed.\n",
    "The native Python help() does not know how to view their help, but our\n",
    "np.info() function does.\n",
    "\n",
    "To search for documents containing a keyword, do::\n",
    "\n",
    "  >>> np.lookfor('keyword')\n",
    "  ... # doctest: +SKIP\n",
    "\n",
    "General-purpose documents like a glossary and help on the basic concepts\n",
    "of numpy are available under the ``doc`` sub-module::\n",
    "\n",
    "  >>> from numpy import doc\n",
    "  >>> help(doc)\n",
    "  ... # doctest: +SKIP\n",
    "\n",
    "Available subpackages\n",
    "---------------------\n",
    "doc\n",
    "    Topical documentation on broadcasting, indexing, etc.\n",
    "lib\n",
    "    Basic functions used by several sub-packages.\n",
    "random\n",
    "    Core Random Tools\n",
    "linalg\n",
    "    Core Linear Algebra Tools\n",
    "fft\n",
    "    Core FFT routines\n",
    "polynomial\n",
    "    Polynomial tools\n",
    "testing\n",
    "    NumPy testing tools\n",
    "f2py\n",
    "    Fortran to Python Interface Generator.\n",
    "distutils\n",
    "    Enhancements to distutils with support for\n",
    "    Fortran compilers support and more.\n",
    "\n",
    "Utilities\n",
    "---------\n",
    "test\n",
    "    Run numpy unittests\n",
    "show_config\n",
    "    Show numpy build configuration\n",
    "dual\n",
    "    Overwrite certain functions with high-performance Scipy tools\n",
    "matlib\n",
    "    Make everything matrices.\n",
    "__version__\n",
    "    NumPy version string\n",
    "\n",
    "Viewing documentation using IPython\n",
    "-----------------------------------\n",
    "Start IPython with the NumPy profile (``ipython -p numpy``), which will\n",
    "import `numpy` under the alias `np`.  Then, use the ``cpaste`` command to\n",
    "paste examples into the shell.  To see which functions are available in\n",
    "`numpy`, type ``np.<TAB>`` (where ``<TAB>`` refers to the TAB key), or use\n",
    "``np.*cos*?<ENTER>`` (where ``<ENTER>`` refers to the ENTER key) to narrow\n",
    "down the list.  To view the docstring for a function, use\n",
    "``np.cos?<ENTER>`` (to view the docstring) and ``np.cos??<ENTER>`` (to view\n",
    "the source code).\n",
    "\n",
    "Copies vs. in-place operation\n",
    "-----------------------------\n",
    "Most of the functions in `numpy` return a copy of the array argument\n",
    "(e.g., `np.sort`).  In-place versions of these functions are often\n",
    "available as array methods, i.e. ``x = np.array([1,2,3]); x.sort()``.\n",
    "Exceptions to this rule are documented.'''"
   ]
  },
  {
   "cell_type": "code",
   "execution_count": 10,
   "metadata": {},
   "outputs": [],
   "source": [
    "list?\n",
    "\n",
    "'''Init signature: list(iterable=(), /)\n",
    "Docstring:     \n",
    "Built-in mutable sequence.\n",
    "\n",
    "If no argument is given, the constructor creates a new empty list.\n",
    "The argument must be an iterable if specified.\n",
    "Type:           type\n",
    "Subclasses:     _HashedSeq, StackSummary, DeferredConfigList, SList, _ImmutableLineList, FormattedText, NodeList, _ExplodedList, Stack, _Accumulator, ...'''"
   ]
  },
  {
   "cell_type": "code",
   "execution_count": 11,
   "metadata": {},
   "outputs": [],
   "source": [
    "%quickref"
   ]
  },
  {
   "cell_type": "code",
   "execution_count": 12,
   "metadata": {},
   "outputs": [
    {
     "name": "stdout",
     "output_type": "stream",
     "text": [
      "[3, 5, 3, 7, 8]\n",
      "[3, 5, 3, 7, 8, 6]\n"
     ]
    }
   ],
   "source": [
    "a=[3,5,3,7,8]\n",
    "b=a\n",
    "print(a)\n",
    "a.append(6)\n",
    "print(b)"
   ]
  },
  {
   "cell_type": "code",
   "execution_count": 13,
   "metadata": {},
   "outputs": [],
   "source": [
    "#STRING OPERATION\n",
    "#press s.<tab> to see string function "
   ]
  },
  {
   "cell_type": "code",
   "execution_count": 14,
   "metadata": {},
   "outputs": [
    {
     "data": {
      "text/plain": [
       "'Vaibhav_Bichave'"
      ]
     },
     "execution_count": 14,
     "metadata": {},
     "output_type": "execute_result"
    }
   ],
   "source": [
    "s=\"Vaibhav_Bichave\"\n",
    "s.title()"
   ]
  },
  {
   "cell_type": "code",
   "execution_count": 15,
   "metadata": {},
   "outputs": [
    {
     "name": "stdout",
     "output_type": "stream",
     "text": [
      "1 2\n",
      "[3, 4, 5]\n"
     ]
    }
   ],
   "source": [
    "values = 1, 2, 3, 4, 5\n",
    "a, b, *rest = values\n",
    "print(a,b)\n",
    "print(rest)"
   ]
  },
  {
   "cell_type": "code",
   "execution_count": 16,
   "metadata": {},
   "outputs": [],
   "source": [
    "import bisect"
   ]
  },
  {
   "cell_type": "code",
   "execution_count": 17,
   "metadata": {},
   "outputs": [
    {
     "data": {
      "text/plain": [
       "4"
      ]
     },
     "execution_count": 17,
     "metadata": {},
     "output_type": "execute_result"
    }
   ],
   "source": [
    "c = [1, 2, 2, 2, 3, 4, 7]\n",
    "bisect.bisect(c, 2)"
   ]
  },
  {
   "cell_type": "code",
   "execution_count": 18,
   "metadata": {},
   "outputs": [
    {
     "data": {
      "text/plain": [
       "[1, 2, 2, 2, 3, 4, 7]"
      ]
     },
     "execution_count": 18,
     "metadata": {},
     "output_type": "execute_result"
    }
   ],
   "source": [
    "c"
   ]
  },
  {
   "cell_type": "code",
   "execution_count": 19,
   "metadata": {},
   "outputs": [
    {
     "data": {
      "text/plain": [
       "[1, 2, 2, 2, 3, 4, 6, 7]"
      ]
     },
     "execution_count": 19,
     "metadata": {},
     "output_type": "execute_result"
    }
   ],
   "source": [
    "bisect.insort(c, 6)\n",
    "c"
   ]
  },
  {
   "cell_type": "code",
   "execution_count": 20,
   "metadata": {},
   "outputs": [
    {
     "data": {
      "text/plain": [
       "[('foo', 'one'), ('bar', 'two'), ('baz', 'three')]"
      ]
     },
     "execution_count": 20,
     "metadata": {},
     "output_type": "execute_result"
    }
   ],
   "source": [
    "seq1 = ['foo', 'bar', 'baz']\n",
    "seq2 = ['one', 'two', 'three']\n",
    "zipped = zip(seq1, seq2)\n",
    "list(zipped)"
   ]
  },
  {
   "cell_type": "code",
   "execution_count": 21,
   "metadata": {},
   "outputs": [
    {
     "data": {
      "text/plain": [
       "[('foo', 'one', False), ('bar', 'two', True)]"
      ]
     },
     "execution_count": 21,
     "metadata": {},
     "output_type": "execute_result"
    }
   ],
   "source": [
    "seq3 = [False, True]\n",
    "list(zip(seq1, seq2, seq3))"
   ]
  },
  {
   "cell_type": "code",
   "execution_count": 22,
   "metadata": {},
   "outputs": [
    {
     "name": "stdout",
     "output_type": "stream",
     "text": [
      "0: foo, one\n",
      "1: bar, two\n",
      "2: baz, three\n"
     ]
    }
   ],
   "source": [
    "for i, (a, b) in enumerate(zip(seq1, seq2)):\n",
    "    print('{0}: {1}, {2}'.format(i, a, b))"
   ]
  },
  {
   "cell_type": "code",
   "execution_count": 23,
   "metadata": {},
   "outputs": [],
   "source": [
    "import numpy as np\n",
    "my_arr = np.arange(1000000)\n",
    "my_list = list(range(1000000))"
   ]
  },
  {
   "cell_type": "code",
   "execution_count": 24,
   "metadata": {},
   "outputs": [
    {
     "name": "stdout",
     "output_type": "stream",
     "text": [
      "Wall time: 43 ms\n"
     ]
    }
   ],
   "source": [
    "%time for _ in range(10): my_arr2 = my_arr * 2"
   ]
  },
  {
   "cell_type": "code",
   "execution_count": 25,
   "metadata": {},
   "outputs": [
    {
     "name": "stdout",
     "output_type": "stream",
     "text": [
      "Wall time: 1.44 s\n"
     ]
    }
   ],
   "source": [
    "%time for _ in range(10): my_list2 = [x * 2 for x in my_list]"
   ]
  },
  {
   "cell_type": "code",
   "execution_count": null,
   "metadata": {},
   "outputs": [],
   "source": []
  }
 ],
 "metadata": {
  "kernelspec": {
   "display_name": "Python 3",
   "language": "python",
   "name": "python3"
  },
  "language_info": {
   "codemirror_mode": {
    "name": "ipython",
    "version": 3
   },
   "file_extension": ".py",
   "mimetype": "text/x-python",
   "name": "python",
   "nbconvert_exporter": "python",
   "pygments_lexer": "ipython3",
   "version": "3.8.5"
  }
 },
 "nbformat": 4,
 "nbformat_minor": 4
}
