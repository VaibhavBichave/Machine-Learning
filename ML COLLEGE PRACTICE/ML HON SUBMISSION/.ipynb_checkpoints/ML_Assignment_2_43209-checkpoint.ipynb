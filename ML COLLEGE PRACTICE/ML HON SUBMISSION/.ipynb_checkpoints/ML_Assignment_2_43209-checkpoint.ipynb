{
 "cells": [
  {
   "cell_type": "markdown",
   "metadata": {
    "id": "LPC1o88A5AeS"
   },
   "source": [
    "## Case Study\n",
    "\n",
    " 1. Name    : Vaibhav Bichave\n",
    " 2. class   : BE 10 (IT)\n",
    " 3. Roll No.: 43209\n",
    " \n",
    " ### Problem Statement : \n",
    " Recognize optical character using ANN"
   ]
  },
  {
   "cell_type": "code",
   "execution_count": 1,
   "metadata": {
    "id": "TfiOtUcwtjHx"
   },
   "outputs": [],
   "source": [
    "import pandas as pd\n",
    "import numpy as np\n",
    "import seaborn as sns\n",
    "import matplotlib.pyplot as plt\n",
    "import warnings\n",
    "warnings.filterwarnings\n",
    "%matplotlib inline\n",
    "import tensorflow as tf"
   ]
  },
  {
   "cell_type": "code",
   "execution_count": 2,
   "metadata": {
    "colab": {
     "base_uri": "https://localhost:8080/"
    },
    "id": "XCZpZ0bPt7lM",
    "outputId": "b82294e2-8c94-42dc-c5e6-2ab5ddbb3b9c"
   },
   "outputs": [
    {
     "data": {
      "text/plain": [
       "(10000, 28, 28)"
      ]
     },
     "execution_count": 2,
     "metadata": {},
     "output_type": "execute_result"
    }
   ],
   "source": [
    "(x_train, y_train), (x_test, y_test) = tf.keras.datasets.mnist.load_data()\n",
    "x_test.shape"
   ]
  },
  {
   "cell_type": "code",
   "execution_count": 3,
   "metadata": {
    "colab": {
     "base_uri": "https://localhost:8080/",
     "height": 595
    },
    "id": "3JgtE-N9uJtZ",
    "outputId": "fea6adf3-017e-4e41-a601-8929b57642f6"
   },
   "outputs": [
    {
     "data": {
      "image/png": "[encoded data removed]",
      "text/plain": [
       "<Figure size 720x720 with 25 Axes>"
      ]
     },
     "metadata": {
      "needs_background": "light"
     },
     "output_type": "display_data"
    }
   ],
   "source": [
    "fig, axs = plt.subplots(5, 5, figsize=(10,10))\n",
    "plt.gray()\n",
    "for i,a in enumerate(axs.flat):\n",
    "  a.matshow(x_train[i])\n",
    "  a.axis('off')\n",
    "  a.set_title('Number {}'.format(y_train[i]))"
   ]
  },
  {
   "cell_type": "code",
   "execution_count": 4,
   "metadata": {
    "id": "n7uHcASBXCMm"
   },
   "outputs": [],
   "source": [
    "x_train = x_train.reshape(x_train.shape[0], 28,28,1)\n",
    "x_test = x_test.reshape(x_test.shape[0], 28,28,1)\n",
    "inputshape=(28,28,1)"
   ]
  },
  {
   "cell_type": "code",
   "execution_count": 5,
   "metadata": {
    "id": "DyhIxfTGvaaZ"
   },
   "outputs": [],
   "source": [
    "x_train=x_train.astype('float32')\n",
    "x_test=x_test.astype('float32')\n",
    "x_train/=255\n",
    "x_test/=255"
   ]
  },
  {
   "cell_type": "code",
   "execution_count": 6,
   "metadata": {
    "id": "mki4w_9CZ3pR"
   },
   "outputs": [],
   "source": [
    "from tensorflow.keras.models import Sequential\n",
    "from tensorflow.keras.layers import Dense, Conv2D, Dropout, Flatten, MaxPooling2D\n",
    "model = Sequential()\n",
    "model.add(Conv2D(28, kernel_size=(3,3), input_shape=inputshape))\n",
    "model.add(MaxPooling2D(pool_size=(2, 2)))\n",
    "model.add(Flatten()) \n",
    "model.add(Dense(128, activation=tf.nn.relu))\n",
    "model.add(Dropout(0.2))\n",
    "model.add(Dense(10,activation=tf.nn.softmax))"
   ]
  },
  {
   "cell_type": "code",
   "execution_count": 7,
   "metadata": {
    "colab": {
     "base_uri": "https://localhost:8080/"
    },
    "id": "5yq9e0SabaCt",
    "outputId": "b6c17d32-0050-4da3-9e44-15cd7de85c87"
   },
   "outputs": [
    {
     "name": "stdout",
     "output_type": "stream",
     "text": [
      "Epoch 1/10\n",
      "1875/1875 [==============================] - 32s 17ms/step - loss: 0.2066 - accuracy: 0.9382\n",
      "Epoch 2/10\n",
      "1875/1875 [==============================] - 33s 17ms/step - loss: 0.0816 - accuracy: 0.9748\n",
      "Epoch 3/10\n",
      "1875/1875 [==============================] - 32s 17ms/step - loss: 0.0569 - accuracy: 0.9821\n",
      "Epoch 4/10\n",
      "1875/1875 [==============================] - 33s 18ms/step - loss: 0.0431 - accuracy: 0.9867\n",
      "Epoch 5/10\n",
      "1875/1875 [==============================] - 37s 20ms/step - loss: 0.0351 - accuracy: 0.9881\n",
      "Epoch 6/10\n",
      "1875/1875 [==============================] - 33s 17ms/step - loss: 0.0275 - accuracy: 0.9908\n",
      "Epoch 7/10\n",
      "1875/1875 [==============================] - 34s 18ms/step - loss: 0.0267 - accuracy: 0.9912\n",
      "Epoch 8/10\n",
      "1875/1875 [==============================] - 32s 17ms/step - loss: 0.0212 - accuracy: 0.9927\n",
      "Epoch 9/10\n",
      "1875/1875 [==============================] - 33s 17ms/step - loss: 0.0176 - accuracy: 0.9937\n",
      "Epoch 10/10\n",
      "1875/1875 [==============================] - 32s 17ms/step - loss: 0.0175 - accuracy: 0.9938\n"
     ]
    },
    {
     "data": {
      "text/plain": [
       "<keras.callbacks.History at 0x8188580>"
      ]
     },
     "execution_count": 7,
     "metadata": {},
     "output_type": "execute_result"
    }
   ],
   "source": [
    "model.compile(optimizer='adam', loss='sparse_categorical_crossentropy', metrics=['accuracy'])\n",
    "model.fit(x=x_train,y=y_train, epochs=10)"
   ]
  },
  {
   "cell_type": "code",
   "execution_count": 8,
   "metadata": {
    "colab": {
     "base_uri": "https://localhost:8080/"
    },
    "id": "bZO1mpZlb4mX",
    "outputId": "10cc55c6-e7a3-4d1b-a5bb-e458abbdb248"
   },
   "outputs": [
    {
     "name": "stdout",
     "output_type": "stream",
     "text": [
      "313/313 [==============================] - 2s 6ms/step - loss: 0.0649 - accuracy: 0.9852\n",
      "\n",
      "accuracy: 98.52%\n"
     ]
    }
   ],
   "source": [
    "scores = model.evaluate(x_test, y_test)\n",
    "print(\"\\n%s: %.2f%%\" % (model.metrics_names[1], scores[1]*100))"
   ]
  },
  {
   "cell_type": "code",
   "execution_count": 9,
   "metadata": {
    "colab": {
     "base_uri": "https://localhost:8080/"
    },
    "id": "2X-nWnRz5Qxz",
    "outputId": "b1521d3e-2241-42f3-e659-1b25cb17dd59"
   },
   "outputs": [
    {
     "name": "stdout",
     "output_type": "stream",
     "text": [
      "Requirement already satisfied: ann_visualizer in c:\\users\\admin\\appdata\\local\\programs\\python\\python38\\lib\\site-packages (2.5)\n"
     ]
    }
   ],
   "source": [
    "!pip install ann_visualizer"
   ]
  },
  {
   "cell_type": "code",
   "execution_count": 18,
   "metadata": {
    "id": "msIBjQoo6Fod"
   },
   "outputs": [],
   "source": [
    "from ann_visualizer.visualize import ann_viz;\n",
    "ann_viz(model, title=\"Neural Network\")"
   ]
  }
 ],
 "metadata": {
  "accelerator": "GPU",
  "colab": {
   "collapsed_sections": [],
   "provenance": []
  },
  "kernelspec": {
   "display_name": "Python 3 (ipykernel)",
   "language": "python",
   "name": "python3"
  },
  "language_info": {
   "codemirror_mode": {
    "name": "ipython",
    "version": 3
   },
   "file_extension": ".py",
   "mimetype": "text/x-python",
   "name": "python",
   "nbconvert_exporter": "python",
   "pygments_lexer": "ipython3",
   "version": "3.8.6"
  }
 },
 "nbformat": 4,
 "nbformat_minor": 1
}
