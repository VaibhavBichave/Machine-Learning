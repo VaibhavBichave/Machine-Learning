{
 "cells": [
  {
   "cell_type": "markdown",
   "metadata": {},
   "source": [
    "## Assignment No. 1\n",
    "\n",
    " 1. Name    : Vaibhav Bichave\n",
    " 2. class   : TE 10\n",
    " 3. Roll No.: 33209"
   ]
  },
  {
   "cell_type": "code",
   "execution_count": 1,
   "metadata": {},
   "outputs": [],
   "source": [
    "#importing required Libraries\n",
    "\n",
    "import numpy as np\n",
    "import pandas as pd\n",
    "import matplotlib.pyplot as plt\n",
    "import seaborn as sns"
   ]
  },
  {
   "cell_type": "code",
   "execution_count": 2,
   "metadata": {},
   "outputs": [],
   "source": [
    "data=pd.read_csv(\"infy data.csv\")"
   ]
  },
  {
   "cell_type": "code",
   "execution_count": 3,
   "metadata": {},
   "outputs": [
    {
     "data": {
      "text/html": [
       "<div>\n",
       "<style scoped>\n",
       "    .dataframe tbody tr th:only-of-type {\n",
       "        vertical-align: middle;\n",
       "    }\n",
       "\n",
       "    .dataframe tbody tr th {\n",
       "        vertical-align: top;\n",
       "    }\n",
       "\n",
       "    .dataframe thead th {\n",
       "        text-align: right;\n",
       "    }\n",
       "</style>\n",
       "<table border=\"1\" class=\"dataframe\">\n",
       "  <thead>\n",
       "    <tr style=\"text-align: right;\">\n",
       "      <th></th>\n",
       "      <th>Symbol</th>\n",
       "      <th>Date</th>\n",
       "      <th>Prev Close</th>\n",
       "      <th>Open Price</th>\n",
       "      <th>High Price</th>\n",
       "      <th>Low Price</th>\n",
       "      <th>Last Price</th>\n",
       "      <th>Close Price</th>\n",
       "      <th>Average Price</th>\n",
       "      <th>Total Traded Quantity</th>\n",
       "      <th>Turnover</th>\n",
       "      <th>No. of Trades</th>\n",
       "      <th>Deliverable Qty</th>\n",
       "      <th>% Dly Qt to Traded Qty</th>\n",
       "    </tr>\n",
       "  </thead>\n",
       "  <tbody>\n",
       "    <tr>\n",
       "      <th>0</th>\n",
       "      <td>INFY</td>\n",
       "      <td>29-Jul-21</td>\n",
       "      <td>1605.60</td>\n",
       "      <td>1600.10</td>\n",
       "      <td>1620.00</td>\n",
       "      <td>1600.10</td>\n",
       "      <td>1615.50</td>\n",
       "      <td>1617.00</td>\n",
       "      <td>1614.80</td>\n",
       "      <td>4660873</td>\n",
       "      <td>7526375522</td>\n",
       "      <td>144550</td>\n",
       "      <td>2926321</td>\n",
       "      <td>62.78</td>\n",
       "    </tr>\n",
       "    <tr>\n",
       "      <th>1</th>\n",
       "      <td>INFY</td>\n",
       "      <td>30-Jul-21</td>\n",
       "      <td>1617.00</td>\n",
       "      <td>1610.00</td>\n",
       "      <td>1623.40</td>\n",
       "      <td>1606.15</td>\n",
       "      <td>1611.75</td>\n",
       "      <td>1610.50</td>\n",
       "      <td>1613.35</td>\n",
       "      <td>6234257</td>\n",
       "      <td>10058016360</td>\n",
       "      <td>136907</td>\n",
       "      <td>4485149</td>\n",
       "      <td>71.94</td>\n",
       "    </tr>\n",
       "    <tr>\n",
       "      <th>2</th>\n",
       "      <td>INFY</td>\n",
       "      <td>02-Aug-21</td>\n",
       "      <td>1610.50</td>\n",
       "      <td>1627.45</td>\n",
       "      <td>1634.75</td>\n",
       "      <td>1619.20</td>\n",
       "      <td>1632.00</td>\n",
       "      <td>1631.55</td>\n",
       "      <td>1627.56</td>\n",
       "      <td>5553389</td>\n",
       "      <td>9038450771</td>\n",
       "      <td>123236</td>\n",
       "      <td>4318503</td>\n",
       "      <td>77.76</td>\n",
       "    </tr>\n",
       "    <tr>\n",
       "      <th>3</th>\n",
       "      <td>INFY</td>\n",
       "      <td>03-Aug-21</td>\n",
       "      <td>1631.55</td>\n",
       "      <td>1647.00</td>\n",
       "      <td>1658.65</td>\n",
       "      <td>1635.60</td>\n",
       "      <td>1657.00</td>\n",
       "      <td>1655.20</td>\n",
       "      <td>1645.86</td>\n",
       "      <td>5513668</td>\n",
       "      <td>9074703957</td>\n",
       "      <td>140415</td>\n",
       "      <td>3887460</td>\n",
       "      <td>70.51</td>\n",
       "    </tr>\n",
       "    <tr>\n",
       "      <th>4</th>\n",
       "      <td>INFY</td>\n",
       "      <td>04-Aug-21</td>\n",
       "      <td>1655.20</td>\n",
       "      <td>1669.10</td>\n",
       "      <td>1679.90</td>\n",
       "      <td>1639.05</td>\n",
       "      <td>1648.55</td>\n",
       "      <td>1649.25</td>\n",
       "      <td>1653.26</td>\n",
       "      <td>6740391</td>\n",
       "      <td>11143605331</td>\n",
       "      <td>152430</td>\n",
       "      <td>4752601</td>\n",
       "      <td>70.51</td>\n",
       "    </tr>\n",
       "  </tbody>\n",
       "</table>\n",
       "</div>"
      ],
      "text/plain": [
       "  Symbol       Date  Prev Close  Open Price  High Price  Low Price  \\\n",
       "0   INFY  29-Jul-21     1605.60     1600.10     1620.00    1600.10   \n",
       "1   INFY  30-Jul-21     1617.00     1610.00     1623.40    1606.15   \n",
       "2   INFY  02-Aug-21     1610.50     1627.45     1634.75    1619.20   \n",
       "3   INFY  03-Aug-21     1631.55     1647.00     1658.65    1635.60   \n",
       "4   INFY  04-Aug-21     1655.20     1669.10     1679.90    1639.05   \n",
       "\n",
       "   Last Price  Close Price  Average Price  Total Traded Quantity     Turnover  \\\n",
       "0     1615.50      1617.00        1614.80                4660873   7526375522   \n",
       "1     1611.75      1610.50        1613.35                6234257  10058016360   \n",
       "2     1632.00      1631.55        1627.56                5553389   9038450771   \n",
       "3     1657.00      1655.20        1645.86                5513668   9074703957   \n",
       "4     1648.55      1649.25        1653.26                6740391  11143605331   \n",
       "\n",
       "   No. of Trades  Deliverable Qty  % Dly Qt to Traded Qty  \n",
       "0         144550          2926321                   62.78  \n",
       "1         136907          4485149                   71.94  \n",
       "2         123236          4318503                   77.76  \n",
       "3         140415          3887460                   70.51  \n",
       "4         152430          4752601                   70.51  "
      ]
     },
     "execution_count": 3,
     "metadata": {},
     "output_type": "execute_result"
    }
   ],
   "source": [
    "data.head()"
   ]
  },
  {
   "cell_type": "code",
   "execution_count": 4,
   "metadata": {},
   "outputs": [
    {
     "data": {
      "text/plain": [
       "(11, 14)"
      ]
     },
     "execution_count": 4,
     "metadata": {},
     "output_type": "execute_result"
    }
   ],
   "source": [
    "data.shape"
   ]
  },
  {
   "cell_type": "code",
   "execution_count": 5,
   "metadata": {},
   "outputs": [
    {
     "data": {
      "text/html": [
       "<div>\n",
       "<style scoped>\n",
       "    .dataframe tbody tr th:only-of-type {\n",
       "        vertical-align: middle;\n",
       "    }\n",
       "\n",
       "    .dataframe tbody tr th {\n",
       "        vertical-align: top;\n",
       "    }\n",
       "\n",
       "    .dataframe thead th {\n",
       "        text-align: right;\n",
       "    }\n",
       "</style>\n",
       "<table border=\"1\" class=\"dataframe\">\n",
       "  <thead>\n",
       "    <tr style=\"text-align: right;\">\n",
       "      <th></th>\n",
       "      <th>Prev Close</th>\n",
       "      <th>Open Price</th>\n",
       "      <th>High Price</th>\n",
       "      <th>Low Price</th>\n",
       "      <th>Last Price</th>\n",
       "      <th>Close Price</th>\n",
       "      <th>Average Price</th>\n",
       "      <th>Total Traded Quantity</th>\n",
       "      <th>Turnover</th>\n",
       "      <th>No. of Trades</th>\n",
       "      <th>Deliverable Qty</th>\n",
       "      <th>% Dly Qt to Traded Qty</th>\n",
       "    </tr>\n",
       "  </thead>\n",
       "  <tbody>\n",
       "    <tr>\n",
       "      <th>count</th>\n",
       "      <td>11.000000</td>\n",
       "      <td>11.000000</td>\n",
       "      <td>11.000000</td>\n",
       "      <td>11.000000</td>\n",
       "      <td>11.000000</td>\n",
       "      <td>11.000000</td>\n",
       "      <td>11.000000</td>\n",
       "      <td>1.100000e+01</td>\n",
       "      <td>1.100000e+01</td>\n",
       "      <td>11.000000</td>\n",
       "      <td>1.100000e+01</td>\n",
       "      <td>11.000000</td>\n",
       "    </tr>\n",
       "    <tr>\n",
       "      <th>mean</th>\n",
       "      <td>1644.631818</td>\n",
       "      <td>1649.372727</td>\n",
       "      <td>1661.027273</td>\n",
       "      <td>1640.054545</td>\n",
       "      <td>1651.590909</td>\n",
       "      <td>1652.268182</td>\n",
       "      <td>1650.747273</td>\n",
       "      <td>5.482016e+06</td>\n",
       "      <td>9.051230e+09</td>\n",
       "      <td>133797.909091</td>\n",
       "      <td>3.940271e+06</td>\n",
       "      <td>71.594545</td>\n",
       "    </tr>\n",
       "    <tr>\n",
       "      <th>std</th>\n",
       "      <td>25.224435</td>\n",
       "      <td>26.319207</td>\n",
       "      <td>25.226022</td>\n",
       "      <td>23.833731</td>\n",
       "      <td>23.771998</td>\n",
       "      <td>24.939770</td>\n",
       "      <td>24.245744</td>\n",
       "      <td>9.090673e+05</td>\n",
       "      <td>1.520892e+09</td>\n",
       "      <td>16868.021434</td>\n",
       "      <td>7.662155e+05</td>\n",
       "      <td>4.057729</td>\n",
       "    </tr>\n",
       "    <tr>\n",
       "      <th>min</th>\n",
       "      <td>1605.600000</td>\n",
       "      <td>1600.100000</td>\n",
       "      <td>1620.000000</td>\n",
       "      <td>1600.100000</td>\n",
       "      <td>1611.750000</td>\n",
       "      <td>1610.500000</td>\n",
       "      <td>1613.350000</td>\n",
       "      <td>3.754855e+06</td>\n",
       "      <td>6.206401e+09</td>\n",
       "      <td>100454.000000</td>\n",
       "      <td>2.558438e+06</td>\n",
       "      <td>62.780000</td>\n",
       "    </tr>\n",
       "    <tr>\n",
       "      <th>25%</th>\n",
       "      <td>1624.275000</td>\n",
       "      <td>1637.225000</td>\n",
       "      <td>1646.700000</td>\n",
       "      <td>1627.400000</td>\n",
       "      <td>1640.275000</td>\n",
       "      <td>1640.400000</td>\n",
       "      <td>1636.710000</td>\n",
       "      <td>4.959058e+06</td>\n",
       "      <td>8.263059e+09</td>\n",
       "      <td>123642.500000</td>\n",
       "      <td>3.630018e+06</td>\n",
       "      <td>69.950000</td>\n",
       "    </tr>\n",
       "    <tr>\n",
       "      <th>50%</th>\n",
       "      <td>1650.200000</td>\n",
       "      <td>1657.000000</td>\n",
       "      <td>1666.000000</td>\n",
       "      <td>1644.000000</td>\n",
       "      <td>1652.100000</td>\n",
       "      <td>1653.550000</td>\n",
       "      <td>1653.260000</td>\n",
       "      <td>5.513668e+06</td>\n",
       "      <td>9.038451e+09</td>\n",
       "      <td>136907.000000</td>\n",
       "      <td>3.887460e+06</td>\n",
       "      <td>71.940000</td>\n",
       "    </tr>\n",
       "    <tr>\n",
       "      <th>75%</th>\n",
       "      <td>1659.250000</td>\n",
       "      <td>1668.550000</td>\n",
       "      <td>1679.950000</td>\n",
       "      <td>1654.050000</td>\n",
       "      <td>1669.275000</td>\n",
       "      <td>1670.275000</td>\n",
       "      <td>1665.515000</td>\n",
       "      <td>5.946918e+06</td>\n",
       "      <td>9.804708e+09</td>\n",
       "      <td>146938.000000</td>\n",
       "      <td>4.401826e+06</td>\n",
       "      <td>73.860000</td>\n",
       "    </tr>\n",
       "    <tr>\n",
       "      <th>max</th>\n",
       "      <td>1677.550000</td>\n",
       "      <td>1679.150000</td>\n",
       "      <td>1696.500000</td>\n",
       "      <td>1674.000000</td>\n",
       "      <td>1684.950000</td>\n",
       "      <td>1689.600000</td>\n",
       "      <td>1687.650000</td>\n",
       "      <td>6.846517e+06</td>\n",
       "      <td>1.146306e+10</td>\n",
       "      <td>152430.000000</td>\n",
       "      <td>5.175394e+06</td>\n",
       "      <td>77.760000</td>\n",
       "    </tr>\n",
       "  </tbody>\n",
       "</table>\n",
       "</div>"
      ],
      "text/plain": [
       "        Prev Close   Open Price   High Price    Low Price   Last Price  \\\n",
       "count    11.000000    11.000000    11.000000    11.000000    11.000000   \n",
       "mean   1644.631818  1649.372727  1661.027273  1640.054545  1651.590909   \n",
       "std      25.224435    26.319207    25.226022    23.833731    23.771998   \n",
       "min    1605.600000  1600.100000  1620.000000  1600.100000  1611.750000   \n",
       "25%    1624.275000  1637.225000  1646.700000  1627.400000  1640.275000   \n",
       "50%    1650.200000  1657.000000  1666.000000  1644.000000  1652.100000   \n",
       "75%    1659.250000  1668.550000  1679.950000  1654.050000  1669.275000   \n",
       "max    1677.550000  1679.150000  1696.500000  1674.000000  1684.950000   \n",
       "\n",
       "       Close Price  Average Price  Total Traded Quantity      Turnover  \\\n",
       "count    11.000000      11.000000           1.100000e+01  1.100000e+01   \n",
       "mean   1652.268182    1650.747273           5.482016e+06  9.051230e+09   \n",
       "std      24.939770      24.245744           9.090673e+05  1.520892e+09   \n",
       "min    1610.500000    1613.350000           3.754855e+06  6.206401e+09   \n",
       "25%    1640.400000    1636.710000           4.959058e+06  8.263059e+09   \n",
       "50%    1653.550000    1653.260000           5.513668e+06  9.038451e+09   \n",
       "75%    1670.275000    1665.515000           5.946918e+06  9.804708e+09   \n",
       "max    1689.600000    1687.650000           6.846517e+06  1.146306e+10   \n",
       "\n",
       "       No. of Trades  Deliverable Qty  % Dly Qt to Traded Qty  \n",
       "count      11.000000     1.100000e+01               11.000000  \n",
       "mean   133797.909091     3.940271e+06               71.594545  \n",
       "std     16868.021434     7.662155e+05                4.057729  \n",
       "min    100454.000000     2.558438e+06               62.780000  \n",
       "25%    123642.500000     3.630018e+06               69.950000  \n",
       "50%    136907.000000     3.887460e+06               71.940000  \n",
       "75%    146938.000000     4.401826e+06               73.860000  \n",
       "max    152430.000000     5.175394e+06               77.760000  "
      ]
     },
     "execution_count": 5,
     "metadata": {},
     "output_type": "execute_result"
    }
   ],
   "source": [
    "data.describe()"
   ]
  },
  {
   "cell_type": "code",
   "execution_count": 6,
   "metadata": {},
   "outputs": [],
   "source": [
    "closed_price = data[\"Close Price\"]\n",
    "date = data[\"Date\"]\n",
    "open_price=data[\"Open Price\"]"
   ]
  },
  {
   "cell_type": "code",
   "execution_count": 7,
   "metadata": {},
   "outputs": [
    {
     "data": {
      "text/plain": [
       "0     1617.00\n",
       "1     1610.50\n",
       "2     1631.55\n",
       "3     1655.20\n",
       "4     1649.25\n",
       "5     1653.55\n",
       "6     1650.20\n",
       "7     1663.30\n",
       "8     1677.25\n",
       "9     1677.55\n",
       "10    1689.60\n",
       "Name: Close Price, dtype: float64"
      ]
     },
     "execution_count": 7,
     "metadata": {},
     "output_type": "execute_result"
    }
   ],
   "source": [
    "closed_price"
   ]
  },
  {
   "cell_type": "code",
   "execution_count": 8,
   "metadata": {},
   "outputs": [
    {
     "data": {
      "text/plain": [
       "0     1600.10\n",
       "1     1610.00\n",
       "2     1627.45\n",
       "3     1647.00\n",
       "4     1669.10\n",
       "5     1649.50\n",
       "6     1657.00\n",
       "7     1661.00\n",
       "8     1668.00\n",
       "9     1674.80\n",
       "10    1679.15\n",
       "Name: Open Price, dtype: float64"
      ]
     },
     "execution_count": 8,
     "metadata": {},
     "output_type": "execute_result"
    }
   ],
   "source": [
    "open_price"
   ]
  },
  {
   "cell_type": "code",
   "execution_count": 9,
   "metadata": {},
   "outputs": [
    {
     "name": "stdout",
     "output_type": "stream",
     "text": [
      "Index(['Symbol', 'Date', 'Prev Close', 'Open Price', 'High Price', 'Low Price',\n",
      "       'Last Price', 'Close Price', 'Average Price', 'Total Traded Quantity',\n",
      "       'Turnover', 'No. of Trades', 'Deliverable Qty',\n",
      "       '% Dly Qt to Traded Qty'],\n",
      "      dtype='object')\n"
     ]
    }
   ],
   "source": [
    "print(data.columns)"
   ]
  },
  {
   "cell_type": "markdown",
   "metadata": {},
   "source": [
    "### Without using Build in Function"
   ]
  },
  {
   "cell_type": "code",
   "execution_count": 10,
   "metadata": {},
   "outputs": [],
   "source": [
    "#mean calculation\n",
    "def mean(column):\n",
    "    return sum(column)/len(column)\n",
    "\n",
    "#varience calculaion\n",
    "def var(column):\n",
    "    x2=0\n",
    "    x_mean=mean(column)\n",
    "    for i in range(len(column)):\n",
    "        x2=x2+(column[i]-x_mean)**2\n",
    "    return x2/len(column)\n",
    "\n",
    "#standard_deviation calculation\n",
    "def std(column):\n",
    "    return var(column)**(0.5)\n",
    "\n",
    "#standard_error calculation\n",
    "def se(column):\n",
    "    return std(column)/(len(column)**(0.5))"
   ]
  },
  {
   "cell_type": "code",
   "execution_count": 11,
   "metadata": {},
   "outputs": [
    {
     "name": "stdout",
     "output_type": "stream",
     "text": [
      "For Closed Price :\n",
      "Mean: 1652.2681818181816\n",
      "Variance: 565.447396694214\n",
      "Standard Deviation: 23.779137845897903\n",
      "Standard Error: 7.169679824816662\n",
      "\n"
     ]
    }
   ],
   "source": [
    "print(\"\"\"For Closed Price :\n",
    "Mean: {0}\n",
    "Variance: {1}\n",
    "Standard Deviation: {2}\n",
    "Standard Error: {3}\n",
    "\"\"\".format(mean(closed_price), var(closed_price), std(closed_price), se(closed_price)))"
   ]
  },
  {
   "cell_type": "code",
   "execution_count": 12,
   "metadata": {},
   "outputs": [
    {
     "name": "stdout",
     "output_type": "stream",
     "text": [
      "For Open Price :\n",
      "Mean: 1649.3727272727274\n",
      "Variance: 629.7278925619839\n",
      "Standard Deviation: 25.094379700681664\n",
      "Standard Error: 7.566240164897466\n",
      "\n"
     ]
    }
   ],
   "source": [
    "print(\"\"\"For Open Price :\n",
    "Mean: {0}\n",
    "Variance: {1}\n",
    "Standard Deviation: {2}\n",
    "Standard Error: {3}\n",
    "\"\"\".format(mean(open_price), var(open_price), std(open_price), se(open_price)))"
   ]
  },
  {
   "cell_type": "code",
   "execution_count": 13,
   "metadata": {},
   "outputs": [],
   "source": [
    "#Covarience calculation\n",
    "def covar(column1,column2):\n",
    "    sum=0\n",
    "    x_mean=mean(column1)\n",
    "    y_mean=mean(column2)\n",
    "    for i in range(len(column1)):\n",
    "        sum+=(column1[i]-x_mean)*(column2[i]-y_mean)\n",
    "    return sum/(len(column1)-1)\n",
    "\n",
    "\n",
    "#Correlation calculation\n",
    "def corr(column1,column2):\n",
    "    x2=y2=sum=0\n",
    "    x_mean=mean(column1)\n",
    "    y_mean=mean(column2)\n",
    "    for i in range(len(column1)):\n",
    "        sum+=(column1[i]-x_mean)*(column2[i]-y_mean)\n",
    "        x2+=(column1[i]-x_mean)**2\n",
    "        y2+=(column2[i]-y_mean)**2\n",
    "    return sum/((x2*y2)**(0.5))\n"
   ]
  },
  {
   "cell_type": "code",
   "execution_count": 14,
   "metadata": {},
   "outputs": [
    {
     "name": "stdout",
     "output_type": "stream",
     "text": [
      "Between Closed Price and Open Price :\n",
      "Covarience : 610.2477954545457\n",
      "Correlation: 0.9296960046419308\n",
      "\n"
     ]
    }
   ],
   "source": [
    "print(\"\"\"Between Closed Price and Open Price :\n",
    "Covarience : {0}\n",
    "Correlation: {1}\n",
    "\"\"\".format(covar(closed_price,open_price),corr(closed_price,open_price)))"
   ]
  },
  {
   "cell_type": "markdown",
   "metadata": {},
   "source": [
    "### Using Build in Function "
   ]
  },
  {
   "cell_type": "code",
   "execution_count": 15,
   "metadata": {},
   "outputs": [
    {
     "name": "stdout",
     "output_type": "stream",
     "text": [
      "For Closed Price :\n",
      "Mean: 1652.2681818181816\n",
      "Variance: 565.447396694214\n",
      "Standard Deviation: 23.779137845897903\n",
      "Standard Error: 7.169679824816662\n",
      "\n"
     ]
    }
   ],
   "source": [
    "mean = np.mean(closed_price)\n",
    "variance = np.var(closed_price)\n",
    "standard_deviation = np.std(closed_price)\n",
    "standard_error = standard_deviation / np.sqrt(np.size(closed_price))\n",
    "\n",
    "print(\"\"\"For Closed Price :\n",
    "Mean: {0}\n",
    "Variance: {1}\n",
    "Standard Deviation: {2}\n",
    "Standard Error: {3}\n",
    "\"\"\".format(mean, variance, standard_deviation, standard_error))"
   ]
  },
  {
   "cell_type": "code",
   "execution_count": 16,
   "metadata": {},
   "outputs": [
    {
     "name": "stdout",
     "output_type": "stream",
     "text": [
      "For Open Price :\n",
      "Mean: 1649.3727272727274\n",
      "Variance: 629.7278925619839\n",
      "Standard Deviation: 25.094379700681664\n",
      "Standard Error: 7.566240164897466\n",
      "\n"
     ]
    }
   ],
   "source": [
    "mean = np.mean(open_price)\n",
    "variance = np.var(open_price)\n",
    "standard_deviation = np.std(open_price)\n",
    "standard_error = standard_deviation / np.sqrt(np.size(open_price))\n",
    "\n",
    "print(\"\"\"For Open Price :\n",
    "Mean: {0}\n",
    "Variance: {1}\n",
    "Standard Deviation: {2}\n",
    "Standard Error: {3}\n",
    "\"\"\".format(mean, variance, standard_deviation, standard_error))"
   ]
  },
  {
   "cell_type": "code",
   "execution_count": 17,
   "metadata": {},
   "outputs": [
    {
     "name": "stdout",
     "output_type": "stream",
     "text": [
      "Between Closed Price and Open Price :\n",
      "Covarience : \n",
      "[[692.70068182 610.24779545]\n",
      " [610.24779545 621.99213636]]\n",
      "\n",
      "Correlation: \n",
      "[[1.       0.929696]\n",
      " [0.929696 1.      ]]\n",
      "\n"
     ]
    }
   ],
   "source": [
    "print(\"\"\"Between Closed Price and Open Price :\n",
    "Covarience : \n",
    "{0}\n",
    "\n",
    "Correlation: \n",
    "{1}\n",
    "\"\"\".format(np.cov(open_price, closed_price),np.corrcoef(open_price, closed_price)))"
   ]
  },
  {
   "cell_type": "markdown",
   "metadata": {},
   "source": [
    "### Data visualization"
   ]
  },
  {
   "cell_type": "code",
   "execution_count": 18,
   "metadata": {},
   "outputs": [
    {
     "data": {
      "image/png": "[encoded data removed]",
      "text/plain": [
       "<Figure size 1080x792 with 12 Axes>"
      ]
     },
     "metadata": {
      "needs_background": "light"
     },
     "output_type": "display_data"
    }
   ],
   "source": [
    "#histogram for Visualizing\n",
    "\n",
    "data.hist(bins = 50,figsize = (15,11));"
   ]
  },
  {
   "cell_type": "code",
   "execution_count": 19,
   "metadata": {},
   "outputs": [
    {
     "data": {
      "image/png": "[encoded data removed]",
      "text/plain": [
       "<Figure size 432x288 with 1 Axes>"
      ]
     },
     "metadata": {
      "needs_background": "light"
     },
     "output_type": "display_data"
    }
   ],
   "source": [
    "plt.hist(closed_price, color = 'blue', edgecolor = 'black',bins = 10);"
   ]
  },
  {
   "cell_type": "code",
   "execution_count": 20,
   "metadata": {},
   "outputs": [
    {
     "data": {
      "image/png": "[encoded data removed]",
      "text/plain": [
       "<Figure size 432x288 with 1 Axes>"
      ]
     },
     "metadata": {
      "needs_background": "light"
     },
     "output_type": "display_data"
    }
   ],
   "source": [
    "plt.hist(open_price, color = 'orange', edgecolor = 'black',bins = 10);"
   ]
  },
  {
   "cell_type": "code",
   "execution_count": 23,
   "metadata": {},
   "outputs": [
    {
     "data": {
      "image/png": "[encoded data removed]",
      "text/plain": [
       "<Figure size 432x288 with 1 Axes>"
      ]
     },
     "metadata": {
      "needs_background": "light"
     },
     "output_type": "display_data"
    }
   ],
   "source": [
    "plt.plot(date, closed_price,label= \"Closed Price\", color= \"green\")\n",
    "plt.plot(date, open_price,label= \"Closed Price\", color= \"red\")\n",
    "plt.grid()\n",
    "# naming the x axis\n",
    "plt.xlabel('Date')\n",
    "plt.xticks(rotation=90)\n",
    "# naming the y axis\n",
    "plt.ylabel('Closed Price')\n",
    "  \n",
    "# giving a title to my graph\n",
    "plt.title('Price VS Date')\n",
    "# showing legend\n",
    "plt.legend()\n",
    "# function to show the plot\n",
    "plt.show()\n"
   ]
  },
  {
   "cell_type": "code",
   "execution_count": 25,
   "metadata": {},
   "outputs": [
    {
     "data": {
      "image/png": "[encoded data removed]",
      "text/plain": [
       "<Figure size 432x288 with 1 Axes>"
      ]
     },
     "metadata": {
      "needs_background": "light"
     },
     "output_type": "display_data"
    }
   ],
   "source": [
    "# plotting points as a scatter plot\n",
    "plt.scatter(closed_price, date, label= \"Closed Price\", color= \"green\", marker= \"*\", s=30)\n",
    "plt.scatter(open_price, date, label= \"Open Price\", color= \"red\",marker= \"*\", s=30)\n",
    "plt.grid()\n",
    "# x-axis label\n",
    "plt.xlabel('Date')\n",
    "# frequency label\n",
    "plt.ylabel('Closed Price')\n",
    "# plot title\n",
    "plt.title('Scatter Plot Price VS Date')\n",
    "# showing legend\n",
    "plt.legend()\n",
    "  \n",
    "# function to show the plot\n",
    "plt.show()"
   ]
  },
  {
   "cell_type": "markdown",
   "metadata": {},
   "source": [
    "### Conclusion"
   ]
  },
  {
   "cell_type": "markdown",
   "metadata": {},
   "source": [
    "We have successfully calculated mean, varience, standard deviation and standard error without build in function and using build in function. Also we have Calculated Covarience and Correlation betwwen Open Price and Closed Price ."
   ]
  }
 ],
 "metadata": {
  "kernelspec": {
   "display_name": "Python 3",
   "language": "python",
   "name": "python3"
  },
  "language_info": {
   "codemirror_mode": {
    "name": "ipython",
    "version": 3
   },
   "file_extension": ".py",
   "mimetype": "text/x-python",
   "name": "python",
   "nbconvert_exporter": "python",
   "pygments_lexer": "ipython3",
   "version": "3.8.5"
  }
 },
 "nbformat": 4,
 "nbformat_minor": 4
}
