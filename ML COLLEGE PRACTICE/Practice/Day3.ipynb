{
 "cells": [
  {
   "cell_type": "code",
   "execution_count": null,
   "metadata": {},
   "outputs": [],
   "source": [
    "\"Today's Session is for statistics and iterators\""
   ]
  },
  {
   "cell_type": "code",
   "execution_count": null,
   "metadata": {},
   "outputs": [],
   "source": [
    "#iter , next"
   ]
  },
  {
   "cell_type": "code",
   "execution_count": 1,
   "metadata": {},
   "outputs": [
    {
     "name": "stdout",
     "output_type": "stream",
     "text": [
      "Y\n",
      "e\n",
      "s\n",
      "p\n",
      "y\n",
      "t\n",
      "h\n",
      "o\n",
      "n\n"
     ]
    },
    {
     "ename": "StopIteration",
     "evalue": "",
     "output_type": "error",
     "traceback": [
      "\u001b[1;31m---------------------------------------------------------------------------\u001b[0m",
      "\u001b[1;31mStopIteration\u001b[0m                             Traceback (most recent call last)",
      "\u001b[1;32m<ipython-input-1-be536bc6de51>\u001b[0m in \u001b[0;36m<module>\u001b[1;34m\u001b[0m\n\u001b[0;32m      2\u001b[0m \u001b[0miter_obj\u001b[0m \u001b[1;33m=\u001b[0m \u001b[0miter\u001b[0m\u001b[1;33m(\u001b[0m\u001b[0mvar\u001b[0m\u001b[1;33m)\u001b[0m\u001b[1;33m\u001b[0m\u001b[1;33m\u001b[0m\u001b[0m\n\u001b[0;32m      3\u001b[0m \u001b[1;32mwhile\u001b[0m\u001b[1;33m(\u001b[0m\u001b[0miter_obj\u001b[0m\u001b[1;33m!=\u001b[0m\u001b[1;34m'\\0'\u001b[0m\u001b[1;33m)\u001b[0m\u001b[1;33m:\u001b[0m\u001b[1;33m\u001b[0m\u001b[1;33m\u001b[0m\u001b[0m\n\u001b[1;32m----> 4\u001b[1;33m     \u001b[0mprint\u001b[0m\u001b[1;33m(\u001b[0m\u001b[0mnext\u001b[0m\u001b[1;33m(\u001b[0m\u001b[0miter_obj\u001b[0m\u001b[1;33m)\u001b[0m\u001b[1;33m)\u001b[0m\u001b[1;33m\u001b[0m\u001b[1;33m\u001b[0m\u001b[0m\n\u001b[0m",
      "\u001b[1;31mStopIteration\u001b[0m: "
     ]
    }
   ],
   "source": [
    "var = 'Yespython'\n",
    "iter_obj = iter(var)\n",
    "while(iter_obj!='\\0'):\n",
    "    print(next(iter_obj))"
   ]
  },
  {
   "cell_type": "code",
   "execution_count": 10,
   "metadata": {},
   "outputs": [
    {
     "name": "stdout",
     "output_type": "stream",
     "text": [
      "0\n",
      " type(a) =  <class 'list'>\n"
     ]
    }
   ],
   "source": [
    "#a.index(element)\n",
    "a=[50,10,40,50]\n",
    "print(a.index(50))\n",
    "\n",
    "print ( ' type(a) = ' , type ( a ) )"
   ]
  },
  {
   "cell_type": "code",
   "execution_count": 14,
   "metadata": {},
   "outputs": [
    {
     "name": "stdout",
     "output_type": "stream",
     "text": [
      "1\n",
      "2\n",
      "3\n",
      "4\n",
      "5\n",
      "6\n",
      "7\n",
      "8\n",
      "9\n"
     ]
    }
   ],
   "source": [
    "l1 = [ [ 1 , 2 ,3 ] , [ 4 , 5 , 6 ] ,[ 7 , 8 , 9]]\n",
    "for i in l1:\n",
    "    for j in i:\n",
    "        print(j)"
   ]
  },
  {
   "cell_type": "code",
   "execution_count": 16,
   "metadata": {},
   "outputs": [
    {
     "name": "stdout",
     "output_type": "stream",
     "text": [
      "0 10\n",
      "1 4\n",
      "2 5\n",
      "3 20\n"
     ]
    }
   ],
   "source": [
    "a=[10,4,5,20]\n",
    "for i,v in enumerate(a):\n",
    "    print (i,v)\n",
    "#prints index and value"
   ]
  },
  {
   "cell_type": "code",
   "execution_count": 17,
   "metadata": {},
   "outputs": [
    {
     "name": "stdout",
     "output_type": "stream",
     "text": [
      "1\n",
      "4\n"
     ]
    }
   ],
   "source": [
    "a=[10,4,5,20,4]\n",
    "for i,v in enumerate(a):\n",
    "    if(v==4):\n",
    "        print(i)"
   ]
  },
  {
   "cell_type": "code",
   "execution_count": 22,
   "metadata": {},
   "outputs": [
    {
     "name": "stdout",
     "output_type": "stream",
     "text": [
      "a\n",
      "b\n",
      "c\n",
      "d\n",
      "e\n"
     ]
    }
   ],
   "source": [
    "l1=['a','b','c','d','e']\n",
    "\n",
    "iter_obj=iter(l1)\n",
    "for i in l1:\n",
    "    print(next(iter_obj))\n",
    "    "
   ]
  },
  {
   "cell_type": "code",
   "execution_count": 30,
   "metadata": {},
   "outputs": [
    {
     "name": "stdout",
     "output_type": "stream",
     "text": [
      "st.mean(l1) = 46.666666666666664\n",
      "st.mode(l1) = 10\n",
      "st.median(l1) = 45.0\n",
      "1026.6666666666667\n",
      "855.5555555555555\n",
      "32.041639575194445\n",
      "29.249881291307073\n"
     ]
    }
   ],
   "source": [
    "import statistics as st;\n",
    "import math\n",
    "import scipy.stats as sc;\n",
    "#inbuilt method to find mean,mode ,median\n",
    "l1= [10 , 20 , 40 , 50 , 60 , 100 ]\n",
    "print('st.mean(l1) =',st.mean(l1))\n",
    "print('st.mode(l1) =',st.mode(l1))\n",
    "print('st.median(l1) =',st.median(l1))#middle element of sorted list\n",
    "print(st.variance(l1))\n",
    "print(st.pvariance(l1))#population variance\n",
    "print(st.stdev(l1))\n",
    "print(st.pstdev(l1))"
   ]
  },
  {
   "cell_type": "code",
   "execution_count": 34,
   "metadata": {},
   "outputs": [
    {
     "name": "stdout",
     "output_type": "stream",
     "text": [
      "[[2.03629167 0.9313    ]\n",
      " [0.9313     0.4498    ]]\n",
      "[[1.23 2.12 3.34 4.5 ]\n",
      " [2.56 2.89 3.76 3.95]]\n",
      "[[1.         0.97310541]\n",
      " [0.97310541 1.        ]]\n"
     ]
    }
   ],
   "source": [
    "x = [1.23,2.12,3.34,4.5]\n",
    "y=[2.56,2.89,3.76,3.95]\n",
    "import numpy as np\n",
    "\n",
    "print(np.cov(x,y))#covariance matrix]\n",
    "\n",
    "\n",
    "cov_mat = np.stack((x,y),axis=0)\n",
    "print(cov_mat)\n",
    "\n",
    "\n",
    "print(np.corrcoef(x,y))"
   ]
  },
  {
   "cell_type": "code",
   "execution_count": null,
   "metadata": {},
   "outputs": [],
   "source": []
  }
 ],
 "metadata": {
  "kernelspec": {
   "display_name": "Python 3",
   "language": "python",
   "name": "python3"
  },
  "language_info": {
   "codemirror_mode": {
    "name": "ipython",
    "version": 3
   },
   "file_extension": ".py",
   "mimetype": "text/x-python",
   "name": "python",
   "nbconvert_exporter": "python",
   "pygments_lexer": "ipython3",
   "version": "3.8.5"
  }
 },
 "nbformat": 4,
 "nbformat_minor": 5
}
