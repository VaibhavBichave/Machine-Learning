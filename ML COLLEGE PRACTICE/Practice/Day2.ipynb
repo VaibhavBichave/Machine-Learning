{
 "cells": [
  {
   "cell_type": "code",
   "execution_count": 18,
   "metadata": {},
   "outputs": [
    {
     "name": "stdout",
     "output_type": "stream",
     "text": [
      "This is day 2 of prerequisite course\n",
      "('Vaibhav', 145, 'Om', 'Varad')\n",
      "(1, 4, 6, 8)\n",
      "('f', 't', 'r')\n",
      "(1, 3, 6, 'Vaibhav')\n",
      "----------------------------------------------\n",
      "Vaibhav\n",
      "('Vaibhav', 145, 'Om', 'Varad', 1, 3, 6, 'Vaibhav')\n",
      "----------------------------------------------\n",
      "Maximum of (1, 4, 6, 8) is 8\n",
      "Minimum of (1, 4, 6, 8) is 1\n",
      "Length of (1, 4, 6, 8) is 4\n",
      "('57', 58, 'vaibhav', 'd', True)\n"
     ]
    }
   ],
   "source": [
    "print(\"This is day 2 of prerequisite course\")\n",
    "\n",
    "tup1=(\"Vaibhav\",145,\"Om\",\"Varad\")\n",
    "tup2= 1,4,6,8\n",
    "tup3='f','t','r'\n",
    "tup4=1,3,6,\"Vaibhav\"\n",
    "list=[\"57\",58,\"vaibhav\",'d',True]\n",
    "\n",
    "print(tup1)\n",
    "print(tup2)\n",
    "print(tup3)\n",
    "print(tup4)\n",
    "\n",
    "print(\"----------------------------------------------\")\n",
    "print(tup1[0])\n",
    "tup5=tup1+tup4\n",
    "print(\"Concatitup5)\n",
    "\n",
    "print(\"----------------------------------------------\")\n",
    "print(\"Maximum of\",tup2,\"is\",max(tup2))\n",
    "print(\"Minimum of\",tup2,\"is\",min(tup2))\n",
    "print(\"Length of\",tup2,\"is\",len(tup2))\n",
    "print(tuple(list))"
   ]
  },
  {
   "cell_type": "code",
   "execution_count": 21,
   "metadata": {},
   "outputs": [
    {
     "name": "stdout",
     "output_type": "stream",
     "text": [
      "('Vaibhav', 145, 'Om', 'Varad')\n",
      "('Om', 'Varad')\n",
      "('Vaibhav', 145, 'Om', 'Varad', 1, 3)\n",
      "(3, 6, 'Vaibhav')\n",
      "('Vaibhav', 145, 'Om', 'Varad', 1, 3, 6, 'Vaibhav')\n",
      "('Vaibhav', 6, 3, 1, 'Varad', 'Om', 145, 'Vaibhav')\n"
     ]
    }
   ],
   "source": [
    "print(\"Slicing of tuple\")\n",
    "tup=('Vaibhav', 145, 'Om', 'Varad', 1, 3, 6, 'Vaibhav')\n",
    "print(tup[:4])\n",
    "print(tup[2:4])\n",
    "print(tup[:-2])\n",
    "print(tup[5:])\n",
    "print(tup[:])\n",
    "print(tup[::-1])"
   ]
  },
  {
   "cell_type": "code",
   "execution_count": 26,
   "metadata": {},
   "outputs": [
    {
     "name": "stdout",
     "output_type": "stream",
     "text": [
      "Number of 'p' in ('t', 'p', 'p', 'd', 'h') are 2\n",
      "----------------------------------------------\n",
      "Number of 'p' in ('t', 'p', 'p', 'd', 'h') are 2\n"
     ]
    }
   ],
   "source": [
    "tup=('t','p','p','d','h')\n",
    "print(\"Number of 'p' in\",tup,\"are\",tup.count(\"p\"))\n",
    "\n",
    "print(\"----------------------------------------------\")\n",
    "\n",
    "count=0\n",
    "if(\"p\" in tup):\n",
    "    for i in tup:\n",
    "        if('p'==i):\n",
    "            count+=1\n",
    "print(\"Number of 'p' in\",tup,\"are\",count)\n",
    "\n"
   ]
  },
  {
   "cell_type": "code",
   "execution_count": 32,
   "metadata": {},
   "outputs": [
    {
     "name": "stdout",
     "output_type": "stream",
     "text": [
      "List operation\n",
      "['fruit', 'om', 78.6, 68, 'u']\n",
      "['fruit', 'om', 78.6, 68, 'u', 'fruit', 'om', 78.6, 68, 'u']\n",
      "5\n",
      "fruit om 78.6 68 u \n",
      "False\n"
     ]
    }
   ],
   "source": [
    "print(\"List operation\")\n",
    "list=[\"fruit\",\"om\",78.6,68,'u']\n",
    "print(list)\n",
    "print(list*2)\n",
    "print(len(list))\n",
    "for i in list:\n",
    "    print(i,end=\" \")\n",
    "print()\n",
    "print(\"p\" in list)"
   ]
  },
  {
   "cell_type": "code",
   "execution_count": null,
   "metadata": {},
   "outputs": [],
   "source": []
  }
 ],
 "metadata": {
  "kernelspec": {
   "display_name": "Python 3",
   "language": "python",
   "name": "python3"
  },
  "language_info": {
   "codemirror_mode": {
    "name": "ipython",
    "version": 3
   },
   "file_extension": ".py",
   "mimetype": "text/x-python",
   "name": "python",
   "nbconvert_exporter": "python",
   "pygments_lexer": "ipython3",
   "version": "3.8.5"
  }
 },
 "nbformat": 4,
 "nbformat_minor": 4
}
